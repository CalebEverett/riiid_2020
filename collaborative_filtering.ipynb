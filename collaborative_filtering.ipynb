{
 "cells": [
  {
   "cell_type": "code",
   "execution_count": 67,
   "metadata": {},
   "outputs": [
    {
     "ename": "NameError",
     "evalue": "name 'git' is not defined",
     "output_type": "error",
     "traceback": [
      "\u001b[0;31m---------------------------------------------------------------------------\u001b[0m",
      "\u001b[0;31mNameError\u001b[0m                                 Traceback (most recent call last)",
      "\u001b[0;32m<ipython-input-67-dd3cf1ef990e>\u001b[0m in \u001b[0;36m<module>\u001b[0;34m\u001b[0m\n\u001b[0;32m----> 1\u001b[0;31m \u001b[0mgit\u001b[0m\u001b[0;34m.\u001b[0m\u001b[0mstatus\u001b[0m\u001b[0;34m(\u001b[0m\u001b[0;34m)\u001b[0m\u001b[0;34m\u001b[0m\u001b[0;34m\u001b[0m\u001b[0m\n\u001b[0m",
      "\u001b[0;31mNameError\u001b[0m: name 'git' is not defined"
     ]
    }
   ],
   "source": [
    "git.status()"
   ]
  },
  {
   "cell_type": "code",
   "execution_count": 68,
   "metadata": {
    "colab": {
     "base_uri": "https://localhost:8080/"
    },
    "id": "1gbbiyXJdj4j",
    "outputId": "9e57da8c-42bf-4079-e720-3b73d17b94bc"
   },
   "outputs": [
    {
     "ename": "TypeError",
     "evalue": "unsupported operand type(s) for /: 'str' and 'str'",
     "output_type": "error",
     "traceback": [
      "\u001b[0;31m---------------------------------------------------------------------------\u001b[0m",
      "\u001b[0;31mTypeError\u001b[0m                                 Traceback (most recent call last)",
      "\u001b[0;32m<ipython-input-68-c1ebbc16aad9>\u001b[0m in \u001b[0;36m<module>\u001b[0;34m\u001b[0m\n\u001b[1;32m     48\u001b[0m \u001b[0;34m\u001b[0m\u001b[0m\n\u001b[1;32m     49\u001b[0m     git = Git(REPO, CONFIG.get('GIT_USERNAME'), CONFIG.get('GIT_PASSWORD'),\n\u001b[0;32m---> 50\u001b[0;31m           CONFIG.get('EMAIL'), '')\n\u001b[0m\u001b[1;32m     51\u001b[0m \u001b[0;34m\u001b[0m\u001b[0m\n\u001b[1;32m     52\u001b[0m \u001b[0;31m#     packages = {\u001b[0m\u001b[0;34m\u001b[0m\u001b[0;34m\u001b[0m\u001b[0;34m\u001b[0m\u001b[0m\n",
      "\u001b[0;32m~/riiid_2020/utilities.py\u001b[0m in \u001b[0;36m__init__\u001b[0;34m(self, repo, username, password, email, base_path)\u001b[0m\n\u001b[1;32m     48\u001b[0m         \u001b[0mself\u001b[0m\u001b[0;34m.\u001b[0m\u001b[0mpassword\u001b[0m \u001b[0;34m=\u001b[0m \u001b[0mpassword\u001b[0m\u001b[0;34m\u001b[0m\u001b[0;34m\u001b[0m\u001b[0m\n\u001b[1;32m     49\u001b[0m         \u001b[0mself\u001b[0m\u001b[0;34m.\u001b[0m\u001b[0memail\u001b[0m \u001b[0;34m=\u001b[0m \u001b[0memail\u001b[0m\u001b[0;34m\u001b[0m\u001b[0;34m\u001b[0m\u001b[0m\n\u001b[0;32m---> 50\u001b[0;31m         \u001b[0mself\u001b[0m\u001b[0;34m.\u001b[0m\u001b[0mrepo_path\u001b[0m \u001b[0;34m=\u001b[0m \u001b[0mbase_path\u001b[0m\u001b[0;34m/\u001b[0m\u001b[0mrepo\u001b[0m\u001b[0;34m\u001b[0m\u001b[0;34m\u001b[0m\u001b[0m\n\u001b[0m\u001b[1;32m     51\u001b[0m         self.cred_repo = (\n\u001b[1;32m     52\u001b[0m             \u001b[0;34mf'https://{self.username}:{self.password}'\u001b[0m\u001b[0;34m\u001b[0m\u001b[0;34m\u001b[0m\u001b[0m\n",
      "\u001b[0;31mTypeError\u001b[0m: unsupported operand type(s) for /: 'str' and 'str'"
     ]
    }
   ],
   "source": [
    "from datetime import datetime\n",
    "import gc\n",
    "import json\n",
    "import os\n",
    "from pathlib import Path\n",
    "import re\n",
    "import subprocess\n",
    "import sys\n",
    "import time\n",
    "\n",
    "import ipywidgets as widgets\n",
    "from google.cloud import storage, bigquery\n",
    "from google.cloud.bigquery import SchemaField\n",
    "import numpy as np\n",
    "import pandas as pd\n",
    "import tensorflow as tf\n",
    "from tqdm.notebook import tqdm\n",
    "\n",
    "AUTO = tf.data.experimental.AUTOTUNE\n",
    "BUCKET = 'riiid-caleb'\n",
    "DATASET = 'data'\n",
    "LOCATION = 'US'\n",
    "KAGGLE_SUBMIT_DATASET = 'riiid-submission-private'\n",
    "PROJECT = 'riiid-caleb'\n",
    "REPO = 'riiid_2020'\n",
    "NOT_KAGGLE = os.getenv('KAGGLE_URL_BASE') is None\n",
    "\n",
    "# if NOT_KAGGLE:\n",
    "#     from google.colab import drive\n",
    "#     DRIVE = Path('/content/drive/My Drive')\n",
    "#     if not DRIVE.exists():\n",
    "#         drive.mount(str(DRIVE.parent))\n",
    "#     sys.path.append(str(DRIVE))\n",
    "#     g_creds_path = 'credentials/riiid-caleb-faddd0c9d900.json'\n",
    "#     os.environ['GOOGLE_APPLICATION_CREDENTIALS'] = str(DRIVE/g_creds_path)\n",
    "\n",
    "bucket = storage.Client(project=PROJECT).get_bucket(BUCKET)\n",
    "dataset = bigquery.Dataset(f'{PROJECT}.{DATASET}')\n",
    "bq_client = bigquery.Client(project=PROJECT, location=LOCATION)\n",
    "\n",
    "if NOT_KAGGLE:\n",
    "    CONFIG = json.loads(bucket.get_blob('config.json').download_as_string())\n",
    "    os.environ = {**os.environ, **CONFIG}\n",
    "    sys.path.append('/home/jupyter')\n",
    "    from riiid_2020.utilities import check_packages, Git\n",
    "    from riiid_2020.bqhelpers import BQHelper\n",
    "    from riiid_2020.queries import Queries\n",
    "    \n",
    "    git = Git(REPO, CONFIG.get('GIT_USERNAME'), CONFIG.get('GIT_PASSWORD'),\n",
    "          CONFIG.get('EMAIL'), '')\n",
    "\n",
    "#     packages = {\n",
    "#         'comet-ml': ('3.2.5',''),\n",
    "#         'gcsfs': ('0.7.1',''),\n",
    "#         'kaggle': ('1.5.9',''),\n",
    "#         'plotly': ('4.12.0',''),\n",
    "# #         'xgboost': ('1.2.0','')\n",
    "#         # 'lightgbm': ('3.1.0',' --install-option=--gpu')\n",
    "#     }\n",
    "#     check_packages(packages)\n",
    "\n",
    "#     from comet_ml import APIExperiment, Experiment\n",
    "#     from kaggle.api.kaggle_api_extended import KaggleApi\n",
    "#     kaggle_api = KaggleApi()\n",
    "#     kaggle_api.authenticate()\n",
    "\n",
    "# import lightgbm as lgb\n",
    "import plotly\n",
    "import plotly.express as px\n",
    "from sklearn.metrics import roc_auc_score\n",
    "from sklearn.preprocessing import MultiLabelBinarizer\n",
    "import xgboost as xgb\n",
    "pd.options.plotting.backend = 'plotly'"
   ]
  },
  {
   "cell_type": "code",
   "execution_count": null,
   "metadata": {
    "colab": {
     "base_uri": "https://localhost:8080/"
    },
    "id": "u8ltlKOHp4CR",
    "outputId": "b96cbd3a-68d0-47b3-fd7a-0f1d7c88d9b4"
   },
   "outputs": [],
   "source": [
    "# from cloud_tpu_client import Client\n",
    "\n",
    "# c = Client()\n",
    "# c.configure_tpu_version(tf.__version__, restart_type='ifNeeded')\n",
    "\n",
    "def get_strategy():\n",
    "\n",
    "    try:\n",
    "        tpu = tf.distribute.cluster_resolver.TPUClusterResolver('tpu-1')\n",
    "        print('Running on TPU ', tpu.master())\n",
    "    except:\n",
    "        tpu = None\n",
    "\n",
    "    if tpu:\n",
    "        tf.config.experimental_connect_to_cluster(tpu)\n",
    "        tf.tpu.experimental.initialize_tpu_system(tpu)\n",
    "        strategy = tf.distribute.TPUStrategy(tpu)\n",
    "    \n",
    "    else:\n",
    "        strategy = tf.distribute.get_strategy()\n",
    "        for d in tf.config.list_physical_devices():\n",
    "            print(d)\n",
    "            \n",
    "    return strategy\n",
    "\n",
    "strategy = get_strategy()"
   ]
  },
  {
   "cell_type": "code",
   "execution_count": null,
   "metadata": {
    "colab": {
     "base_uri": "https://localhost:8080/",
     "height": 66,
     "referenced_widgets": [
      "235676a015614259bc3d1372b7e0c020",
      "5663d015758f430caeb16b63ff43841e",
      "b1b6224e2bc2416bb344798c1add2537",
      "81d505ad30d34683b646252cc1e830cb",
      "c16536e2ef3e440da7f1fd3d6af0944b",
      "81a515c98c30497f81232d44e94cb123",
      "6f4ece440f634846a98fd6aa65585679",
      "c41cf7975b7740ecba4acda661d32434"
     ]
    },
    "id": "Is6JkeYDd2qu",
    "outputId": "fbbcb863-58a8-4502-fa76-369b23e1a31b"
   },
   "outputs": [],
   "source": [
    "folds = range(5)\n",
    "\n",
    "if False:\n",
    "    df_data = pd.read_gbq((f\"\"\"\n",
    "        WITH data AS (\n",
    "        SELECT row_id, user_id, content_id, answered_correctly,\n",
    "        ROW_NUMBER() OVER(PARTITION BY user_id, content_id ORDER BY timestamp DESC) row_num\n",
    "        FROM riiid-caleb.data.train t\n",
    "        JOIN riiid-caleb.data.folds f\n",
    "        ON t.user_id = f.user_id_s\n",
    "        WHERE content_type_id = 0\n",
    "        AND t.task_container_id < f.task_container_id_min\n",
    "        AND f.fold in ({(', '.join(list(map(str, folds))))}) \n",
    "        )\n",
    "        SELECT row_id, user_id, content_id, answered_correctly\n",
    "        FROM data\n",
    "        WHERE row_num = 1\n",
    "        \"\"\", '_q_'), use_bqstorage_api=True, progress_bar_type='tqdm_notebook')\n",
    "    df_data.to_pickle('df_data.pkl')\n",
    "else:\n",
    "    df_data = pd.read_pickle('df_data.pkl')"
   ]
  },
  {
   "cell_type": "code",
   "execution_count": null,
   "metadata": {
    "colab": {
     "base_uri": "https://localhost:8080/",
     "height": 66,
     "referenced_widgets": [
      "235676a015614259bc3d1372b7e0c020",
      "5663d015758f430caeb16b63ff43841e",
      "b1b6224e2bc2416bb344798c1add2537",
      "81d505ad30d34683b646252cc1e830cb",
      "c16536e2ef3e440da7f1fd3d6af0944b",
      "81a515c98c30497f81232d44e94cb123",
      "6f4ece440f634846a98fd6aa65585679",
      "c41cf7975b7740ecba4acda661d32434"
     ]
    },
    "id": "Is6JkeYDd2qu",
    "outputId": "fbbcb863-58a8-4502-fa76-369b23e1a31b"
   },
   "outputs": [],
   "source": [
    "if False:\n",
    "    df_data = pd.read_gbq((f\"\"\"\n",
    "        WITH data AS (\n",
    "        SELECT row_id, user_id, content_id, answered_correctly,\n",
    "        ROW_NUMBER() OVER(PARTITION BY user_id, content_id ORDER BY timestamp DESC) row_num\n",
    "        FROM data.train t\n",
    "        JOIN data.folds f\n",
    "        ON t.user_id = f.user_id_s\n",
    "        WHERE content_type_id = 0\n",
    "        )\n",
    "        SELECT row_id, user_id, content_id, answered_correctly\n",
    "        FROM data\n",
    "        WHERE row_num = 1\n",
    "        \"\"\", '_q_'), use_bqstorage_api=True, progress_bar_type='tqdm_notebook')\n",
    "    df_data.to_pickle('df_data.pkl')\n",
    "else:\n",
    "    df_data = pd.read_pickle('df_data.pkl')"
   ]
  },
  {
   "cell_type": "code",
   "execution_count": null,
   "metadata": {
    "colab": {
     "base_uri": "https://localhost:8080/",
     "height": 66,
     "referenced_widgets": [
      "5918d69949e443bbb43353bfb48fc803",
      "5f5799f25b1d4f4e853a48660007fadf",
      "09792541227541a1872ae6f20d18651f",
      "781442d17ed048b8a8b1602673ba0a48",
      "7877600264494ffe910f2edf1f20e8e4",
      "58fb8e31ffae410aa9788c36487ff2ab",
      "b20574a0dd89443d997334e4d5cec717",
      "e8bea655634949328e13aa6e52f87e34"
     ]
    },
    "id": "M5WcPSPUaUup",
    "outputId": "a1f5264d-cd74-4182-813e-180ed5e922ca"
   },
   "outputs": [],
   "source": [
    "folds = range(1)\n",
    "\n",
    "if False:\n",
    "    df_test = pd.read_gbq((f\"\"\"\n",
    "        SELECT row_id, user_id, content_id, answered_correctly,\n",
    "        FROM riiid-caleb.data.train t\n",
    "        WHERE content_type_id = 0\n",
    "        AND fold in ({(', '.join(list(map(str, folds))))}) \n",
    "        ORDER BY user_id, content_id\n",
    "        \"\"\", '_q_'), use_bqstorage_api=True, progress_bar_type='tqdm_notebook')\n",
    "    df_data.to_pickle('df_test.pkl')\n",
    "else:\n",
    "    df_test = pd.read_pickle('df_test.pkl')"
   ]
  },
  {
   "cell_type": "code",
   "execution_count": null,
   "metadata": {
    "id": "cln-oVZgrjqP"
   },
   "outputs": [],
   "source": [
    "# keeping out unseen users and questions to start with\n",
    "df_test = df_test[df_test.user_id.isin(df_data.user_id)\n",
    "                    & df_test.content_id.isin(df_data.content_id)]"
   ]
  },
  {
   "cell_type": "code",
   "execution_count": null,
   "metadata": {
    "id": "PqLaN8kojXIk"
   },
   "outputs": [],
   "source": [
    "def categorify(df_train, df_valid, cat_cols):\n",
    "    for col in cat_cols:\n",
    "        df_train[col] = df_train[col].astype('category')\n",
    "        df_valid[col] = pd.Categorical(df_valid[col], df_train[col].cat.categories)\n",
    "\n",
    "    return df_train.sample(frac=1, random_state=42), df_valid    "
   ]
  },
  {
   "cell_type": "code",
   "execution_count": null,
   "metadata": {
    "id": "xrx_aPFZjDcl"
   },
   "outputs": [],
   "source": [
    "cat_cols = ['user_id', 'content_id']"
   ]
  },
  {
   "cell_type": "code",
   "execution_count": null,
   "metadata": {
    "id": "4JYmnD1zOTQU"
   },
   "outputs": [],
   "source": [
    "df_train, df_valid = categorify(df_data, df_test, cat_cols)"
   ]
  },
  {
   "cell_type": "markdown",
   "metadata": {
    "id": "584aMesRYyYQ"
   },
   "source": [
    "* For training / testing, create collaborative filtering features based on task_container_ids less than those included in folds in order to mimic the train / actual test scenario, where all of the task container_ids in the test set are after tnose in the train set.\n",
    "* Then update the collaborative filtering features to be based on all of the records, but use the model trained based on cf only prior to \n",
    "* Could have a feature that represents that delta in task_container_ids or rows from the collaborative filtering feature.\n",
    "* Would it be better to \n"
   ]
  },
  {
   "cell_type": "markdown",
   "metadata": {
    "id": "5LF9JIpCDQs3"
   },
   "source": [
    "## Tensorflow Collaborative Filtering"
   ]
  },
  {
   "cell_type": "code",
   "execution_count": null,
   "metadata": {
    "id": "sRhx9yBlNeTR"
   },
   "outputs": [],
   "source": [
    "def get_ds(df, batch_size=1024, repeat=True):\n",
    "    ds = tf.data.Dataset.from_tensor_slices(\n",
    "        (pd.concat([df[col].cat.codes for col in cat_cols], axis=1),\n",
    "         df.answered_correctly)\n",
    "        )\n",
    "    ds = ds.shuffle(int(1e6))\n",
    "    ds = ds.repeat() if repeat else ds\n",
    "    ds = ds.batch(batch_size)\n",
    "    return ds.prefetch(AUTO)"
   ]
  },
  {
   "cell_type": "code",
   "execution_count": null,
   "metadata": {
    "id": "HAU1InYGlA35"
   },
   "outputs": [],
   "source": [
    "def _int64_feature(value):\n",
    "    \"\"\"Returns an int64_list from a bool / enum / int / uint.\"\"\"\n",
    "    \n",
    "    if type(value) != type(list()):\n",
    "        value = [value]\n",
    "\n",
    "    return tf.train.Feature(int64_list=tf.train.Int64List(value=value))"
   ]
  },
  {
   "cell_type": "code",
   "execution_count": null,
   "metadata": {
    "id": "JsI2kr57iB3u"
   },
   "outputs": [],
   "source": [
    "def serialize_example(rec):\n",
    "    \n",
    "    feature = {\n",
    "        'row_id': _int64_feature(rec['row_id']),\n",
    "        'features': _int64_feature([rec['user_id'], rec['content_id']]),\n",
    "        'target': _int64_feature(rec['answered_correctly'])\n",
    "    }\n",
    "\n",
    "    return tf.train.Example(features=tf.train.Features(feature=feature)).SerializeToString()"
   ]
  },
  {
   "cell_type": "code",
   "execution_count": null,
   "metadata": {
    "id": "-8Pfgfg8luO4"
   },
   "outputs": [],
   "source": [
    "def parse_example(example, test=False):\n",
    "    features = {'row_id': tf.io.FixedLenFeature([], tf.int64),\n",
    "                'features': tf.io.FixedLenFeature([2], tf.int64),\n",
    "                'target': tf.io.FixedLenFeature([], tf.int64),\n",
    "                }\n",
    "\n",
    "    example = tf.io.parse_single_example(example, features)\n",
    "\n",
    "    return example['features'], example['target']"
   ]
  },
  {
   "cell_type": "code",
   "execution_count": null,
   "metadata": {
    "id": "OVpYES6ri8L-"
   },
   "outputs": [],
   "source": [
    "def preprocess(batch):\n",
    "    batch_size = tf.shape(batch['target'])[0]\n",
    "    n_features = tf.shape(batch['features'])[1]\n",
    "    features = tf.reshape(batch['features'], (batch_size, n_features))\n",
    "    labels = tf.reshape(batch['target'], (batch_size,))\n",
    "    return features, labels"
   ]
  },
  {
   "cell_type": "code",
   "execution_count": null,
   "metadata": {
    "id": "-uck9GUtyl6e"
   },
   "outputs": [],
   "source": [
    "def get_ds_tfrec(split, batch_size=4096, repeat=True):\n",
    "    file_pat = f'gs://{BUCKET}/tfrecords-{split}*.tfrec'\n",
    "    options = tf.data.Options()\n",
    "    \n",
    "    ds = (tf.data.Dataset.list_files(file_pat, shuffle=True)\n",
    "          .with_options(options)\n",
    "          .interleave(tf.data.TFRecordDataset, num_parallel_calls=AUTO)\n",
    "          .map(parse_example, num_parallel_calls=AUTO)\n",
    "          )\n",
    "    \n",
    "    ds = ds.shuffle(int(1e3))\n",
    "    ds = ds.repeat() if repeat else ds\n",
    "    ds = ds.batch(batch_size)\n",
    "    # ds = ds.map(preprocess, num_parallel_calls=AUTO)\n",
    "    return ds.prefetch(AUTO)"
   ]
  },
  {
   "cell_type": "code",
   "execution_count": null,
   "metadata": {
    "colab": {
     "base_uri": "https://localhost:8080/"
    },
    "id": "w1-Vca7vngs0",
    "outputId": "b39a5a33-0460-4f0f-b9fa-d5d839c43104"
   },
   "outputs": [],
   "source": [
    "parse_example(serialize_example(df_data.head().to_records()[0]))"
   ]
  },
  {
   "cell_type": "code",
   "execution_count": null,
   "metadata": {
    "id": "yPywLg_snI7E"
   },
   "outputs": [],
   "source": [
    "if False:\n",
    "\n",
    "    split_dict = {\n",
    "        'train': df_train,\n",
    "        'valid': df_valid\n",
    "    }\n",
    "\n",
    "    for s in split_dict:\n",
    "        df = split_dict[s]\n",
    "        n_files = len(df) // 500000\n",
    "        for col in cat_cols:\n",
    "            df[col] = df[col].cat.codes\n",
    "\n",
    "        for i, split in enumerate(np.array_split(df, n_files)):\n",
    "            out_path = f'gs://{bucket.name}'\n",
    "            filename = f'tfrecords-{s}-{i:02d}-{len(split)}.tfrec'\n",
    "            record_file = f'{out_path}/{filename}'\n",
    "\n",
    "            with tf.io.TFRecordWriter(record_file) as writer:\n",
    "                for rec in tqdm(split.to_records()):\n",
    "                    writer.write(serialize_example(rec))"
   ]
  },
  {
   "cell_type": "code",
   "execution_count": null,
   "metadata": {
    "id": "WDGUis7AXsGv"
   },
   "outputs": [],
   "source": [
    "n_users = len(df_train.user_id.cat.categories)\n",
    "n_questions = len(df_train.content_id.cat.categories)\n",
    "EMBEDDING_SIZE = 50\n",
    "\n",
    "class KnowledgeNet(tf.keras.Model):\n",
    "    def __init__(self, n_users, n_questions, embedding_size, l2_reg=1e-6, **kwargs):\n",
    "        super(KnowledgeNet, self).__init__(**kwargs)\n",
    "        self.num_users = n_users\n",
    "        self.num_questions = n_questions\n",
    "        self.embedding_size = embedding_size\n",
    "        self.l2_reg = l2_reg\n",
    "        self.user_embedding = tf.keras.layers.Embedding(\n",
    "            n_users,\n",
    "            embedding_size,\n",
    "            embeddings_initializer=\"he_normal\",\n",
    "            embeddings_regularizer=tf.keras.regularizers.l2(self.l2_reg),\n",
    "            name='user_embedding'\n",
    "        )\n",
    "        self.user_bias = tf.keras.layers.Embedding(\n",
    "            n_users, 1,\n",
    "            name='user_bias'\n",
    "        )\n",
    "        self.question_embedding = tf.keras.layers.Embedding(\n",
    "            n_questions,\n",
    "            embedding_size,\n",
    "            embeddings_initializer=\"he_normal\",\n",
    "            embeddings_regularizer=tf.keras.regularizers.l2(self.l2_reg),\n",
    "            name='question_embedding'\n",
    "        )\n",
    "        self.question_bias = tf.keras.layers.Embedding(\n",
    "            n_questions, 1,\n",
    "            name='question_bias'\n",
    "        )\n",
    "\n",
    "    def call(self, inputs):\n",
    "        user_vector = self.user_embedding(inputs[:, 0])\n",
    "        user_bias = self.user_bias(inputs[:, 0])\n",
    "        question_vector = self.question_embedding(inputs[:, 1])\n",
    "        question_bias = self.question_bias(inputs[:, 1])\n",
    "#         dot_user_question = tf.tensordot(user_vector, question_vector, 0)\n",
    "        dot_user_question = tf.reduce_sum(user_vector * question_vector, axis=1, keepdims=True)\n",
    "        x = user_bias + question_bias + dot_user_question\n",
    "        return tf.nn.sigmoid(x)"
   ]
  },
  {
   "cell_type": "code",
   "execution_count": null,
   "metadata": {
    "id": "zLBSnJdZQrPZ"
   },
   "outputs": [],
   "source": [
    "with strategy.scope():\n",
    "    model = KnowledgeNet(n_users, n_questions, EMBEDDING_SIZE)\n",
    "    opt = tf.keras.optimizers.Adam(lr=.0001)\n",
    "    loss_fn = tf.keras.losses.BinaryCrossentropy()\n",
    "    metrics = ['binary_accuracy', 'AUC']\n",
    "    model.compile(loss=loss_fn, optimizer=opt, metrics=metrics)"
   ]
  },
  {
   "cell_type": "code",
   "execution_count": null,
   "metadata": {},
   "outputs": [],
   "source": [
    "for b in get_ds_tfrec('train').take(1):\n",
    "    inputs = b[0]"
   ]
  },
  {
   "cell_type": "code",
   "execution_count": null,
   "metadata": {},
   "outputs": [],
   "source": [
    "tf.reduce_sum(model.user_embedding(tf.repeat(tf.expand_dims(inputs[:,0], -1), 3, axis=1)), axis=1)"
   ]
  },
  {
   "cell_type": "code",
   "execution_count": null,
   "metadata": {},
   "outputs": [],
   "source": [
    "model.user_embedding"
   ]
  },
  {
   "cell_type": "code",
   "execution_count": null,
   "metadata": {
    "colab": {
     "base_uri": "https://localhost:8080/"
    },
    "id": "8fjC6m_pZJvg",
    "outputId": "6cbc5eaf-8efa-42c1-fc1d-58ce3641d224"
   },
   "outputs": [],
   "source": [
    "history = model.fit(\n",
    "    get_ds_tfrec('train'),\n",
    "    steps_per_epoch=5215,\n",
    "    epochs=5,\n",
    "    validation_data=get_ds_tfrec('valid'),\n",
    "    validation_steps=1024,\n",
    "    verbose=1\n",
    ")"
   ]
  },
  {
   "cell_type": "code",
   "execution_count": null,
   "metadata": {
    "colab": {
     "base_uri": "https://localhost:8080/"
    },
    "id": "YEcjUsrxMQZY",
    "outputId": "ad355b54-db88-495a-f562-b8f067a8c311"
   },
   "outputs": [],
   "source": [
    "model.save('collab_model_all', include_optimizer=True)"
   ]
  },
  {
   "cell_type": "code",
   "execution_count": null,
   "metadata": {
    "id": "3GfA-JkQLmeV"
   },
   "outputs": [],
   "source": [
    "for f in Path('collab_model_all').glob('**/*'):\n",
    "    if f.is_file():\n",
    "        bucket.blob(str(f)).upload_from_filename(str(f))"
   ]
  },
  {
   "cell_type": "code",
   "execution_count": null,
   "metadata": {
    "id": "Ec5donekKQDV"
   },
   "outputs": [],
   "source": [
    "model = tf.saved_model.load('collab_model_all')"
   ]
  },
  {
   "cell_type": "code",
   "execution_count": null,
   "metadata": {
    "id": "zyHpMo71eRwI"
   },
   "outputs": [],
   "source": [
    "weights = {c: df_data[c].cat.categories for c in cat_cols}\n",
    "for v in model.variables:\n",
    "    name = v.name.split('/')[1]\n",
    "    weights[name] = v.numpy()\n",
    "    weights[name] = np.append(weights[name], np.mean(weights[name], axis=0))"
   ]
  },
  {
   "cell_type": "code",
   "execution_count": null,
   "metadata": {
    "id": "UqfCLFD2NXm0"
   },
   "outputs": [],
   "source": [
    "def get_pred(u_code, c_code, logits=False):\n",
    "    user_vector = weights['user_embedding'][u_code]\n",
    "    user_bias = weights['user_bias'][u_code]\n",
    "    question_vector = weights['question_embedding'][c_code]\n",
    "    question_bias = weights['question_bias'][c_code]\n",
    "    \n",
    "    logit = np.squeeze((user_vector * question_vector).sum() + user_bias + question_bias)\n",
    "    \n",
    "    if logits:\n",
    "        return logit\n",
    "    else:\n",
    "        return 1 / (1 + np.math.exp(-logit))"
   ]
  },
  {
   "cell_type": "code",
   "execution_count": null,
   "metadata": {
    "id": "9NwjCQwrGLsB"
   },
   "outputs": [],
   "source": [
    "np.save('weights_all.npy', weights, allow_pickle=True)"
   ]
  },
  {
   "cell_type": "code",
   "execution_count": null,
   "metadata": {
    "id": "9yyrQvasfCal"
   },
   "outputs": [],
   "source": [
    "weights = np.load('weights_all.npy', allow_pickle=True).item()"
   ]
  },
  {
   "cell_type": "code",
   "execution_count": null,
   "metadata": {
    "id": "VbbYs_vFJJmt"
   },
   "outputs": [],
   "source": [
    "bucket.blob('weights_all.npy').upload_from_filename('weights_all.npy')"
   ]
  },
  {
   "cell_type": "code",
   "execution_count": null,
   "metadata": {
    "id": "617fSnLWODtU"
   },
   "outputs": [],
   "source": [
    "def get_code_cols(df):\n",
    "    return pd.concat([df[col].cat.codes for col in cat_cols], axis=1)"
   ]
  },
  {
   "cell_type": "code",
   "execution_count": null,
   "metadata": {
    "id": "hKR7gZKvOjea"
   },
   "outputs": [],
   "source": [
    "df_cat_cols = get_code_cols(df_train)"
   ]
  },
  {
   "cell_type": "code",
   "execution_count": null,
   "metadata": {
    "id": "YD11KSjKPEgR"
   },
   "outputs": [],
   "source": [
    "tqdm.pandas()"
   ]
  },
  {
   "cell_type": "code",
   "execution_count": null,
   "metadata": {
    "colab": {
     "base_uri": "https://localhost:8080/"
    },
    "id": "NcFqgsUfQFK0",
    "outputId": "2e0c6a87-1552-47e4-edc4-59b7b5796e0e"
   },
   "outputs": [],
   "source": [
    "get_pred(43124, 9276, True)"
   ]
  },
  {
   "cell_type": "code",
   "execution_count": null,
   "metadata": {
    "colab": {
     "base_uri": "https://localhost:8080/",
     "height": 66,
     "referenced_widgets": [
      "488f106b90e64e509091124e15ac86ea",
      "7371a2da83c047fc921425b910048107",
      "8c277c0d926c4c2ebb53cdf71e2df986",
      "0ea64c8534aa4184b0c7c3eba217aec0",
      "74fdbb0ef57a46e4b589a46c18ec042d",
      "08df8883af494b70b718a7ce5b4f9386",
      "011d43b43aed485a8751ec48d9d95bab",
      "d5e4c6e070c0413491222f9edf1bba2c"
     ]
    },
    "id": "0ExuXHnpO1om",
    "outputId": "d8021d2d-077a-42a7-a0b7-c7315d02c663"
   },
   "outputs": [],
   "source": [
    "df_preds = df_cat_cols.progress_apply(lambda r: get_pred(*r, logits=True), axis=1)"
   ]
  },
  {
   "cell_type": "code",
   "execution_count": null,
   "metadata": {
    "colab": {
     "base_uri": "https://localhost:8080/"
    },
    "id": "KNDUJDYRX7kT",
    "outputId": "76a4ad3c-6563-41fc-c049-9a9449a3eebe"
   },
   "outputs": [],
   "source": [
    "roc_auc_score(df_valid.answered_correctly, df_preds)"
   ]
  },
  {
   "cell_type": "code",
   "execution_count": null,
   "metadata": {
    "colab": {
     "base_uri": "https://localhost:8080/",
     "height": 66,
     "referenced_widgets": [
      "da20e26860b04d3f9b7aec2866f1a43c",
      "7dc3eef3c43b468093264474aec72870",
      "1068312cf5104622af904af5507ffdfb",
      "014d6e6088084f31ac20b506f8e9d0a6",
      "46f7c96c423f43938916d9f3ff8f8d59",
      "68b08e46b6b94cb7907dd3259deeead1",
      "0036b023c2224f458414b8053f42ee55",
      "c835dd42207646a1a06a02725c3732c6"
     ]
    },
    "id": "x6NcnS49Y_6I",
    "outputId": "1764c374-4730-4723-bdb4-6e647ad5b269"
   },
   "outputs": [],
   "source": [
    "folds = range(5)\n",
    "\n",
    "df_test_all = pd.read_gbq((f\"\"\"\n",
    "    SELECT row_id, user_id, content_id, answered_correctly,\n",
    "    FROM data.train t\n",
    "    WHERE content_type_id = 0\n",
    "    AND fold in ({(', '.join(list(map(str, folds))))}) \n",
    "    ORDER BY user_id, content_id\n",
    "    \"\"\", '_q_'), use_bqstorage_api=True, progress_bar_type='tqdm_notebook')"
   ]
  },
  {
   "cell_type": "code",
   "execution_count": null,
   "metadata": {
    "id": "_j5twpQOkZS5"
   },
   "outputs": [],
   "source": [
    "df_test_all.to_pickle('df_test_all.pkl')"
   ]
  },
  {
   "cell_type": "code",
   "execution_count": null,
   "metadata": {
    "id": "8ByKunS2c0km"
   },
   "outputs": [],
   "source": [
    "for c in cat_cols:\n",
    "    df_test_all[c] = pd.Categorical(df_test_all[c], categories=weights[c])"
   ]
  },
  {
   "cell_type": "code",
   "execution_count": null,
   "metadata": {
    "id": "fsJQRQmikmoP"
   },
   "outputs": [],
   "source": [
    "df_code_cols = get_code_cols(df_test_all)"
   ]
  },
  {
   "cell_type": "code",
   "execution_count": null,
   "metadata": {
    "colab": {
     "base_uri": "https://localhost:8080/",
     "height": 66,
     "referenced_widgets": [
      "084f2d9358df47df8cdb1874c203fcb8",
      "214f3fcaeb4d49e0a47be36f3c6f854f",
      "f25723a2fc8f4192b8b3adde2cd0d70f",
      "e96d00e7c2c44755866ebbbf77b5af42",
      "9e709767b51a4e5ebfbaa5d747c4ad4f",
      "c9e63655621b4e12ad8bcac2712ca812",
      "4ad22a4a79e74753b9fedac8e2b469ea",
      "d5a3b39de6d3404d910394ddf6439548"
     ]
    },
    "id": "hlbeMSIsk0cB",
    "outputId": "ac809c5f-f586-4aba-f56a-be677f9bcd28"
   },
   "outputs": [],
   "source": [
    "preds_all = df_code_cols.progress_apply(lambda r: get_pred(*r, logits=True), axis=1)"
   ]
  },
  {
   "cell_type": "code",
   "execution_count": null,
   "metadata": {
    "id": "eQJh448ln1rU"
   },
   "outputs": [],
   "source": [
    "df_test_all['pred_collab_logit'] = preds_all"
   ]
  },
  {
   "cell_type": "code",
   "execution_count": null,
   "metadata": {
    "id": "cUvY2NJloYTZ"
   },
   "outputs": [],
   "source": [
    "df_test_all[['row_id', 'pred_collab', 'pred_collab_logit']].to_pickle('df_pred_collab.pkl')"
   ]
  },
  {
   "cell_type": "code",
   "execution_count": null,
   "metadata": {
    "id": "1k0G3pKmo2Eo"
   },
   "outputs": [],
   "source": [
    "bucket.blob('df_pred_collab.pkl').upload_from_filename('df_pred_collab.pkl')"
   ]
  },
  {
   "cell_type": "code",
   "execution_count": null,
   "metadata": {
    "colab": {
     "base_uri": "https://localhost:8080/"
    },
    "id": "nQBGy_BMnsn3",
    "outputId": "94b6e2c9-058f-496e-ecf9-caee9d9555eb"
   },
   "outputs": [],
   "source": [
    "roc_auc_score(df_test_all.answered_correctly, preds_all)"
   ]
  },
  {
   "cell_type": "markdown",
   "metadata": {
    "id": "tZHDa7HT8m_V"
   },
   "source": [
    "## Custom Training Loop"
   ]
  },
  {
   "cell_type": "code",
   "execution_count": null,
   "metadata": {
    "id": "5g4oCKSpPc5-"
   },
   "outputs": [],
   "source": [
    "BATCH_SIZE_PER_REPLICA = 64\n",
    "BATCH_SIZE_GLOBAL = BATCH_SIZE_PER_REPLICA * strategy.num_replicas_in_sync\n",
    "\n",
    "ds_trn_fit_iter = iter(strategy.experimental_distribute_dataset(get_ds_tfrec('train', batch_size=BATCH_SIZE_GLOBAL)))\n",
    "ds_val_fit_iter = iter(strategy.experimental_distribute_dataset(get_ds_tfrec('valid', batch_size=BATCH_SIZE_GLOBAL)))"
   ]
  },
  {
   "cell_type": "code",
   "execution_count": null,
   "metadata": {
    "id": "CNLJME5WQFcD"
   },
   "outputs": [],
   "source": [
    "with strategy.scope():\n",
    "    model = KnowledgeNet(n_users, n_questions, EMBEDDING_SIZE)\n",
    "    \n",
    "    loss_fn = tf.keras.losses.BinaryCrossentropy(reduction=tf.keras.losses.Reduction.NONE)\n",
    "    \n",
    "    def compute_loss(targets, outputs):\n",
    "        per_example_loss = loss_fn(targets, outputs)\n",
    "        return tf.nn.compute_average_loss(per_example_loss, global_batch_size=BATCH_SIZE_GLOBAL)\n",
    "    \n",
    "    optimizer = tf.keras.optimizers.Adam(lr=0.0001)\n",
    "    # metrics_trn = [tf.keras.metrics.Mean(name='loss'), tf.keras.metrics.BinaryAccuracy('accuracy'), tf.keras.metrics.AUC(name='roc_auc')]\n",
    "    # metrics_val = [tf.keras.metrics.Mean(name='val_loss'), tf.keras.metrics.BinaryAccuracy('val_accuracy'), tf.keras.metrics.AUC(name='val_roc_auc')]\n",
    "    metrics_trn = [tf.keras.metrics.Mean(name='loss')]\n",
    "    metrics_val = [tf.keras.metrics.Mean(name='val_loss')]"
   ]
  },
  {
   "cell_type": "code",
   "execution_count": null,
   "metadata": {
    "id": "HMDIN4jvFLmc"
   },
   "outputs": [],
   "source": [
    "@tf.function\n",
    "def train_step(model, optimizer, loss_fn, metrics, ds_iter, steps_per_epoch):\n",
    "    def train_step_fn(inputs, targets):\n",
    "        with tf.GradientTape() as tape:\n",
    "            outputs = model(inputs, training=True)\n",
    "            loss = loss_fn(targets, outputs)\n",
    "                            \n",
    "        grads = tape.gradient(loss, model.trainable_variables)\n",
    "        optimizer.apply_gradients(zip(grads, model.trainable_variables))\n",
    "        \n",
    "        for i, metric in enumerate(metrics):\n",
    "            if i == 0:\n",
    "                metric.update_state(loss)\n",
    "            else:\n",
    "                metric.update_state(targets, outputs)\n",
    "    \n",
    "    for _ in tf.range(steps_per_epoch):\n",
    "        strategy.run(train_step_fn, next(ds_iter))\n",
    "        \n",
    "@tf.function\n",
    "def val_step(model, loss_fn, metrics, ds_iter, steps_per_epoch):\n",
    "    def val_step_fn(inputs, targets):\n",
    "        outputs = model(inputs, training=False)\n",
    "        loss = loss_fn(targets, outputs)\n",
    "        \n",
    "        for i, metric in enumerate(metrics):\n",
    "            if i == 0:\n",
    "                metric.update_state(loss)\n",
    "            else:\n",
    "                metric.update_state(targets, outputs)\n",
    "    \n",
    "    for _ in tf.range(steps_per_epoch):\n",
    "        strategy.run(val_step_fn, next(ds_iter))"
   ]
  },
  {
   "cell_type": "code",
   "execution_count": null,
   "metadata": {
    "colab": {
     "base_uri": "https://localhost:8080/"
    },
    "id": "uyqLBApERUCJ",
    "outputId": "714bcfba-3f5c-423d-ace5-36f320e712dd"
   },
   "outputs": [],
   "source": [
    "epochs = 5\n",
    "steps_per_epoch = 10000\n",
    "val_steps = 100\n",
    "results = {metric.name: [] for metric in metrics_trn + metrics_val}\n",
    "results['duration'] = []\n",
    "\n",
    "start = time.perf_counter()\n",
    "for epoch in range(epochs):\n",
    "    epoch_start = time.perf_counter()\n",
    "    train_step(model, optimizer, compute_loss, metrics_trn, ds_trn_fit_iter, steps_per_epoch)    \n",
    "    val_step(model, compute_loss, metrics_val, ds_val_fit_iter, val_steps)\n",
    "    \n",
    "    for metric in metrics_trn + metrics_val:\n",
    "        results[metric.name].append(metric.result().numpy())\n",
    "        metric.reset_states()\n",
    "        \n",
    "    results['duration'].append((time.perf_counter() - epoch_start))\n",
    "    \n",
    "    print(f'epoch {epoch:02d} - ', (', ').join([f'{k}: {v[-1]:0.4f}' for k,v in results.items()]))\n",
    "\n",
    "end = time.perf_counter()\n",
    "seconds = end - start\n",
    "minutes = seconds / 60 + (seconds % 60) / 60\n",
    "print(f'Total duration: {minutes:0.1f} minutes - {seconds / epochs:0.1f} seconds per epoch')"
   ]
  }
 ],
 "metadata": {
  "accelerator": "GPU",
  "colab": {
   "collapsed_sections": [],
   "machine_shape": "hm",
   "name": "collaborative_filtering.ipynb",
   "provenance": [],
   "toc_visible": true
  },
  "environment": {
   "name": "tf2-2-3-gpu.2-3.m56",
   "type": "gcloud",
   "uri": "gcr.io/deeplearning-platform-release/tf2-2-3-gpu.2-3:m56"
  },
  "kernelspec": {
   "display_name": "Python 3",
   "language": "python",
   "name": "python3"
  },
  "language_info": {
   "codemirror_mode": {
    "name": "ipython",
    "version": 3
   },
   "file_extension": ".py",
   "mimetype": "text/x-python",
   "name": "python",
   "nbconvert_exporter": "python",
   "pygments_lexer": "ipython3",
   "version": "3.7.3"
  },
  "widgets": {
   "application/vnd.jupyter.widget-state+json": {
    "0036b023c2224f458414b8053f42ee55": {
     "model_module": "@jupyter-widgets/controls",
     "model_name": "DescriptionStyleModel",
     "state": {
      "_model_module": "@jupyter-widgets/controls",
      "_model_module_version": "1.5.0",
      "_model_name": "DescriptionStyleModel",
      "_view_count": null,
      "_view_module": "@jupyter-widgets/base",
      "_view_module_version": "1.2.0",
      "_view_name": "StyleView",
      "description_width": ""
     }
    },
    "011d43b43aed485a8751ec48d9d95bab": {
     "model_module": "@jupyter-widgets/controls",
     "model_name": "DescriptionStyleModel",
     "state": {
      "_model_module": "@jupyter-widgets/controls",
      "_model_module_version": "1.5.0",
      "_model_name": "DescriptionStyleModel",
      "_view_count": null,
      "_view_module": "@jupyter-widgets/base",
      "_view_module_version": "1.2.0",
      "_view_name": "StyleView",
      "description_width": ""
     }
    },
    "014d6e6088084f31ac20b506f8e9d0a6": {
     "model_module": "@jupyter-widgets/controls",
     "model_name": "HTMLModel",
     "state": {
      "_dom_classes": [],
      "_model_module": "@jupyter-widgets/controls",
      "_model_module_version": "1.5.0",
      "_model_name": "HTMLModel",
      "_view_count": null,
      "_view_module": "@jupyter-widgets/controls",
      "_view_module_version": "1.5.0",
      "_view_name": "HTMLView",
      "description": "",
      "description_tooltip": null,
      "layout": "IPY_MODEL_c835dd42207646a1a06a02725c3732c6",
      "placeholder": "​",
      "style": "IPY_MODEL_0036b023c2224f458414b8053f42ee55",
      "value": " 6478025/6478025 [24:49&lt;00:00, 4350.54rows/s]"
     }
    },
    "084f2d9358df47df8cdb1874c203fcb8": {
     "model_module": "@jupyter-widgets/controls",
     "model_name": "HBoxModel",
     "state": {
      "_dom_classes": [],
      "_model_module": "@jupyter-widgets/controls",
      "_model_module_version": "1.5.0",
      "_model_name": "HBoxModel",
      "_view_count": null,
      "_view_module": "@jupyter-widgets/controls",
      "_view_module_version": "1.5.0",
      "_view_name": "HBoxView",
      "box_style": "",
      "children": [
       "IPY_MODEL_f25723a2fc8f4192b8b3adde2cd0d70f",
       "IPY_MODEL_e96d00e7c2c44755866ebbbf77b5af42"
      ],
      "layout": "IPY_MODEL_214f3fcaeb4d49e0a47be36f3c6f854f"
     }
    },
    "08df8883af494b70b718a7ce5b4f9386": {
     "model_module": "@jupyter-widgets/base",
     "model_name": "LayoutModel",
     "state": {
      "_model_module": "@jupyter-widgets/base",
      "_model_module_version": "1.2.0",
      "_model_name": "LayoutModel",
      "_view_count": null,
      "_view_module": "@jupyter-widgets/base",
      "_view_module_version": "1.2.0",
      "_view_name": "LayoutView",
      "align_content": null,
      "align_items": null,
      "align_self": null,
      "border": null,
      "bottom": null,
      "display": null,
      "flex": null,
      "flex_flow": null,
      "grid_area": null,
      "grid_auto_columns": null,
      "grid_auto_flow": null,
      "grid_auto_rows": null,
      "grid_column": null,
      "grid_gap": null,
      "grid_row": null,
      "grid_template_areas": null,
      "grid_template_columns": null,
      "grid_template_rows": null,
      "height": null,
      "justify_content": null,
      "justify_items": null,
      "left": null,
      "margin": null,
      "max_height": null,
      "max_width": null,
      "min_height": null,
      "min_width": null,
      "object_fit": null,
      "object_position": null,
      "order": null,
      "overflow": null,
      "overflow_x": null,
      "overflow_y": null,
      "padding": null,
      "right": null,
      "top": null,
      "visibility": null,
      "width": null
     }
    },
    "09792541227541a1872ae6f20d18651f": {
     "model_module": "@jupyter-widgets/controls",
     "model_name": "FloatProgressModel",
     "state": {
      "_dom_classes": [],
      "_model_module": "@jupyter-widgets/controls",
      "_model_module_version": "1.5.0",
      "_model_name": "FloatProgressModel",
      "_view_count": null,
      "_view_module": "@jupyter-widgets/controls",
      "_view_module_version": "1.5.0",
      "_view_name": "ProgressView",
      "bar_style": "success",
      "description": "Downloading: 100%",
      "description_tooltip": null,
      "layout": "IPY_MODEL_58fb8e31ffae410aa9788c36487ff2ab",
      "max": 1294272,
      "min": 0,
      "orientation": "horizontal",
      "style": "IPY_MODEL_7877600264494ffe910f2edf1f20e8e4",
      "value": 1294272
     }
    },
    "0ea64c8534aa4184b0c7c3eba217aec0": {
     "model_module": "@jupyter-widgets/controls",
     "model_name": "HTMLModel",
     "state": {
      "_dom_classes": [],
      "_model_module": "@jupyter-widgets/controls",
      "_model_module_version": "1.5.0",
      "_model_name": "HTMLModel",
      "_view_count": null,
      "_view_module": "@jupyter-widgets/controls",
      "_view_module_version": "1.5.0",
      "_view_name": "HTMLView",
      "description": "",
      "description_tooltip": null,
      "layout": "IPY_MODEL_d5e4c6e070c0413491222f9edf1bba2c",
      "placeholder": "​",
      "style": "IPY_MODEL_011d43b43aed485a8751ec48d9d95bab",
      "value": " 1049559/1049559 [1:09:12&lt;00:00, 252.76it/s]"
     }
    },
    "1068312cf5104622af904af5507ffdfb": {
     "model_module": "@jupyter-widgets/controls",
     "model_name": "FloatProgressModel",
     "state": {
      "_dom_classes": [],
      "_model_module": "@jupyter-widgets/controls",
      "_model_module_version": "1.5.0",
      "_model_name": "FloatProgressModel",
      "_view_count": null,
      "_view_module": "@jupyter-widgets/controls",
      "_view_module_version": "1.5.0",
      "_view_name": "ProgressView",
      "bar_style": "success",
      "description": "Downloading: 100%",
      "description_tooltip": null,
      "layout": "IPY_MODEL_68b08e46b6b94cb7907dd3259deeead1",
      "max": 6478025,
      "min": 0,
      "orientation": "horizontal",
      "style": "IPY_MODEL_46f7c96c423f43938916d9f3ff8f8d59",
      "value": 6478025
     }
    },
    "214f3fcaeb4d49e0a47be36f3c6f854f": {
     "model_module": "@jupyter-widgets/base",
     "model_name": "LayoutModel",
     "state": {
      "_model_module": "@jupyter-widgets/base",
      "_model_module_version": "1.2.0",
      "_model_name": "LayoutModel",
      "_view_count": null,
      "_view_module": "@jupyter-widgets/base",
      "_view_module_version": "1.2.0",
      "_view_name": "LayoutView",
      "align_content": null,
      "align_items": null,
      "align_self": null,
      "border": null,
      "bottom": null,
      "display": null,
      "flex": null,
      "flex_flow": null,
      "grid_area": null,
      "grid_auto_columns": null,
      "grid_auto_flow": null,
      "grid_auto_rows": null,
      "grid_column": null,
      "grid_gap": null,
      "grid_row": null,
      "grid_template_areas": null,
      "grid_template_columns": null,
      "grid_template_rows": null,
      "height": null,
      "justify_content": null,
      "justify_items": null,
      "left": null,
      "margin": null,
      "max_height": null,
      "max_width": null,
      "min_height": null,
      "min_width": null,
      "object_fit": null,
      "object_position": null,
      "order": null,
      "overflow": null,
      "overflow_x": null,
      "overflow_y": null,
      "padding": null,
      "right": null,
      "top": null,
      "visibility": null,
      "width": null
     }
    },
    "235676a015614259bc3d1372b7e0c020": {
     "model_module": "@jupyter-widgets/controls",
     "model_name": "HBoxModel",
     "state": {
      "_dom_classes": [],
      "_model_module": "@jupyter-widgets/controls",
      "_model_module_version": "1.5.0",
      "_model_name": "HBoxModel",
      "_view_count": null,
      "_view_module": "@jupyter-widgets/controls",
      "_view_module_version": "1.5.0",
      "_view_name": "HBoxView",
      "box_style": "",
      "children": [
       "IPY_MODEL_b1b6224e2bc2416bb344798c1add2537",
       "IPY_MODEL_81d505ad30d34683b646252cc1e830cb"
      ],
      "layout": "IPY_MODEL_5663d015758f430caeb16b63ff43841e"
     }
    },
    "46f7c96c423f43938916d9f3ff8f8d59": {
     "model_module": "@jupyter-widgets/controls",
     "model_name": "ProgressStyleModel",
     "state": {
      "_model_module": "@jupyter-widgets/controls",
      "_model_module_version": "1.5.0",
      "_model_name": "ProgressStyleModel",
      "_view_count": null,
      "_view_module": "@jupyter-widgets/base",
      "_view_module_version": "1.2.0",
      "_view_name": "StyleView",
      "bar_color": null,
      "description_width": "initial"
     }
    },
    "488f106b90e64e509091124e15ac86ea": {
     "model_module": "@jupyter-widgets/controls",
     "model_name": "HBoxModel",
     "state": {
      "_dom_classes": [],
      "_model_module": "@jupyter-widgets/controls",
      "_model_module_version": "1.5.0",
      "_model_name": "HBoxModel",
      "_view_count": null,
      "_view_module": "@jupyter-widgets/controls",
      "_view_module_version": "1.5.0",
      "_view_name": "HBoxView",
      "box_style": "",
      "children": [
       "IPY_MODEL_8c277c0d926c4c2ebb53cdf71e2df986",
       "IPY_MODEL_0ea64c8534aa4184b0c7c3eba217aec0"
      ],
      "layout": "IPY_MODEL_7371a2da83c047fc921425b910048107"
     }
    },
    "4ad22a4a79e74753b9fedac8e2b469ea": {
     "model_module": "@jupyter-widgets/controls",
     "model_name": "DescriptionStyleModel",
     "state": {
      "_model_module": "@jupyter-widgets/controls",
      "_model_module_version": "1.5.0",
      "_model_name": "DescriptionStyleModel",
      "_view_count": null,
      "_view_module": "@jupyter-widgets/base",
      "_view_module_version": "1.2.0",
      "_view_name": "StyleView",
      "description_width": ""
     }
    },
    "5663d015758f430caeb16b63ff43841e": {
     "model_module": "@jupyter-widgets/base",
     "model_name": "LayoutModel",
     "state": {
      "_model_module": "@jupyter-widgets/base",
      "_model_module_version": "1.2.0",
      "_model_name": "LayoutModel",
      "_view_count": null,
      "_view_module": "@jupyter-widgets/base",
      "_view_module_version": "1.2.0",
      "_view_name": "LayoutView",
      "align_content": null,
      "align_items": null,
      "align_self": null,
      "border": null,
      "bottom": null,
      "display": null,
      "flex": null,
      "flex_flow": null,
      "grid_area": null,
      "grid_auto_columns": null,
      "grid_auto_flow": null,
      "grid_auto_rows": null,
      "grid_column": null,
      "grid_gap": null,
      "grid_row": null,
      "grid_template_areas": null,
      "grid_template_columns": null,
      "grid_template_rows": null,
      "height": null,
      "justify_content": null,
      "justify_items": null,
      "left": null,
      "margin": null,
      "max_height": null,
      "max_width": null,
      "min_height": null,
      "min_width": null,
      "object_fit": null,
      "object_position": null,
      "order": null,
      "overflow": null,
      "overflow_x": null,
      "overflow_y": null,
      "padding": null,
      "right": null,
      "top": null,
      "visibility": null,
      "width": null
     }
    },
    "58fb8e31ffae410aa9788c36487ff2ab": {
     "model_module": "@jupyter-widgets/base",
     "model_name": "LayoutModel",
     "state": {
      "_model_module": "@jupyter-widgets/base",
      "_model_module_version": "1.2.0",
      "_model_name": "LayoutModel",
      "_view_count": null,
      "_view_module": "@jupyter-widgets/base",
      "_view_module_version": "1.2.0",
      "_view_name": "LayoutView",
      "align_content": null,
      "align_items": null,
      "align_self": null,
      "border": null,
      "bottom": null,
      "display": null,
      "flex": null,
      "flex_flow": null,
      "grid_area": null,
      "grid_auto_columns": null,
      "grid_auto_flow": null,
      "grid_auto_rows": null,
      "grid_column": null,
      "grid_gap": null,
      "grid_row": null,
      "grid_template_areas": null,
      "grid_template_columns": null,
      "grid_template_rows": null,
      "height": null,
      "justify_content": null,
      "justify_items": null,
      "left": null,
      "margin": null,
      "max_height": null,
      "max_width": null,
      "min_height": null,
      "min_width": null,
      "object_fit": null,
      "object_position": null,
      "order": null,
      "overflow": null,
      "overflow_x": null,
      "overflow_y": null,
      "padding": null,
      "right": null,
      "top": null,
      "visibility": null,
      "width": null
     }
    },
    "5918d69949e443bbb43353bfb48fc803": {
     "model_module": "@jupyter-widgets/controls",
     "model_name": "HBoxModel",
     "state": {
      "_dom_classes": [],
      "_model_module": "@jupyter-widgets/controls",
      "_model_module_version": "1.5.0",
      "_model_name": "HBoxModel",
      "_view_count": null,
      "_view_module": "@jupyter-widgets/controls",
      "_view_module_version": "1.5.0",
      "_view_name": "HBoxView",
      "box_style": "",
      "children": [
       "IPY_MODEL_09792541227541a1872ae6f20d18651f",
       "IPY_MODEL_781442d17ed048b8a8b1602673ba0a48"
      ],
      "layout": "IPY_MODEL_5f5799f25b1d4f4e853a48660007fadf"
     }
    },
    "5f5799f25b1d4f4e853a48660007fadf": {
     "model_module": "@jupyter-widgets/base",
     "model_name": "LayoutModel",
     "state": {
      "_model_module": "@jupyter-widgets/base",
      "_model_module_version": "1.2.0",
      "_model_name": "LayoutModel",
      "_view_count": null,
      "_view_module": "@jupyter-widgets/base",
      "_view_module_version": "1.2.0",
      "_view_name": "LayoutView",
      "align_content": null,
      "align_items": null,
      "align_self": null,
      "border": null,
      "bottom": null,
      "display": null,
      "flex": null,
      "flex_flow": null,
      "grid_area": null,
      "grid_auto_columns": null,
      "grid_auto_flow": null,
      "grid_auto_rows": null,
      "grid_column": null,
      "grid_gap": null,
      "grid_row": null,
      "grid_template_areas": null,
      "grid_template_columns": null,
      "grid_template_rows": null,
      "height": null,
      "justify_content": null,
      "justify_items": null,
      "left": null,
      "margin": null,
      "max_height": null,
      "max_width": null,
      "min_height": null,
      "min_width": null,
      "object_fit": null,
      "object_position": null,
      "order": null,
      "overflow": null,
      "overflow_x": null,
      "overflow_y": null,
      "padding": null,
      "right": null,
      "top": null,
      "visibility": null,
      "width": null
     }
    },
    "68b08e46b6b94cb7907dd3259deeead1": {
     "model_module": "@jupyter-widgets/base",
     "model_name": "LayoutModel",
     "state": {
      "_model_module": "@jupyter-widgets/base",
      "_model_module_version": "1.2.0",
      "_model_name": "LayoutModel",
      "_view_count": null,
      "_view_module": "@jupyter-widgets/base",
      "_view_module_version": "1.2.0",
      "_view_name": "LayoutView",
      "align_content": null,
      "align_items": null,
      "align_self": null,
      "border": null,
      "bottom": null,
      "display": null,
      "flex": null,
      "flex_flow": null,
      "grid_area": null,
      "grid_auto_columns": null,
      "grid_auto_flow": null,
      "grid_auto_rows": null,
      "grid_column": null,
      "grid_gap": null,
      "grid_row": null,
      "grid_template_areas": null,
      "grid_template_columns": null,
      "grid_template_rows": null,
      "height": null,
      "justify_content": null,
      "justify_items": null,
      "left": null,
      "margin": null,
      "max_height": null,
      "max_width": null,
      "min_height": null,
      "min_width": null,
      "object_fit": null,
      "object_position": null,
      "order": null,
      "overflow": null,
      "overflow_x": null,
      "overflow_y": null,
      "padding": null,
      "right": null,
      "top": null,
      "visibility": null,
      "width": null
     }
    },
    "6f4ece440f634846a98fd6aa65585679": {
     "model_module": "@jupyter-widgets/controls",
     "model_name": "DescriptionStyleModel",
     "state": {
      "_model_module": "@jupyter-widgets/controls",
      "_model_module_version": "1.5.0",
      "_model_name": "DescriptionStyleModel",
      "_view_count": null,
      "_view_module": "@jupyter-widgets/base",
      "_view_module_version": "1.2.0",
      "_view_name": "StyleView",
      "description_width": ""
     }
    },
    "7371a2da83c047fc921425b910048107": {
     "model_module": "@jupyter-widgets/base",
     "model_name": "LayoutModel",
     "state": {
      "_model_module": "@jupyter-widgets/base",
      "_model_module_version": "1.2.0",
      "_model_name": "LayoutModel",
      "_view_count": null,
      "_view_module": "@jupyter-widgets/base",
      "_view_module_version": "1.2.0",
      "_view_name": "LayoutView",
      "align_content": null,
      "align_items": null,
      "align_self": null,
      "border": null,
      "bottom": null,
      "display": null,
      "flex": null,
      "flex_flow": null,
      "grid_area": null,
      "grid_auto_columns": null,
      "grid_auto_flow": null,
      "grid_auto_rows": null,
      "grid_column": null,
      "grid_gap": null,
      "grid_row": null,
      "grid_template_areas": null,
      "grid_template_columns": null,
      "grid_template_rows": null,
      "height": null,
      "justify_content": null,
      "justify_items": null,
      "left": null,
      "margin": null,
      "max_height": null,
      "max_width": null,
      "min_height": null,
      "min_width": null,
      "object_fit": null,
      "object_position": null,
      "order": null,
      "overflow": null,
      "overflow_x": null,
      "overflow_y": null,
      "padding": null,
      "right": null,
      "top": null,
      "visibility": null,
      "width": null
     }
    },
    "74fdbb0ef57a46e4b589a46c18ec042d": {
     "model_module": "@jupyter-widgets/controls",
     "model_name": "ProgressStyleModel",
     "state": {
      "_model_module": "@jupyter-widgets/controls",
      "_model_module_version": "1.5.0",
      "_model_name": "ProgressStyleModel",
      "_view_count": null,
      "_view_module": "@jupyter-widgets/base",
      "_view_module_version": "1.2.0",
      "_view_name": "StyleView",
      "bar_color": null,
      "description_width": "initial"
     }
    },
    "781442d17ed048b8a8b1602673ba0a48": {
     "model_module": "@jupyter-widgets/controls",
     "model_name": "HTMLModel",
     "state": {
      "_dom_classes": [],
      "_model_module": "@jupyter-widgets/controls",
      "_model_module_version": "1.5.0",
      "_model_name": "HTMLModel",
      "_view_count": null,
      "_view_module": "@jupyter-widgets/controls",
      "_view_module_version": "1.5.0",
      "_view_name": "HTMLView",
      "description": "",
      "description_tooltip": null,
      "layout": "IPY_MODEL_e8bea655634949328e13aa6e52f87e34",
      "placeholder": "​",
      "style": "IPY_MODEL_b20574a0dd89443d997334e4d5cec717",
      "value": " 1294272/1294272 [03:30&lt;00:00, 6138.32rows/s]"
     }
    },
    "7877600264494ffe910f2edf1f20e8e4": {
     "model_module": "@jupyter-widgets/controls",
     "model_name": "ProgressStyleModel",
     "state": {
      "_model_module": "@jupyter-widgets/controls",
      "_model_module_version": "1.5.0",
      "_model_name": "ProgressStyleModel",
      "_view_count": null,
      "_view_module": "@jupyter-widgets/base",
      "_view_module_version": "1.2.0",
      "_view_name": "StyleView",
      "bar_color": null,
      "description_width": "initial"
     }
    },
    "7dc3eef3c43b468093264474aec72870": {
     "model_module": "@jupyter-widgets/base",
     "model_name": "LayoutModel",
     "state": {
      "_model_module": "@jupyter-widgets/base",
      "_model_module_version": "1.2.0",
      "_model_name": "LayoutModel",
      "_view_count": null,
      "_view_module": "@jupyter-widgets/base",
      "_view_module_version": "1.2.0",
      "_view_name": "LayoutView",
      "align_content": null,
      "align_items": null,
      "align_self": null,
      "border": null,
      "bottom": null,
      "display": null,
      "flex": null,
      "flex_flow": null,
      "grid_area": null,
      "grid_auto_columns": null,
      "grid_auto_flow": null,
      "grid_auto_rows": null,
      "grid_column": null,
      "grid_gap": null,
      "grid_row": null,
      "grid_template_areas": null,
      "grid_template_columns": null,
      "grid_template_rows": null,
      "height": null,
      "justify_content": null,
      "justify_items": null,
      "left": null,
      "margin": null,
      "max_height": null,
      "max_width": null,
      "min_height": null,
      "min_width": null,
      "object_fit": null,
      "object_position": null,
      "order": null,
      "overflow": null,
      "overflow_x": null,
      "overflow_y": null,
      "padding": null,
      "right": null,
      "top": null,
      "visibility": null,
      "width": null
     }
    },
    "81a515c98c30497f81232d44e94cb123": {
     "model_module": "@jupyter-widgets/base",
     "model_name": "LayoutModel",
     "state": {
      "_model_module": "@jupyter-widgets/base",
      "_model_module_version": "1.2.0",
      "_model_name": "LayoutModel",
      "_view_count": null,
      "_view_module": "@jupyter-widgets/base",
      "_view_module_version": "1.2.0",
      "_view_name": "LayoutView",
      "align_content": null,
      "align_items": null,
      "align_self": null,
      "border": null,
      "bottom": null,
      "display": null,
      "flex": null,
      "flex_flow": null,
      "grid_area": null,
      "grid_auto_columns": null,
      "grid_auto_flow": null,
      "grid_auto_rows": null,
      "grid_column": null,
      "grid_gap": null,
      "grid_row": null,
      "grid_template_areas": null,
      "grid_template_columns": null,
      "grid_template_rows": null,
      "height": null,
      "justify_content": null,
      "justify_items": null,
      "left": null,
      "margin": null,
      "max_height": null,
      "max_width": null,
      "min_height": null,
      "min_width": null,
      "object_fit": null,
      "object_position": null,
      "order": null,
      "overflow": null,
      "overflow_x": null,
      "overflow_y": null,
      "padding": null,
      "right": null,
      "top": null,
      "visibility": null,
      "width": null
     }
    },
    "81d505ad30d34683b646252cc1e830cb": {
     "model_module": "@jupyter-widgets/controls",
     "model_name": "HTMLModel",
     "state": {
      "_dom_classes": [],
      "_model_module": "@jupyter-widgets/controls",
      "_model_module_version": "1.5.0",
      "_model_name": "HTMLModel",
      "_view_count": null,
      "_view_module": "@jupyter-widgets/controls",
      "_view_module_version": "1.5.0",
      "_view_name": "HTMLView",
      "description": "",
      "description_tooltip": null,
      "layout": "IPY_MODEL_c41cf7975b7740ecba4acda661d32434",
      "placeholder": "​",
      "style": "IPY_MODEL_6f4ece440f634846a98fd6aa65585679",
      "value": " 5340377/5340377 [03:45&lt;00:00, 23656.96rows/s]"
     }
    },
    "8c277c0d926c4c2ebb53cdf71e2df986": {
     "model_module": "@jupyter-widgets/controls",
     "model_name": "FloatProgressModel",
     "state": {
      "_dom_classes": [],
      "_model_module": "@jupyter-widgets/controls",
      "_model_module_version": "1.5.0",
      "_model_name": "FloatProgressModel",
      "_view_count": null,
      "_view_module": "@jupyter-widgets/controls",
      "_view_module_version": "1.5.0",
      "_view_name": "ProgressView",
      "bar_style": "success",
      "description": "100%",
      "description_tooltip": null,
      "layout": "IPY_MODEL_08df8883af494b70b718a7ce5b4f9386",
      "max": 1049559,
      "min": 0,
      "orientation": "horizontal",
      "style": "IPY_MODEL_74fdbb0ef57a46e4b589a46c18ec042d",
      "value": 1049559
     }
    },
    "9e709767b51a4e5ebfbaa5d747c4ad4f": {
     "model_module": "@jupyter-widgets/controls",
     "model_name": "ProgressStyleModel",
     "state": {
      "_model_module": "@jupyter-widgets/controls",
      "_model_module_version": "1.5.0",
      "_model_name": "ProgressStyleModel",
      "_view_count": null,
      "_view_module": "@jupyter-widgets/base",
      "_view_module_version": "1.2.0",
      "_view_name": "StyleView",
      "bar_color": null,
      "description_width": "initial"
     }
    },
    "b1b6224e2bc2416bb344798c1add2537": {
     "model_module": "@jupyter-widgets/controls",
     "model_name": "FloatProgressModel",
     "state": {
      "_dom_classes": [],
      "_model_module": "@jupyter-widgets/controls",
      "_model_module_version": "1.5.0",
      "_model_name": "FloatProgressModel",
      "_view_count": null,
      "_view_module": "@jupyter-widgets/controls",
      "_view_module_version": "1.5.0",
      "_view_name": "ProgressView",
      "bar_style": "success",
      "description": "Downloading: 100%",
      "description_tooltip": null,
      "layout": "IPY_MODEL_81a515c98c30497f81232d44e94cb123",
      "max": 5340377,
      "min": 0,
      "orientation": "horizontal",
      "style": "IPY_MODEL_c16536e2ef3e440da7f1fd3d6af0944b",
      "value": 5340377
     }
    },
    "b20574a0dd89443d997334e4d5cec717": {
     "model_module": "@jupyter-widgets/controls",
     "model_name": "DescriptionStyleModel",
     "state": {
      "_model_module": "@jupyter-widgets/controls",
      "_model_module_version": "1.5.0",
      "_model_name": "DescriptionStyleModel",
      "_view_count": null,
      "_view_module": "@jupyter-widgets/base",
      "_view_module_version": "1.2.0",
      "_view_name": "StyleView",
      "description_width": ""
     }
    },
    "c16536e2ef3e440da7f1fd3d6af0944b": {
     "model_module": "@jupyter-widgets/controls",
     "model_name": "ProgressStyleModel",
     "state": {
      "_model_module": "@jupyter-widgets/controls",
      "_model_module_version": "1.5.0",
      "_model_name": "ProgressStyleModel",
      "_view_count": null,
      "_view_module": "@jupyter-widgets/base",
      "_view_module_version": "1.2.0",
      "_view_name": "StyleView",
      "bar_color": null,
      "description_width": "initial"
     }
    },
    "c41cf7975b7740ecba4acda661d32434": {
     "model_module": "@jupyter-widgets/base",
     "model_name": "LayoutModel",
     "state": {
      "_model_module": "@jupyter-widgets/base",
      "_model_module_version": "1.2.0",
      "_model_name": "LayoutModel",
      "_view_count": null,
      "_view_module": "@jupyter-widgets/base",
      "_view_module_version": "1.2.0",
      "_view_name": "LayoutView",
      "align_content": null,
      "align_items": null,
      "align_self": null,
      "border": null,
      "bottom": null,
      "display": null,
      "flex": null,
      "flex_flow": null,
      "grid_area": null,
      "grid_auto_columns": null,
      "grid_auto_flow": null,
      "grid_auto_rows": null,
      "grid_column": null,
      "grid_gap": null,
      "grid_row": null,
      "grid_template_areas": null,
      "grid_template_columns": null,
      "grid_template_rows": null,
      "height": null,
      "justify_content": null,
      "justify_items": null,
      "left": null,
      "margin": null,
      "max_height": null,
      "max_width": null,
      "min_height": null,
      "min_width": null,
      "object_fit": null,
      "object_position": null,
      "order": null,
      "overflow": null,
      "overflow_x": null,
      "overflow_y": null,
      "padding": null,
      "right": null,
      "top": null,
      "visibility": null,
      "width": null
     }
    },
    "c835dd42207646a1a06a02725c3732c6": {
     "model_module": "@jupyter-widgets/base",
     "model_name": "LayoutModel",
     "state": {
      "_model_module": "@jupyter-widgets/base",
      "_model_module_version": "1.2.0",
      "_model_name": "LayoutModel",
      "_view_count": null,
      "_view_module": "@jupyter-widgets/base",
      "_view_module_version": "1.2.0",
      "_view_name": "LayoutView",
      "align_content": null,
      "align_items": null,
      "align_self": null,
      "border": null,
      "bottom": null,
      "display": null,
      "flex": null,
      "flex_flow": null,
      "grid_area": null,
      "grid_auto_columns": null,
      "grid_auto_flow": null,
      "grid_auto_rows": null,
      "grid_column": null,
      "grid_gap": null,
      "grid_row": null,
      "grid_template_areas": null,
      "grid_template_columns": null,
      "grid_template_rows": null,
      "height": null,
      "justify_content": null,
      "justify_items": null,
      "left": null,
      "margin": null,
      "max_height": null,
      "max_width": null,
      "min_height": null,
      "min_width": null,
      "object_fit": null,
      "object_position": null,
      "order": null,
      "overflow": null,
      "overflow_x": null,
      "overflow_y": null,
      "padding": null,
      "right": null,
      "top": null,
      "visibility": null,
      "width": null
     }
    },
    "c9e63655621b4e12ad8bcac2712ca812": {
     "model_module": "@jupyter-widgets/base",
     "model_name": "LayoutModel",
     "state": {
      "_model_module": "@jupyter-widgets/base",
      "_model_module_version": "1.2.0",
      "_model_name": "LayoutModel",
      "_view_count": null,
      "_view_module": "@jupyter-widgets/base",
      "_view_module_version": "1.2.0",
      "_view_name": "LayoutView",
      "align_content": null,
      "align_items": null,
      "align_self": null,
      "border": null,
      "bottom": null,
      "display": null,
      "flex": null,
      "flex_flow": null,
      "grid_area": null,
      "grid_auto_columns": null,
      "grid_auto_flow": null,
      "grid_auto_rows": null,
      "grid_column": null,
      "grid_gap": null,
      "grid_row": null,
      "grid_template_areas": null,
      "grid_template_columns": null,
      "grid_template_rows": null,
      "height": null,
      "justify_content": null,
      "justify_items": null,
      "left": null,
      "margin": null,
      "max_height": null,
      "max_width": null,
      "min_height": null,
      "min_width": null,
      "object_fit": null,
      "object_position": null,
      "order": null,
      "overflow": null,
      "overflow_x": null,
      "overflow_y": null,
      "padding": null,
      "right": null,
      "top": null,
      "visibility": null,
      "width": null
     }
    },
    "d5a3b39de6d3404d910394ddf6439548": {
     "model_module": "@jupyter-widgets/base",
     "model_name": "LayoutModel",
     "state": {
      "_model_module": "@jupyter-widgets/base",
      "_model_module_version": "1.2.0",
      "_model_name": "LayoutModel",
      "_view_count": null,
      "_view_module": "@jupyter-widgets/base",
      "_view_module_version": "1.2.0",
      "_view_name": "LayoutView",
      "align_content": null,
      "align_items": null,
      "align_self": null,
      "border": null,
      "bottom": null,
      "display": null,
      "flex": null,
      "flex_flow": null,
      "grid_area": null,
      "grid_auto_columns": null,
      "grid_auto_flow": null,
      "grid_auto_rows": null,
      "grid_column": null,
      "grid_gap": null,
      "grid_row": null,
      "grid_template_areas": null,
      "grid_template_columns": null,
      "grid_template_rows": null,
      "height": null,
      "justify_content": null,
      "justify_items": null,
      "left": null,
      "margin": null,
      "max_height": null,
      "max_width": null,
      "min_height": null,
      "min_width": null,
      "object_fit": null,
      "object_position": null,
      "order": null,
      "overflow": null,
      "overflow_x": null,
      "overflow_y": null,
      "padding": null,
      "right": null,
      "top": null,
      "visibility": null,
      "width": null
     }
    },
    "d5e4c6e070c0413491222f9edf1bba2c": {
     "model_module": "@jupyter-widgets/base",
     "model_name": "LayoutModel",
     "state": {
      "_model_module": "@jupyter-widgets/base",
      "_model_module_version": "1.2.0",
      "_model_name": "LayoutModel",
      "_view_count": null,
      "_view_module": "@jupyter-widgets/base",
      "_view_module_version": "1.2.0",
      "_view_name": "LayoutView",
      "align_content": null,
      "align_items": null,
      "align_self": null,
      "border": null,
      "bottom": null,
      "display": null,
      "flex": null,
      "flex_flow": null,
      "grid_area": null,
      "grid_auto_columns": null,
      "grid_auto_flow": null,
      "grid_auto_rows": null,
      "grid_column": null,
      "grid_gap": null,
      "grid_row": null,
      "grid_template_areas": null,
      "grid_template_columns": null,
      "grid_template_rows": null,
      "height": null,
      "justify_content": null,
      "justify_items": null,
      "left": null,
      "margin": null,
      "max_height": null,
      "max_width": null,
      "min_height": null,
      "min_width": null,
      "object_fit": null,
      "object_position": null,
      "order": null,
      "overflow": null,
      "overflow_x": null,
      "overflow_y": null,
      "padding": null,
      "right": null,
      "top": null,
      "visibility": null,
      "width": null
     }
    },
    "da20e26860b04d3f9b7aec2866f1a43c": {
     "model_module": "@jupyter-widgets/controls",
     "model_name": "HBoxModel",
     "state": {
      "_dom_classes": [],
      "_model_module": "@jupyter-widgets/controls",
      "_model_module_version": "1.5.0",
      "_model_name": "HBoxModel",
      "_view_count": null,
      "_view_module": "@jupyter-widgets/controls",
      "_view_module_version": "1.5.0",
      "_view_name": "HBoxView",
      "box_style": "",
      "children": [
       "IPY_MODEL_1068312cf5104622af904af5507ffdfb",
       "IPY_MODEL_014d6e6088084f31ac20b506f8e9d0a6"
      ],
      "layout": "IPY_MODEL_7dc3eef3c43b468093264474aec72870"
     }
    },
    "e8bea655634949328e13aa6e52f87e34": {
     "model_module": "@jupyter-widgets/base",
     "model_name": "LayoutModel",
     "state": {
      "_model_module": "@jupyter-widgets/base",
      "_model_module_version": "1.2.0",
      "_model_name": "LayoutModel",
      "_view_count": null,
      "_view_module": "@jupyter-widgets/base",
      "_view_module_version": "1.2.0",
      "_view_name": "LayoutView",
      "align_content": null,
      "align_items": null,
      "align_self": null,
      "border": null,
      "bottom": null,
      "display": null,
      "flex": null,
      "flex_flow": null,
      "grid_area": null,
      "grid_auto_columns": null,
      "grid_auto_flow": null,
      "grid_auto_rows": null,
      "grid_column": null,
      "grid_gap": null,
      "grid_row": null,
      "grid_template_areas": null,
      "grid_template_columns": null,
      "grid_template_rows": null,
      "height": null,
      "justify_content": null,
      "justify_items": null,
      "left": null,
      "margin": null,
      "max_height": null,
      "max_width": null,
      "min_height": null,
      "min_width": null,
      "object_fit": null,
      "object_position": null,
      "order": null,
      "overflow": null,
      "overflow_x": null,
      "overflow_y": null,
      "padding": null,
      "right": null,
      "top": null,
      "visibility": null,
      "width": null
     }
    },
    "e96d00e7c2c44755866ebbbf77b5af42": {
     "model_module": "@jupyter-widgets/controls",
     "model_name": "HTMLModel",
     "state": {
      "_dom_classes": [],
      "_model_module": "@jupyter-widgets/controls",
      "_model_module_version": "1.5.0",
      "_model_name": "HTMLModel",
      "_view_count": null,
      "_view_module": "@jupyter-widgets/controls",
      "_view_module_version": "1.5.0",
      "_view_name": "HTMLView",
      "description": "",
      "description_tooltip": null,
      "layout": "IPY_MODEL_d5a3b39de6d3404d910394ddf6439548",
      "placeholder": "​",
      "style": "IPY_MODEL_4ad22a4a79e74753b9fedac8e2b469ea",
      "value": " 6478025/6478025 [01:54&lt;00:00, 56744.46it/s]"
     }
    },
    "f25723a2fc8f4192b8b3adde2cd0d70f": {
     "model_module": "@jupyter-widgets/controls",
     "model_name": "FloatProgressModel",
     "state": {
      "_dom_classes": [],
      "_model_module": "@jupyter-widgets/controls",
      "_model_module_version": "1.5.0",
      "_model_name": "FloatProgressModel",
      "_view_count": null,
      "_view_module": "@jupyter-widgets/controls",
      "_view_module_version": "1.5.0",
      "_view_name": "ProgressView",
      "bar_style": "success",
      "description": "100%",
      "description_tooltip": null,
      "layout": "IPY_MODEL_c9e63655621b4e12ad8bcac2712ca812",
      "max": 6478025,
      "min": 0,
      "orientation": "horizontal",
      "style": "IPY_MODEL_9e709767b51a4e5ebfbaa5d747c4ad4f",
      "value": 6478025
     }
    }
   }
  }
 },
 "nbformat": 4,
 "nbformat_minor": 4
}
