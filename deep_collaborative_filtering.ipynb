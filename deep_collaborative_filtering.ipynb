{
 "cells": [
  {
   "cell_type": "code",
   "execution_count": null,
   "metadata": {},
   "outputs": [],
   "source": [
    "# <hide-input>\n",
    "%load_ext autoreload\n",
    "%autoreload 2"
   ]
  },
  {
   "cell_type": "code",
   "execution_count": null,
   "metadata": {
    "code_folding": [],
    "colab": {
     "base_uri": "https://localhost:8080/"
    },
    "id": "1gbbiyXJdj4j",
    "outputId": "9e57da8c-42bf-4079-e720-3b73d17b94bc"
   },
   "outputs": [],
   "source": [
    "# <hide-input>\n",
    "from datetime import datetime\n",
    "import gc\n",
    "import json\n",
    "import math\n",
    "import os\n",
    "from pathlib import Path\n",
    "import re\n",
    "import subprocess\n",
    "import sys\n",
    "import time\n",
    "\n",
    "import ipywidgets as widgets\n",
    "from google.cloud import storage, bigquery\n",
    "from google.cloud.bigquery import SchemaField\n",
    "import numpy as np\n",
    "import pandas as pd\n",
    "import tensorflow as tf\n",
    "from tqdm.notebook import tqdm\n",
    "\n",
    "\n",
    "AUTO = tf.data.experimental.AUTOTUNE\n",
    "BUCKET = 'caleb-riiid'\n",
    "DATASET = 'data'\n",
    "LOCATION = 'europe-west4'\n",
    "KAGGLE_SUBMIT_DATASET = 'riiid-submission-private'\n",
    "PROJECT = 'fastai-caleb'\n",
    "REPO = 'riiid_2020'\n",
    "NOT_KAGGLE = os.getenv('KAGGLE_URL_BASE') is None\n",
    "\n",
    "# if NOT_KAGGLE:\n",
    "#     from google.colab import drive\n",
    "#     DRIVE = Path('/content/drive/My Drive')\n",
    "#     if not DRIVE.exists():\n",
    "#         drive.mount(str(DRIVE.parent))\n",
    "#     sys.path.append(str(DRIVE))\n",
    "#     g_creds_path = 'credentials/riiid-caleb-faddd0c9d900.json'\n",
    "#     os.environ['GOOGLE_APPLICATION_CREDENTIALS'] = str(DRIVE/g_creds_path)\n",
    "\n",
    "bucket = storage.Client(project=PROJECT).get_bucket(BUCKET)\n",
    "dataset = bigquery.Dataset(f'{PROJECT}.{DATASET}')\n",
    "bq_client = bigquery.Client(project=PROJECT, location=LOCATION)\n",
    "\n",
    "if NOT_KAGGLE:\n",
    "    CONFIG = json.loads(bucket.get_blob('config.json').download_as_string())\n",
    "    os.environ = {**os.environ, **CONFIG}\n",
    "    sys.path.append('/home/jupyter')\n",
    "    from riiid_2020.bqhelpers import BQHelper\n",
    "    from riiid_2020.queries import Queries\n",
    "\n",
    "    from comet_ml import APIExperiment, Experiment\n",
    "    from kaggle.api.kaggle_api_extended import KaggleApi\n",
    "    kaggle_api = KaggleApi()\n",
    "    kaggle_api.authenticate()\n",
    "\n",
    "import plotly\n",
    "import plotly.express as px\n",
    "import plotly.graph_objects as go\n",
    "from plotly.subplots import make_subplots\n",
    "from sklearn.metrics import roc_auc_score\n",
    "from sklearn.preprocessing import MultiLabelBinarizer\n",
    "pd.options.plotting.backend = 'plotly'\n",
    "tqdm.pandas()"
   ]
  },
  {
   "cell_type": "code",
   "execution_count": null,
   "metadata": {},
   "outputs": [],
   "source": [
    "class LRFinder(tf.keras.callbacks.Callback):\n",
    "    def __init__(self, start=1e-7, end=5, steps=100):\n",
    "        self.losses = []\n",
    "        self.start = start\n",
    "        self.end = end\n",
    "        self.steps = steps\n",
    "        self.best_loss = np.inf\n",
    "\n",
    "    def on_batch_begin(self, step, logs):\n",
    "        scheduled_lr = self.start * (self.end / self.start) ** (step/self.steps)\n",
    "        tf.keras.backend.set_value(self.model.optimizer.lr, scheduled_lr)\n",
    "\n",
    "    def on_batch_end(self, step, logs):\n",
    "        loss = logs.get('loss')\n",
    "        self.losses.append(loss)"
   ]
  },
  {
   "cell_type": "code",
   "execution_count": null,
   "metadata": {},
   "outputs": [],
   "source": [
    "class OneCycleScheduler(tf.keras.callbacks.Callback):\n",
    "    def __init__(self, total_steps=1000, steps_up_pct=0.3, steps_across_pct=.01, steps_down_pct=0.6, lr_max=.001,\n",
    "              lr_start_factor=.00003, lr_end_factor=.00001, decay=0.93,\n",
    "              mo_max=0.95, mo_min=0.85, verbose=1):\n",
    "        \n",
    "        self.step = -1\n",
    "        self.epoch = -1\n",
    "\n",
    "        super(OneCycleScheduler, self).__init__()\n",
    "\n",
    "        def one_cycle(step):\n",
    "            \n",
    "            steps_up = int(total_steps * steps_up_pct)\n",
    "            steps_across = int(total_steps * steps_across_pct)\n",
    "            steps_down = int(total_steps * steps_down_pct)\n",
    "            lr_start = lr_max * lr_start_factor\n",
    "            lr_end = lr_max * lr_end_factor\n",
    "\n",
    "            if step <= steps_up:\n",
    "                new_lr = (lr_max - lr_start)/2  * (-math.cos((math.pi * step) / steps_up) + 1) + lr_start\n",
    "                new_mo = (mo_max - mo_min)/2  * (math.cos((math.pi * step) / steps_up) + 1) + mo_min\n",
    "            \n",
    "            elif step <= (steps_up + steps_across):\n",
    "                new_lr = lr_max\n",
    "                new_mo = mo_min\n",
    "            \n",
    "            elif step <= (steps_up + steps_across + steps_down):\n",
    "                down_step = step - steps_across - steps_up\n",
    "                new_lr = (lr_max - lr_end)/2  * (math.cos((math.pi * down_step) / steps_down) + 1) + lr_end\n",
    "                new_mo = (mo_max - mo_min)/2  * (-math.cos((math.pi * down_step) / steps_down) + 1) + mo_min\n",
    "\n",
    "            else:\n",
    "                new_lr = lr_end * decay**(step - steps_up - steps_across - steps_down)\n",
    "                new_mo = mo_max\n",
    "            \n",
    "            return new_lr, new_mo\n",
    "\n",
    "        self.schedule = one_cycle\n",
    "        self.verbose = verbose\n",
    " \n",
    "    def on_batch_begin(self, step, logs):\n",
    "        self.step +=1\n",
    "        scheduled_lr, scheduled_mo = self.schedule(self.step)\n",
    "        tf.keras.backend.set_value(self.model.optimizer.lr, scheduled_lr)\n",
    "        tf.keras.backend.set_value(self.model.optimizer.beta_1, scheduled_mo)\n",
    "        \n",
    "    def on_epoch_end(self, epoch, logs):\n",
    "        if self.verbose:\n",
    "            scheduled_lr, scheduled_mo = self.schedule(self.step)\n",
    "            auc_roc = logs.get('val_auc_roc')\n",
    "            auc_roc = auc_roc if auc_roc is not None else 0\n",
    "            print(f'\\nepoch {epoch+1:02d}: val_auc_roc={auc_roc:0.4f}, learning_rate={scheduled_lr:0.2e}, beta_1={scheduled_mo:0.3f}')\n",
    "            \n",
    "def plot_lr_sched(one_cycle, total_steps):\n",
    "    fig = make_subplots(specs=[[{\"secondary_y\": True}]])\n",
    "\n",
    "    fig.add_trace(\n",
    "        go.Scatter(x=list(range(total_steps)),\n",
    "                   y=[one_cycle.schedule(e)[0] for e in range(total_steps)],\n",
    "                   name=\"lr\"),\n",
    "        secondary_y=False,\n",
    "    )\n",
    "\n",
    "    fig.add_trace(\n",
    "        go.Scatter(x=list(range(total_steps)),\n",
    "                   y=[one_cycle.schedule(e)[1] for e in range(total_steps)],\n",
    "                   name=\"mom\"),\n",
    "        secondary_y=True,\n",
    "    )\n",
    "\n",
    "    fig.update_layout(title_text=\"Learning Rate Schedule\")\n",
    "    fig.update_xaxes(title_text=\"steps\")\n",
    "    fig.update_yaxes(title_text=\"learning rate\", secondary_y=False)\n",
    "    fig.update_yaxes(title_text=\"momentum\", secondary_y=True)\n",
    "\n",
    "    fig.show()"
   ]
  },
  {
   "cell_type": "code",
   "execution_count": null,
   "metadata": {
    "colab": {
     "base_uri": "https://localhost:8080/"
    },
    "id": "u8ltlKOHp4CR",
    "outputId": "b96cbd3a-68d0-47b3-fd7a-0f1d7c88d9b4"
   },
   "outputs": [],
   "source": [
    "def get_strategy():\n",
    "\n",
    "    try:\n",
    "        tpu = tf.distribute.cluster_resolver.TPUClusterResolver('tpu-1')\n",
    "        print('Running on TPU ', tpu.master())\n",
    "    except:\n",
    "        tpu = None\n",
    "\n",
    "    if tpu:\n",
    "        tf.config.experimental_connect_to_cluster(tpu)\n",
    "        tf.tpu.experimental.initialize_tpu_system(tpu)\n",
    "        strategy = tf.distribute.TPUStrategy(tpu)\n",
    "    \n",
    "    else:\n",
    "        strategy = tf.distribute.get_strategy()\n",
    "        for d in tf.config.list_physical_devices():\n",
    "            print(d)\n",
    "            \n",
    "    return strategy\n",
    "\n",
    "strategy = get_strategy()"
   ]
  },
  {
   "cell_type": "code",
   "execution_count": null,
   "metadata": {
    "code_folding": [],
    "colab": {
     "base_uri": "https://localhost:8080/",
     "height": 66,
     "referenced_widgets": [
      "235676a015614259bc3d1372b7e0c020",
      "5663d015758f430caeb16b63ff43841e",
      "b1b6224e2bc2416bb344798c1add2537",
      "81d505ad30d34683b646252cc1e830cb",
      "c16536e2ef3e440da7f1fd3d6af0944b",
      "81a515c98c30497f81232d44e94cb123",
      "6f4ece440f634846a98fd6aa65585679",
      "c41cf7975b7740ecba4acda661d32434"
     ]
    },
    "id": "Is6JkeYDd2qu",
    "outputId": "fbbcb863-58a8-4502-fa76-369b23e1a31b"
   },
   "outputs": [],
   "source": [
    "folds = range(40)\n",
    "\n",
    "if True:\n",
    "    df_data = pd.read_gbq((f\"\"\"\n",
    "        WITH data AS (\n",
    "        SELECT row_id, user_id, content_id, part, tags_array, answered_correctly,\n",
    "        ROW_NUMBER() OVER(PARTITION BY user_id, content_id ORDER BY timestamp DESC) row_num\n",
    "        FROM {DATASET}.train t\n",
    "        JOIN {DATASET}.folds f\n",
    "        ON t.user_id = f.user_id_s\n",
    "        JOIN {DATASET}.content_tags c\n",
    "        ON t.ql_id = c.ql_id\n",
    "        WHERE content_type_id = 0\n",
    "        AND t.task_container_id < f.task_container_id_min\n",
    "        AND f.fold in ({(', '.join(list(map(str, folds))))}) \n",
    "        )\n",
    "        SELECT row_id, user_id, content_id, part, tags_array, answered_correctly\n",
    "        FROM data\n",
    "        WHERE row_num = 1\n",
    "        \"\"\", '_q_'), use_bqstorage_api=True, progress_bar_type='tqdm_notebook')        "
   ]
  },
  {
   "cell_type": "code",
   "execution_count": null,
   "metadata": {
    "code_folding": [],
    "colab": {
     "base_uri": "https://localhost:8080/",
     "height": 66,
     "referenced_widgets": [
      "235676a015614259bc3d1372b7e0c020",
      "5663d015758f430caeb16b63ff43841e",
      "b1b6224e2bc2416bb344798c1add2537",
      "81d505ad30d34683b646252cc1e830cb",
      "c16536e2ef3e440da7f1fd3d6af0944b",
      "81a515c98c30497f81232d44e94cb123",
      "6f4ece440f634846a98fd6aa65585679",
      "c41cf7975b7740ecba4acda661d32434"
     ]
    },
    "id": "Is6JkeYDd2qu",
    "outputId": "fbbcb863-58a8-4502-fa76-369b23e1a31b"
   },
   "outputs": [],
   "source": [
    "if False:\n",
    "    df_data = pd.read_gbq((f\"\"\"\n",
    "        WITH data AS (\n",
    "        SELECT row_id, user_id, content_id, answered_correctly,\n",
    "        ROW_NUMBER() OVER(PARTITION BY user_id, content_id ORDER BY timestamp DESC) row_num\n",
    "        FROM {DATASET}.train t\n",
    "        JOIN {DATASET}.folds f\n",
    "        ON t.user_id = f.user_id_s\n",
    "        WHERE content_type_id = 0\n",
    "        )\n",
    "        SELECT row_id, user_id, content_id, answered_correctly\n",
    "        FROM data\n",
    "        WHERE row_num = 1\n",
    "        \"\"\", '_q_'), use_bqstorage_api=True, progress_bar_type='tqdm_notebook')"
   ]
  },
  {
   "cell_type": "code",
   "execution_count": null,
   "metadata": {
    "code_folding": [],
    "colab": {
     "base_uri": "https://localhost:8080/",
     "height": 66,
     "referenced_widgets": [
      "5918d69949e443bbb43353bfb48fc803",
      "5f5799f25b1d4f4e853a48660007fadf",
      "09792541227541a1872ae6f20d18651f",
      "781442d17ed048b8a8b1602673ba0a48",
      "7877600264494ffe910f2edf1f20e8e4",
      "58fb8e31ffae410aa9788c36487ff2ab",
      "b20574a0dd89443d997334e4d5cec717",
      "e8bea655634949328e13aa6e52f87e34"
     ]
    },
    "id": "M5WcPSPUaUup",
    "outputId": "a1f5264d-cd74-4182-813e-180ed5e922ca"
   },
   "outputs": [],
   "source": [
    "folds = [0,1]\n",
    "\n",
    "if True:\n",
    "    df_test = pd.read_gbq((f\"\"\"\n",
    "        SELECT row_id, user_id, content_id, part, tags_array, answered_correctly,\n",
    "        FROM {DATASET}.train t\n",
    "        JOIN {DATASET}.content_tags c\n",
    "        ON t.ql_id = c.ql_id\n",
    "        WHERE content_type_id = 0\n",
    "        AND fold in ({(', '.join(list(map(str, folds))))}) \n",
    "        ORDER BY user_id, content_id\n",
    "        \"\"\", '_q_'), use_bqstorage_api=True, progress_bar_type='tqdm_notebook')"
   ]
  },
  {
   "cell_type": "code",
   "execution_count": null,
   "metadata": {
    "id": "cln-oVZgrjqP"
   },
   "outputs": [],
   "source": [
    "# keeping out unseen users and questions to start with\n",
    "df_test = df_test[df_test.user_id.isin(df_data.user_id)\n",
    "                    & df_test.content_id.isin(df_data.content_id)]"
   ]
  },
  {
   "cell_type": "code",
   "execution_count": null,
   "metadata": {},
   "outputs": [],
   "source": [
    "df_ct = bq_client.query('select * from data.content_tags where question_id is not null').to_dataframe()\n",
    "df_ct.question_id = df_ct.question_id.astype('category')\n",
    "df_ct = df_ct.set_index('question_id')"
   ]
  },
  {
   "cell_type": "code",
   "execution_count": null,
   "metadata": {},
   "outputs": [],
   "source": [
    "def fix_len(r):\n",
    "    new = np.repeat(188, 6)\n",
    "    new[range(len(r))] = r\n",
    "    return new"
   ]
  },
  {
   "cell_type": "code",
   "execution_count": null,
   "metadata": {},
   "outputs": [],
   "source": [
    "df_ct['tags'] = df_ct.tags_array.progress_apply(fix_len)"
   ]
  },
  {
   "cell_type": "code",
   "execution_count": null,
   "metadata": {},
   "outputs": [],
   "source": [
    "all_tags = np.unique(np.concatenate(df_ct.tags_array))"
   ]
  },
  {
   "cell_type": "code",
   "execution_count": null,
   "metadata": {},
   "outputs": [],
   "source": [
    "tag_cols = [f'tag_{t}' for t in range(6)]"
   ]
  },
  {
   "cell_type": "code",
   "execution_count": null,
   "metadata": {},
   "outputs": [],
   "source": [
    "df_tags = pd.DataFrame(df_ct.tags.to_list(), columns=tag_cols)"
   ]
  },
  {
   "cell_type": "code",
   "execution_count": null,
   "metadata": {
    "id": "xrx_aPFZjDcl"
   },
   "outputs": [],
   "source": [
    "cat_cols = ['user_id', 'content_id', 'part']"
   ]
  },
  {
   "cell_type": "code",
   "execution_count": null,
   "metadata": {
    "id": "PqLaN8kojXIk"
   },
   "outputs": [],
   "source": [
    "def categorify(df_data, df_test, df_tags, cat_cols, tag_cols):\n",
    "    df_data = df_data.merge(df_tags, how='left', left_on='content_id', right_index=True)\n",
    "    df_test = df_test.merge(df_tags, how='left', left_on='content_id', right_index=True)\n",
    "\n",
    "    for col in cat_cols:        \n",
    "        df_data[col] = df_data[col].astype('category')\n",
    "        df_test[col] = pd.Categorical(df_test[col], df_data[col].cat.categories)\n",
    "\n",
    "    for t in tag_cols:\n",
    "        df_data[t] = pd.Categorical(df_data[t], all_tags)\n",
    "        df_test[t] = pd.Categorical(df_test[t], all_tags)\n",
    "        \n",
    "    for col in cat_cols + tag_cols:\n",
    "        df_data[col] = df_data[col].cat.codes\n",
    "        df_test[col] = df_test[col].cat.codes\n",
    "    \n",
    "    train_cols = ['row_id'] + cat_cols + tag_cols + ['answered_correctly']\n",
    "\n",
    "    return df_data[train_cols].sample(frac=1, random_state=42), df_test[train_cols]"
   ]
  },
  {
   "cell_type": "code",
   "execution_count": null,
   "metadata": {
    "id": "4JYmnD1zOTQU"
   },
   "outputs": [],
   "source": [
    "df_train, df_valid = categorify(df_data, df_test, df_tags, cat_cols, tag_cols)"
   ]
  },
  {
   "cell_type": "markdown",
   "metadata": {
    "id": "5LF9JIpCDQs3"
   },
   "source": [
    "## Tensorflow Collaborative Filtering"
   ]
  },
  {
   "cell_type": "markdown",
   "metadata": {},
   "source": [
    "### Dataset from DataFrames"
   ]
  },
  {
   "cell_type": "code",
   "execution_count": null,
   "metadata": {
    "id": "sRhx9yBlNeTR"
   },
   "outputs": [],
   "source": [
    "def get_ds(df, batch_size=1024, repeat=True):\n",
    "    row_id = df.pop('row_id')\n",
    "    y = df.pop('answered_correctly')   \n",
    "    ds = tf.data.Dataset.from_tensor_slices(df, y)\n",
    "    ds = ds.shuffle(int(5e6))\n",
    "    ds = ds.repeat() if repeat else ds\n",
    "    ds = ds.batch(batch_size)\n",
    "    return ds.prefetch(AUTO)"
   ]
  },
  {
   "cell_type": "markdown",
   "metadata": {},
   "source": [
    "### Dataset from TFRecords"
   ]
  },
  {
   "cell_type": "code",
   "execution_count": null,
   "metadata": {
    "id": "HAU1InYGlA35"
   },
   "outputs": [],
   "source": [
    "def _int64_feature(value):\n",
    "    \"\"\"Returns an int64_list from a bool / enum / int / uint.\"\"\"\n",
    "    \n",
    "    if type(value) != type(list()):\n",
    "        value = [value]\n",
    "\n",
    "    return tf.train.Feature(int64_list=tf.train.Int64List(value=value))"
   ]
  },
  {
   "cell_type": "code",
   "execution_count": null,
   "metadata": {
    "id": "JsI2kr57iB3u"
   },
   "outputs": [],
   "source": [
    "def serialize_example(rec):\n",
    "    \n",
    "    feature = {\n",
    "        'row_id': _int64_feature([rec[0]]),\n",
    "        'features': _int64_feature(list(rec[1:-1])),\n",
    "        'target': _int64_feature([rec[-1]])\n",
    "    }\n",
    "\n",
    "    return tf.train.Example(features=tf.train.Features(feature=feature)).SerializeToString()"
   ]
  },
  {
   "cell_type": "code",
   "execution_count": null,
   "metadata": {
    "id": "-8Pfgfg8luO4"
   },
   "outputs": [],
   "source": [
    "def parse_example(example, test=False):\n",
    "    features = {'row_id': tf.io.FixedLenFeature([], tf.int64),\n",
    "                'features': tf.io.FixedLenFeature([9], tf.int64),\n",
    "                'target': tf.io.FixedLenFeature([], tf.int64),\n",
    "                }\n",
    "\n",
    "    example = tf.io.parse_single_example(example, features)\n",
    "\n",
    "    return example['features'], example['target']"
   ]
  },
  {
   "cell_type": "code",
   "execution_count": null,
   "metadata": {
    "id": "-uck9GUtyl6e"
   },
   "outputs": [],
   "source": [
    "def get_ds_tfrec(split, batch_size=4096, repeat=True):\n",
    "    file_pat = f'gs://{BUCKET}/tfrecords/deep_collab-{split}*.tfrec'\n",
    "    options = tf.data.Options()\n",
    "    \n",
    "    ds = (tf.data.Dataset.list_files(file_pat, shuffle=True)\n",
    "          .with_options(options)\n",
    "          .interleave(tf.data.TFRecordDataset, num_parallel_calls=AUTO)\n",
    "          .map(parse_example, num_parallel_calls=AUTO)\n",
    "          )\n",
    "    \n",
    "    ds = ds.shuffle(int(1e6))\n",
    "    ds = ds.repeat() if repeat else ds\n",
    "    ds = ds.batch(batch_size)\n",
    "    return ds.prefetch(AUTO)"
   ]
  },
  {
   "cell_type": "code",
   "execution_count": null,
   "metadata": {
    "colab": {
     "base_uri": "https://localhost:8080/"
    },
    "id": "w1-Vca7vngs0",
    "outputId": "b39a5a33-0460-4f0f-b9fa-d5d839c43104"
   },
   "outputs": [],
   "source": [
    "parse_example(serialize_example(df_valid.head().to_numpy()[0]))"
   ]
  },
  {
   "cell_type": "code",
   "execution_count": null,
   "metadata": {
    "id": "yPywLg_snI7E",
    "scrolled": false
   },
   "outputs": [],
   "source": [
    "if False:\n",
    "\n",
    "    split_dict = {\n",
    "        'train': df_train,\n",
    "        'valid': df_valid\n",
    "    }\n",
    "\n",
    "    for s in split_dict:\n",
    "        df = split_dict[s]\n",
    "        n_files = len(df) // int(1e6)\n",
    "\n",
    "        for i, split in enumerate(np.array_split(df, n_files)):\n",
    "            out_path = f'gs://{BUCKET}/tfrecords'\n",
    "            filename = f'deep_collab-{s}-{i:02d}-{len(split)}.tfrec'\n",
    "            record_file = f'{out_path}/{filename}'\n",
    "\n",
    "            with tf.io.TFRecordWriter(record_file) as writer:\n",
    "                for rec in tqdm(split.to_numpy()):\n",
    "                    writer.write(serialize_example(rec))"
   ]
  },
  {
   "cell_type": "markdown",
   "metadata": {},
   "source": [
    "### Model"
   ]
  },
  {
   "cell_type": "code",
   "execution_count": null,
   "metadata": {
    "id": "WDGUis7AXsGv"
   },
   "outputs": [],
   "source": [
    "embed_spec = {\n",
    "    'user_id': (343810, 600, 0),\n",
    "    'content_id': (13513, 300, 1),\n",
    "    'part': (7, 5, 2),\n",
    "    'tags': (189, 30, slice(3,9))\n",
    "    }\n",
    "\n",
    "class KnowledgeNet(tf.keras.Model):\n",
    "    def __init__(self, embed_spec, n_act, l2_reg=1e-6, **kwargs):\n",
    "        super(KnowledgeNet, self).__init__(**kwargs)\n",
    "        self.embed_spec = embed_spec\n",
    "        self.n_act = n_act\n",
    "        self.l2_reg = l2_reg\n",
    "        self.embed_dict = {}\n",
    "        \n",
    "        for k, v in self.embed_spec.items():\n",
    "            input_dim, output_dim, _ = v\n",
    "            self.embed_dict[k] = tf.keras.layers.Embedding(\n",
    "                input_dim, output_dim,\n",
    "                embeddings_initializer=\"he_normal\",\n",
    "                embeddings_regularizer=tf.keras.regularizers.l2(self.l2_reg),\n",
    "                name=f'{k}_embedding'\n",
    "            )\n",
    "                        \n",
    "        self.dense_1 = tf.keras.layers.Dense(\n",
    "            input_dim=sum([v[0] for v in self.embed_spec.values()]), units=n_act, activation='relu', use_bias=True,\n",
    "            kernel_initializer='glorot_uniform',\n",
    "            bias_initializer='zeros', kernel_regularizer=tf.keras.regularizers.l2(self.l2_reg),\n",
    "            bias_regularizer=None, activity_regularizer=None, kernel_constraint=None,\n",
    "            bias_constraint=None, name='dense_1'\n",
    "        )\n",
    "        \n",
    "        self.dense_2 = tf.keras.layers.Dense(\n",
    "            input_dim=n_act, units=1, activation='sigmoid', use_bias=True,\n",
    "            kernel_initializer='glorot_uniform',\n",
    "            bias_initializer='zeros', kernel_regularizer=tf.keras.regularizers.l2(self.l2_reg),\n",
    "            bias_regularizer=None, activity_regularizer=None, kernel_constraint=None,\n",
    "            bias_constraint=None, name='dense_1'\n",
    "        )\n",
    "        \n",
    "    def call(self, inputs):\n",
    "        embeds = [self.embed_dict[k](inputs[:,v[-1]]) for k, v in self.embed_spec.items() if k != 'tags']\n",
    "        embed_tags = self.embed_dict['tags'](inputs[:,self.embed_spec['tags'][-1]])\n",
    "        embed_tags_agg = tf.reduce_prod(embed_tags, axis=1)\n",
    "        x = self.dense_1(tf.concat(embeds + [embed_tags_agg], axis=1))        \n",
    "        return self.dense_2(x)"
   ]
  },
  {
   "cell_type": "code",
   "execution_count": null,
   "metadata": {
    "id": "zLBSnJdZQrPZ"
   },
   "outputs": [],
   "source": [
    "with strategy.scope():\n",
    "    model = KnowledgeNet(embed_spec, 1024)\n",
    "    opt = tf.keras.optimizers.Adam(lr=.0001)\n",
    "    loss_fn = tf.keras.losses.BinaryCrossentropy()\n",
    "    metrics = ['binary_accuracy', 'AUC']\n",
    "    model.compile(loss=loss_fn, optimizer=opt, metrics=metrics)"
   ]
  },
  {
   "cell_type": "code",
   "execution_count": null,
   "metadata": {},
   "outputs": [],
   "source": [
    "epochs = 2\n",
    "batch_size = 2048 * strategy.num_replicas_in_sync\n",
    "split_counts = {'train': 0, 'valid': 0}\n",
    "\n",
    "for s in split_counts:\n",
    "    for b in bucket.list_blobs(prefix=f'tfrecords/deep_collab-{s}'):\n",
    "        split_counts[s] += int(b.name.split('-')[3].split('.')[0])\n",
    "\n",
    "steps_per_epoch = split_counts['train'] // batch_size\n",
    "val_steps = split_counts['valid'] // batch_size\n",
    "total_steps = steps_per_epoch * epochs\n",
    "\n",
    "split_counts, steps_per_epoch, val_steps, total_steps"
   ]
  },
  {
   "cell_type": "code",
   "execution_count": null,
   "metadata": {},
   "outputs": [],
   "source": [
    "if False:\n",
    "    lr_finder = LRFinder(start=1e-7, end=0.1, steps=100)\n",
    "\n",
    "    with strategy.scope():\n",
    "        model.save_weights(f'gs://{BUCKET}/temp/temp-weights.ckpt')\n",
    "        model.fit(get_ds_tfrec('train', batch_size), steps_per_epoch=lr_finder.steps, callbacks=[lr_finder])\n",
    "        model.load_weights(f'gs://{BUCKET}/temp/temp-weights.ckpt')\n",
    "\n",
    "    x = [lr_finder.start * (lr_finder.end / lr_finder.start) ** (s/lr_finder.steps) for s in range(lr_finder.steps)]"
   ]
  },
  {
   "cell_type": "code",
   "execution_count": null,
   "metadata": {},
   "outputs": [],
   "source": [
    "px.line(x=x, y=lr_finder.losses, log_x=True)"
   ]
  },
  {
   "cell_type": "code",
   "execution_count": null,
   "metadata": {},
   "outputs": [],
   "source": [
    "reference_lr = .0001\n",
    "print(f'max_lr: {reference_lr:1.2e}')\n",
    "\n",
    "one_cycle_kwargs = dict(\n",
    "    total_steps=total_steps,\n",
    "    steps_up_pct=0.3,\n",
    "    steps_across_pct=.01,\n",
    "    steps_down_pct=0.6,\n",
    "    lr_max=reference_lr,\n",
    "    lr_start_factor=1/25,\n",
    "    lr_end_factor=1/10,\n",
    "    decay=0.9999,\n",
    "    mo_max=0.95,\n",
    "    mo_min=0.85,\n",
    "    verbose=1\n",
    ")\n",
    "\n",
    "\n",
    "one_cycle = OneCycleScheduler(**one_cycle_kwargs)\n",
    "plot_lr_sched(one_cycle, total_steps)"
   ]
  },
  {
   "cell_type": "code",
   "execution_count": null,
   "metadata": {
    "colab": {
     "base_uri": "https://localhost:8080/"
    },
    "id": "8fjC6m_pZJvg",
    "outputId": "6cbc5eaf-8efa-42c1-fc1d-58ce3641d224",
    "scrolled": false
   },
   "outputs": [],
   "source": [
    "history = model.fit(\n",
    "    get_ds_tfrec('train', batch_size),\n",
    "    steps_per_epoch=steps_per_epoch,\n",
    "    epochs=epochs,\n",
    "    validation_data=get_ds_tfrec('valid', batch_size),\n",
    "    validation_steps=val_steps,\n",
    "    callbacks=[one_cycle],\n",
    "    verbose=1\n",
    ")"
   ]
  },
  {
   "cell_type": "code",
   "execution_count": null,
   "metadata": {},
   "outputs": [],
   "source": [
    "model.summary()"
   ]
  },
  {
   "cell_type": "code",
   "execution_count": null,
   "metadata": {
    "colab": {
     "base_uri": "https://localhost:8080/"
    },
    "id": "YEcjUsrxMQZY",
    "outputId": "ad355b54-db88-495a-f562-b8f067a8c311"
   },
   "outputs": [],
   "source": [
    "model.save(f'gs://{BUCKET}/models/deep_collab_model', include_optimizer=True)"
   ]
  },
  {
   "cell_type": "code",
   "execution_count": null,
   "metadata": {
    "id": "Ec5donekKQDV"
   },
   "outputs": [],
   "source": [
    "model = tf.saved_model.load(f'gs://{BUCKET}/models/collab_model_all')"
   ]
  },
  {
   "cell_type": "code",
   "execution_count": null,
   "metadata": {
    "id": "zyHpMo71eRwI"
   },
   "outputs": [],
   "source": [
    "weights = {c: df_data[c].cat.categories for c in cat_cols}\n",
    "for v in model.variables:\n",
    "    name = v.name.split('/')[1]\n",
    "    weights[name] = v.numpy()\n",
    "    weights[name] = np.append(weights[name], np.mean(weights[name], axis=0))"
   ]
  },
  {
   "cell_type": "code",
   "execution_count": null,
   "metadata": {
    "id": "UqfCLFD2NXm0"
   },
   "outputs": [],
   "source": [
    "def get_pred(u_code, c_code, logits=False):\n",
    "    user_vector = weights['user_embedding'][u_code]\n",
    "    user_bias = weights['user_bias'][u_code]\n",
    "    question_vector = weights['question_embedding'][c_code]\n",
    "    question_bias = weights['question_bias'][c_code]\n",
    "    \n",
    "    logit = np.squeeze((user_vector * question_vector).sum() + user_bias + question_bias)\n",
    "    \n",
    "    if logits:\n",
    "        return logit\n",
    "    else:\n",
    "        return 1 / (1 + np.math.exp(-logit))"
   ]
  },
  {
   "cell_type": "code",
   "execution_count": null,
   "metadata": {
    "id": "9NwjCQwrGLsB"
   },
   "outputs": [],
   "source": [
    "np.save('weights_all.npy', weights, allow_pickle=True)"
   ]
  },
  {
   "cell_type": "code",
   "execution_count": null,
   "metadata": {
    "id": "9yyrQvasfCal"
   },
   "outputs": [],
   "source": [
    "weights = np.load('weights_all.npy', allow_pickle=True).item()"
   ]
  },
  {
   "cell_type": "code",
   "execution_count": null,
   "metadata": {
    "id": "VbbYs_vFJJmt"
   },
   "outputs": [],
   "source": [
    "bucket.blob('weights_all.npy').upload_from_filename('weights_all.npy')"
   ]
  },
  {
   "cell_type": "code",
   "execution_count": null,
   "metadata": {
    "id": "617fSnLWODtU"
   },
   "outputs": [],
   "source": [
    "def get_code_cols(df):\n",
    "    return pd.concat([df[col].cat.codes for col in cat_cols], axis=1)"
   ]
  },
  {
   "cell_type": "code",
   "execution_count": null,
   "metadata": {
    "id": "hKR7gZKvOjea"
   },
   "outputs": [],
   "source": [
    "df_cat_cols = get_code_cols(df_train)"
   ]
  },
  {
   "cell_type": "code",
   "execution_count": null,
   "metadata": {
    "id": "YD11KSjKPEgR"
   },
   "outputs": [],
   "source": [
    "tqdm.pandas()"
   ]
  },
  {
   "cell_type": "code",
   "execution_count": null,
   "metadata": {
    "colab": {
     "base_uri": "https://localhost:8080/"
    },
    "id": "NcFqgsUfQFK0",
    "outputId": "2e0c6a87-1552-47e4-edc4-59b7b5796e0e"
   },
   "outputs": [],
   "source": [
    "get_pred(43124, 9276, True)"
   ]
  },
  {
   "cell_type": "code",
   "execution_count": null,
   "metadata": {
    "colab": {
     "base_uri": "https://localhost:8080/",
     "height": 66,
     "referenced_widgets": [
      "488f106b90e64e509091124e15ac86ea",
      "7371a2da83c047fc921425b910048107",
      "8c277c0d926c4c2ebb53cdf71e2df986",
      "0ea64c8534aa4184b0c7c3eba217aec0",
      "74fdbb0ef57a46e4b589a46c18ec042d",
      "08df8883af494b70b718a7ce5b4f9386",
      "011d43b43aed485a8751ec48d9d95bab",
      "d5e4c6e070c0413491222f9edf1bba2c"
     ]
    },
    "id": "0ExuXHnpO1om",
    "outputId": "d8021d2d-077a-42a7-a0b7-c7315d02c663"
   },
   "outputs": [],
   "source": [
    "df_preds = df_cat_cols.progress_apply(lambda r: get_pred(*r, logits=True), axis=1)"
   ]
  },
  {
   "cell_type": "code",
   "execution_count": null,
   "metadata": {
    "colab": {
     "base_uri": "https://localhost:8080/"
    },
    "id": "KNDUJDYRX7kT",
    "outputId": "76a4ad3c-6563-41fc-c049-9a9449a3eebe"
   },
   "outputs": [],
   "source": [
    "roc_auc_score(df_valid.answered_correctly, df_preds)"
   ]
  },
  {
   "cell_type": "code",
   "execution_count": null,
   "metadata": {
    "colab": {
     "base_uri": "https://localhost:8080/",
     "height": 66,
     "referenced_widgets": [
      "da20e26860b04d3f9b7aec2866f1a43c",
      "7dc3eef3c43b468093264474aec72870",
      "1068312cf5104622af904af5507ffdfb",
      "014d6e6088084f31ac20b506f8e9d0a6",
      "46f7c96c423f43938916d9f3ff8f8d59",
      "68b08e46b6b94cb7907dd3259deeead1",
      "0036b023c2224f458414b8053f42ee55",
      "c835dd42207646a1a06a02725c3732c6"
     ]
    },
    "id": "x6NcnS49Y_6I",
    "outputId": "1764c374-4730-4723-bdb4-6e647ad5b269"
   },
   "outputs": [],
   "source": [
    "folds = range(5)\n",
    "\n",
    "df_test_all = pd.read_gbq((f\"\"\"\n",
    "    SELECT row_id, user_id, content_id, answered_correctly,\n",
    "    FROM data.train t\n",
    "    WHERE content_type_id = 0\n",
    "    AND fold in ({(', '.join(list(map(str, folds))))}) \n",
    "    ORDER BY user_id, content_id\n",
    "    \"\"\", '_q_'), use_bqstorage_api=True, progress_bar_type='tqdm_notebook')"
   ]
  },
  {
   "cell_type": "code",
   "execution_count": null,
   "metadata": {
    "id": "_j5twpQOkZS5"
   },
   "outputs": [],
   "source": [
    "df_test_all.to_pickle('df_test_all.pkl')"
   ]
  },
  {
   "cell_type": "code",
   "execution_count": null,
   "metadata": {
    "id": "8ByKunS2c0km"
   },
   "outputs": [],
   "source": [
    "for c in cat_cols:\n",
    "    df_test_all[c] = pd.Categorical(df_test_all[c], categories=weights[c])"
   ]
  },
  {
   "cell_type": "code",
   "execution_count": null,
   "metadata": {
    "id": "fsJQRQmikmoP"
   },
   "outputs": [],
   "source": [
    "df_code_cols = get_code_cols(df_test_all)"
   ]
  },
  {
   "cell_type": "code",
   "execution_count": null,
   "metadata": {
    "colab": {
     "base_uri": "https://localhost:8080/",
     "height": 66,
     "referenced_widgets": [
      "084f2d9358df47df8cdb1874c203fcb8",
      "214f3fcaeb4d49e0a47be36f3c6f854f",
      "f25723a2fc8f4192b8b3adde2cd0d70f",
      "e96d00e7c2c44755866ebbbf77b5af42",
      "9e709767b51a4e5ebfbaa5d747c4ad4f",
      "c9e63655621b4e12ad8bcac2712ca812",
      "4ad22a4a79e74753b9fedac8e2b469ea",
      "d5a3b39de6d3404d910394ddf6439548"
     ]
    },
    "id": "hlbeMSIsk0cB",
    "outputId": "ac809c5f-f586-4aba-f56a-be677f9bcd28"
   },
   "outputs": [],
   "source": [
    "preds_all = df_code_cols.progress_apply(lambda r: get_pred(*r, logits=True), axis=1)"
   ]
  },
  {
   "cell_type": "code",
   "execution_count": null,
   "metadata": {
    "id": "eQJh448ln1rU"
   },
   "outputs": [],
   "source": [
    "df_test_all['pred_collab_logit'] = preds_all"
   ]
  },
  {
   "cell_type": "code",
   "execution_count": null,
   "metadata": {
    "id": "cUvY2NJloYTZ"
   },
   "outputs": [],
   "source": [
    "df_test_all[['row_id', 'pred_collab', 'pred_collab_logit']].to_pickle('df_pred_collab.pkl')"
   ]
  },
  {
   "cell_type": "code",
   "execution_count": null,
   "metadata": {
    "id": "1k0G3pKmo2Eo"
   },
   "outputs": [],
   "source": [
    "bucket.blob('df_pred_collab.pkl').upload_from_filename('df_pred_collab.pkl')"
   ]
  },
  {
   "cell_type": "code",
   "execution_count": null,
   "metadata": {
    "colab": {
     "base_uri": "https://localhost:8080/"
    },
    "id": "nQBGy_BMnsn3",
    "outputId": "94b6e2c9-058f-496e-ecf9-caee9d9555eb"
   },
   "outputs": [],
   "source": [
    "roc_auc_score(df_test_all.answered_correctly, preds_all)"
   ]
  },
  {
   "cell_type": "markdown",
   "metadata": {
    "heading_collapsed": true,
    "id": "tZHDa7HT8m_V"
   },
   "source": [
    "## Custom Training Loop"
   ]
  },
  {
   "cell_type": "code",
   "execution_count": null,
   "metadata": {
    "hidden": true,
    "id": "5g4oCKSpPc5-"
   },
   "outputs": [],
   "source": [
    "BATCH_SIZE_PER_REPLICA = 64\n",
    "BATCH_SIZE_GLOBAL = BATCH_SIZE_PER_REPLICA * strategy.num_replicas_in_sync\n",
    "\n",
    "ds_trn_fit_iter = iter(strategy.experimental_distribute_dataset(get_ds_tfrec('train', batch_size=BATCH_SIZE_GLOBAL)))\n",
    "ds_val_fit_iter = iter(strategy.experimental_distribute_dataset(get_ds_tfrec('valid', batch_size=BATCH_SIZE_GLOBAL)))"
   ]
  },
  {
   "cell_type": "code",
   "execution_count": null,
   "metadata": {
    "hidden": true,
    "id": "CNLJME5WQFcD"
   },
   "outputs": [],
   "source": [
    "with strategy.scope():\n",
    "    model = KnowledgeNet(n_users, n_questions, EMBEDDING_SIZE)\n",
    "    \n",
    "    loss_fn = tf.keras.losses.BinaryCrossentropy(reduction=tf.keras.losses.Reduction.NONE)\n",
    "    \n",
    "    def compute_loss(targets, outputs):\n",
    "        per_example_loss = loss_fn(targets, outputs)\n",
    "        return tf.nn.compute_average_loss(per_example_loss, global_batch_size=BATCH_SIZE_GLOBAL)\n",
    "    \n",
    "    optimizer = tf.keras.optimizers.Adam(lr=0.0001)\n",
    "    # metrics_trn = [tf.keras.metrics.Mean(name='loss'), tf.keras.metrics.BinaryAccuracy('accuracy'), tf.keras.metrics.AUC(name='roc_auc')]\n",
    "    # metrics_val = [tf.keras.metrics.Mean(name='val_loss'), tf.keras.metrics.BinaryAccuracy('val_accuracy'), tf.keras.metrics.AUC(name='val_roc_auc')]\n",
    "    metrics_trn = [tf.keras.metrics.Mean(name='loss')]\n",
    "    metrics_val = [tf.keras.metrics.Mean(name='val_loss')]"
   ]
  },
  {
   "cell_type": "code",
   "execution_count": null,
   "metadata": {
    "hidden": true,
    "id": "HMDIN4jvFLmc"
   },
   "outputs": [],
   "source": [
    "@tf.function\n",
    "def train_step(model, optimizer, loss_fn, metrics, ds_iter, steps_per_epoch):\n",
    "    def train_step_fn(inputs, targets):\n",
    "        with tf.GradientTape() as tape:\n",
    "            outputs = model(inputs, training=True)\n",
    "            loss = loss_fn(targets, outputs)\n",
    "                            \n",
    "        grads = tape.gradient(loss, model.trainable_variables)\n",
    "        optimizer.apply_gradients(zip(grads, model.trainable_variables))\n",
    "        \n",
    "        for i, metric in enumerate(metrics):\n",
    "            if i == 0:\n",
    "                metric.update_state(loss)\n",
    "            else:\n",
    "                metric.update_state(targets, outputs)\n",
    "    \n",
    "    for _ in tf.range(steps_per_epoch):\n",
    "        strategy.run(train_step_fn, next(ds_iter))\n",
    "        \n",
    "@tf.function\n",
    "def val_step(model, loss_fn, metrics, ds_iter, steps_per_epoch):\n",
    "    def val_step_fn(inputs, targets):\n",
    "        outputs = model(inputs, training=False)\n",
    "        loss = loss_fn(targets, outputs)\n",
    "        \n",
    "        for i, metric in enumerate(metrics):\n",
    "            if i == 0:\n",
    "                metric.update_state(loss)\n",
    "            else:\n",
    "                metric.update_state(targets, outputs)\n",
    "    \n",
    "    for _ in tf.range(steps_per_epoch):\n",
    "        strategy.run(val_step_fn, next(ds_iter))"
   ]
  },
  {
   "cell_type": "code",
   "execution_count": null,
   "metadata": {
    "colab": {
     "base_uri": "https://localhost:8080/"
    },
    "hidden": true,
    "id": "uyqLBApERUCJ",
    "outputId": "714bcfba-3f5c-423d-ace5-36f320e712dd"
   },
   "outputs": [],
   "source": [
    "epochs = 5\n",
    "steps_per_epoch = 10000\n",
    "val_steps = 100\n",
    "results = {metric.name: [] for metric in metrics_trn + metrics_val}\n",
    "results['duration'] = []\n",
    "\n",
    "start = time.perf_counter()\n",
    "for epoch in range(epochs):\n",
    "    epoch_start = time.perf_counter()\n",
    "    train_step(model, optimizer, compute_loss, metrics_trn, ds_trn_fit_iter, steps_per_epoch)    \n",
    "    val_step(model, compute_loss, metrics_val, ds_val_fit_iter, val_steps)\n",
    "    \n",
    "    for metric in metrics_trn + metrics_val:\n",
    "        results[metric.name].append(metric.result().numpy())\n",
    "        metric.reset_states()\n",
    "        \n",
    "    results['duration'].append((time.perf_counter() - epoch_start))\n",
    "    \n",
    "    print(f'epoch {epoch:02d} - ', (', ').join([f'{k}: {v[-1]:0.4f}' for k,v in results.items()]))\n",
    "\n",
    "end = time.perf_counter()\n",
    "seconds = end - start\n",
    "minutes = seconds / 60 + (seconds % 60) / 60\n",
    "print(f'Total duration: {minutes:0.1f} minutes - {seconds / epochs:0.1f} seconds per epoch')"
   ]
  }
 ],
 "metadata": {
  "accelerator": "GPU",
  "colab": {
   "collapsed_sections": [],
   "machine_shape": "hm",
   "name": "collaborative_filtering.ipynb",
   "provenance": [],
   "toc_visible": true
  },
  "environment": {
   "name": "tf2-2-3-gpu.2-3.m59",
   "type": "gcloud",
   "uri": "gcr.io/deeplearning-platform-release/tf2-2-3-gpu.2-3:m59"
  },
  "kernelspec": {
   "display_name": "Python 3",
   "language": "python",
   "name": "python3"
  },
  "language_info": {
   "codemirror_mode": {
    "name": "ipython",
    "version": 3
   },
   "file_extension": ".py",
   "mimetype": "text/x-python",
   "name": "python",
   "nbconvert_exporter": "python",
   "pygments_lexer": "ipython3",
   "version": "3.7.8"
  },
  "toc": {
   "base_numbering": 1,
   "nav_menu": {},
   "number_sections": true,
   "sideBar": true,
   "skip_h1_title": false,
   "title_cell": "Table of Contents",
   "title_sidebar": "Contents",
   "toc_cell": false,
   "toc_position": {},
   "toc_section_display": true,
   "toc_window_display": true
  },
  "widgets": {
   "application/vnd.jupyter.widget-state+json": {
    "0036b023c2224f458414b8053f42ee55": {
     "model_module": "@jupyter-widgets/controls",
     "model_name": "DescriptionStyleModel",
     "state": {
      "_model_module": "@jupyter-widgets/controls",
      "_model_module_version": "1.5.0",
      "_model_name": "DescriptionStyleModel",
      "_view_count": null,
      "_view_module": "@jupyter-widgets/base",
      "_view_module_version": "1.2.0",
      "_view_name": "StyleView",
      "description_width": ""
     }
    },
    "011d43b43aed485a8751ec48d9d95bab": {
     "model_module": "@jupyter-widgets/controls",
     "model_name": "DescriptionStyleModel",
     "state": {
      "_model_module": "@jupyter-widgets/controls",
      "_model_module_version": "1.5.0",
      "_model_name": "DescriptionStyleModel",
      "_view_count": null,
      "_view_module": "@jupyter-widgets/base",
      "_view_module_version": "1.2.0",
      "_view_name": "StyleView",
      "description_width": ""
     }
    },
    "014d6e6088084f31ac20b506f8e9d0a6": {
     "model_module": "@jupyter-widgets/controls",
     "model_name": "HTMLModel",
     "state": {
      "_dom_classes": [],
      "_model_module": "@jupyter-widgets/controls",
      "_model_module_version": "1.5.0",
      "_model_name": "HTMLModel",
      "_view_count": null,
      "_view_module": "@jupyter-widgets/controls",
      "_view_module_version": "1.5.0",
      "_view_name": "HTMLView",
      "description": "",
      "description_tooltip": null,
      "layout": "IPY_MODEL_c835dd42207646a1a06a02725c3732c6",
      "placeholder": "​",
      "style": "IPY_MODEL_0036b023c2224f458414b8053f42ee55",
      "value": " 6478025/6478025 [24:49&lt;00:00, 4350.54rows/s]"
     }
    },
    "084f2d9358df47df8cdb1874c203fcb8": {
     "model_module": "@jupyter-widgets/controls",
     "model_name": "HBoxModel",
     "state": {
      "_dom_classes": [],
      "_model_module": "@jupyter-widgets/controls",
      "_model_module_version": "1.5.0",
      "_model_name": "HBoxModel",
      "_view_count": null,
      "_view_module": "@jupyter-widgets/controls",
      "_view_module_version": "1.5.0",
      "_view_name": "HBoxView",
      "box_style": "",
      "children": [
       "IPY_MODEL_f25723a2fc8f4192b8b3adde2cd0d70f",
       "IPY_MODEL_e96d00e7c2c44755866ebbbf77b5af42"
      ],
      "layout": "IPY_MODEL_214f3fcaeb4d49e0a47be36f3c6f854f"
     }
    },
    "08df8883af494b70b718a7ce5b4f9386": {
     "model_module": "@jupyter-widgets/base",
     "model_name": "LayoutModel",
     "state": {
      "_model_module": "@jupyter-widgets/base",
      "_model_module_version": "1.2.0",
      "_model_name": "LayoutModel",
      "_view_count": null,
      "_view_module": "@jupyter-widgets/base",
      "_view_module_version": "1.2.0",
      "_view_name": "LayoutView",
      "align_content": null,
      "align_items": null,
      "align_self": null,
      "border": null,
      "bottom": null,
      "display": null,
      "flex": null,
      "flex_flow": null,
      "grid_area": null,
      "grid_auto_columns": null,
      "grid_auto_flow": null,
      "grid_auto_rows": null,
      "grid_column": null,
      "grid_gap": null,
      "grid_row": null,
      "grid_template_areas": null,
      "grid_template_columns": null,
      "grid_template_rows": null,
      "height": null,
      "justify_content": null,
      "justify_items": null,
      "left": null,
      "margin": null,
      "max_height": null,
      "max_width": null,
      "min_height": null,
      "min_width": null,
      "object_fit": null,
      "object_position": null,
      "order": null,
      "overflow": null,
      "overflow_x": null,
      "overflow_y": null,
      "padding": null,
      "right": null,
      "top": null,
      "visibility": null,
      "width": null
     }
    },
    "09792541227541a1872ae6f20d18651f": {
     "model_module": "@jupyter-widgets/controls",
     "model_name": "FloatProgressModel",
     "state": {
      "_dom_classes": [],
      "_model_module": "@jupyter-widgets/controls",
      "_model_module_version": "1.5.0",
      "_model_name": "FloatProgressModel",
      "_view_count": null,
      "_view_module": "@jupyter-widgets/controls",
      "_view_module_version": "1.5.0",
      "_view_name": "ProgressView",
      "bar_style": "success",
      "description": "Downloading: 100%",
      "description_tooltip": null,
      "layout": "IPY_MODEL_58fb8e31ffae410aa9788c36487ff2ab",
      "max": 1294272,
      "min": 0,
      "orientation": "horizontal",
      "style": "IPY_MODEL_7877600264494ffe910f2edf1f20e8e4",
      "value": 1294272
     }
    },
    "0ea64c8534aa4184b0c7c3eba217aec0": {
     "model_module": "@jupyter-widgets/controls",
     "model_name": "HTMLModel",
     "state": {
      "_dom_classes": [],
      "_model_module": "@jupyter-widgets/controls",
      "_model_module_version": "1.5.0",
      "_model_name": "HTMLModel",
      "_view_count": null,
      "_view_module": "@jupyter-widgets/controls",
      "_view_module_version": "1.5.0",
      "_view_name": "HTMLView",
      "description": "",
      "description_tooltip": null,
      "layout": "IPY_MODEL_d5e4c6e070c0413491222f9edf1bba2c",
      "placeholder": "​",
      "style": "IPY_MODEL_011d43b43aed485a8751ec48d9d95bab",
      "value": " 1049559/1049559 [1:09:12&lt;00:00, 252.76it/s]"
     }
    },
    "1068312cf5104622af904af5507ffdfb": {
     "model_module": "@jupyter-widgets/controls",
     "model_name": "FloatProgressModel",
     "state": {
      "_dom_classes": [],
      "_model_module": "@jupyter-widgets/controls",
      "_model_module_version": "1.5.0",
      "_model_name": "FloatProgressModel",
      "_view_count": null,
      "_view_module": "@jupyter-widgets/controls",
      "_view_module_version": "1.5.0",
      "_view_name": "ProgressView",
      "bar_style": "success",
      "description": "Downloading: 100%",
      "description_tooltip": null,
      "layout": "IPY_MODEL_68b08e46b6b94cb7907dd3259deeead1",
      "max": 6478025,
      "min": 0,
      "orientation": "horizontal",
      "style": "IPY_MODEL_46f7c96c423f43938916d9f3ff8f8d59",
      "value": 6478025
     }
    },
    "214f3fcaeb4d49e0a47be36f3c6f854f": {
     "model_module": "@jupyter-widgets/base",
     "model_name": "LayoutModel",
     "state": {
      "_model_module": "@jupyter-widgets/base",
      "_model_module_version": "1.2.0",
      "_model_name": "LayoutModel",
      "_view_count": null,
      "_view_module": "@jupyter-widgets/base",
      "_view_module_version": "1.2.0",
      "_view_name": "LayoutView",
      "align_content": null,
      "align_items": null,
      "align_self": null,
      "border": null,
      "bottom": null,
      "display": null,
      "flex": null,
      "flex_flow": null,
      "grid_area": null,
      "grid_auto_columns": null,
      "grid_auto_flow": null,
      "grid_auto_rows": null,
      "grid_column": null,
      "grid_gap": null,
      "grid_row": null,
      "grid_template_areas": null,
      "grid_template_columns": null,
      "grid_template_rows": null,
      "height": null,
      "justify_content": null,
      "justify_items": null,
      "left": null,
      "margin": null,
      "max_height": null,
      "max_width": null,
      "min_height": null,
      "min_width": null,
      "object_fit": null,
      "object_position": null,
      "order": null,
      "overflow": null,
      "overflow_x": null,
      "overflow_y": null,
      "padding": null,
      "right": null,
      "top": null,
      "visibility": null,
      "width": null
     }
    },
    "235676a015614259bc3d1372b7e0c020": {
     "model_module": "@jupyter-widgets/controls",
     "model_name": "HBoxModel",
     "state": {
      "_dom_classes": [],
      "_model_module": "@jupyter-widgets/controls",
      "_model_module_version": "1.5.0",
      "_model_name": "HBoxModel",
      "_view_count": null,
      "_view_module": "@jupyter-widgets/controls",
      "_view_module_version": "1.5.0",
      "_view_name": "HBoxView",
      "box_style": "",
      "children": [
       "IPY_MODEL_b1b6224e2bc2416bb344798c1add2537",
       "IPY_MODEL_81d505ad30d34683b646252cc1e830cb"
      ],
      "layout": "IPY_MODEL_5663d015758f430caeb16b63ff43841e"
     }
    },
    "46f7c96c423f43938916d9f3ff8f8d59": {
     "model_module": "@jupyter-widgets/controls",
     "model_name": "ProgressStyleModel",
     "state": {
      "_model_module": "@jupyter-widgets/controls",
      "_model_module_version": "1.5.0",
      "_model_name": "ProgressStyleModel",
      "_view_count": null,
      "_view_module": "@jupyter-widgets/base",
      "_view_module_version": "1.2.0",
      "_view_name": "StyleView",
      "bar_color": null,
      "description_width": "initial"
     }
    },
    "488f106b90e64e509091124e15ac86ea": {
     "model_module": "@jupyter-widgets/controls",
     "model_name": "HBoxModel",
     "state": {
      "_dom_classes": [],
      "_model_module": "@jupyter-widgets/controls",
      "_model_module_version": "1.5.0",
      "_model_name": "HBoxModel",
      "_view_count": null,
      "_view_module": "@jupyter-widgets/controls",
      "_view_module_version": "1.5.0",
      "_view_name": "HBoxView",
      "box_style": "",
      "children": [
       "IPY_MODEL_8c277c0d926c4c2ebb53cdf71e2df986",
       "IPY_MODEL_0ea64c8534aa4184b0c7c3eba217aec0"
      ],
      "layout": "IPY_MODEL_7371a2da83c047fc921425b910048107"
     }
    },
    "4ad22a4a79e74753b9fedac8e2b469ea": {
     "model_module": "@jupyter-widgets/controls",
     "model_name": "DescriptionStyleModel",
     "state": {
      "_model_module": "@jupyter-widgets/controls",
      "_model_module_version": "1.5.0",
      "_model_name": "DescriptionStyleModel",
      "_view_count": null,
      "_view_module": "@jupyter-widgets/base",
      "_view_module_version": "1.2.0",
      "_view_name": "StyleView",
      "description_width": ""
     }
    },
    "5663d015758f430caeb16b63ff43841e": {
     "model_module": "@jupyter-widgets/base",
     "model_name": "LayoutModel",
     "state": {
      "_model_module": "@jupyter-widgets/base",
      "_model_module_version": "1.2.0",
      "_model_name": "LayoutModel",
      "_view_count": null,
      "_view_module": "@jupyter-widgets/base",
      "_view_module_version": "1.2.0",
      "_view_name": "LayoutView",
      "align_content": null,
      "align_items": null,
      "align_self": null,
      "border": null,
      "bottom": null,
      "display": null,
      "flex": null,
      "flex_flow": null,
      "grid_area": null,
      "grid_auto_columns": null,
      "grid_auto_flow": null,
      "grid_auto_rows": null,
      "grid_column": null,
      "grid_gap": null,
      "grid_row": null,
      "grid_template_areas": null,
      "grid_template_columns": null,
      "grid_template_rows": null,
      "height": null,
      "justify_content": null,
      "justify_items": null,
      "left": null,
      "margin": null,
      "max_height": null,
      "max_width": null,
      "min_height": null,
      "min_width": null,
      "object_fit": null,
      "object_position": null,
      "order": null,
      "overflow": null,
      "overflow_x": null,
      "overflow_y": null,
      "padding": null,
      "right": null,
      "top": null,
      "visibility": null,
      "width": null
     }
    },
    "58fb8e31ffae410aa9788c36487ff2ab": {
     "model_module": "@jupyter-widgets/base",
     "model_name": "LayoutModel",
     "state": {
      "_model_module": "@jupyter-widgets/base",
      "_model_module_version": "1.2.0",
      "_model_name": "LayoutModel",
      "_view_count": null,
      "_view_module": "@jupyter-widgets/base",
      "_view_module_version": "1.2.0",
      "_view_name": "LayoutView",
      "align_content": null,
      "align_items": null,
      "align_self": null,
      "border": null,
      "bottom": null,
      "display": null,
      "flex": null,
      "flex_flow": null,
      "grid_area": null,
      "grid_auto_columns": null,
      "grid_auto_flow": null,
      "grid_auto_rows": null,
      "grid_column": null,
      "grid_gap": null,
      "grid_row": null,
      "grid_template_areas": null,
      "grid_template_columns": null,
      "grid_template_rows": null,
      "height": null,
      "justify_content": null,
      "justify_items": null,
      "left": null,
      "margin": null,
      "max_height": null,
      "max_width": null,
      "min_height": null,
      "min_width": null,
      "object_fit": null,
      "object_position": null,
      "order": null,
      "overflow": null,
      "overflow_x": null,
      "overflow_y": null,
      "padding": null,
      "right": null,
      "top": null,
      "visibility": null,
      "width": null
     }
    },
    "5918d69949e443bbb43353bfb48fc803": {
     "model_module": "@jupyter-widgets/controls",
     "model_name": "HBoxModel",
     "state": {
      "_dom_classes": [],
      "_model_module": "@jupyter-widgets/controls",
      "_model_module_version": "1.5.0",
      "_model_name": "HBoxModel",
      "_view_count": null,
      "_view_module": "@jupyter-widgets/controls",
      "_view_module_version": "1.5.0",
      "_view_name": "HBoxView",
      "box_style": "",
      "children": [
       "IPY_MODEL_09792541227541a1872ae6f20d18651f",
       "IPY_MODEL_781442d17ed048b8a8b1602673ba0a48"
      ],
      "layout": "IPY_MODEL_5f5799f25b1d4f4e853a48660007fadf"
     }
    },
    "5f5799f25b1d4f4e853a48660007fadf": {
     "model_module": "@jupyter-widgets/base",
     "model_name": "LayoutModel",
     "state": {
      "_model_module": "@jupyter-widgets/base",
      "_model_module_version": "1.2.0",
      "_model_name": "LayoutModel",
      "_view_count": null,
      "_view_module": "@jupyter-widgets/base",
      "_view_module_version": "1.2.0",
      "_view_name": "LayoutView",
      "align_content": null,
      "align_items": null,
      "align_self": null,
      "border": null,
      "bottom": null,
      "display": null,
      "flex": null,
      "flex_flow": null,
      "grid_area": null,
      "grid_auto_columns": null,
      "grid_auto_flow": null,
      "grid_auto_rows": null,
      "grid_column": null,
      "grid_gap": null,
      "grid_row": null,
      "grid_template_areas": null,
      "grid_template_columns": null,
      "grid_template_rows": null,
      "height": null,
      "justify_content": null,
      "justify_items": null,
      "left": null,
      "margin": null,
      "max_height": null,
      "max_width": null,
      "min_height": null,
      "min_width": null,
      "object_fit": null,
      "object_position": null,
      "order": null,
      "overflow": null,
      "overflow_x": null,
      "overflow_y": null,
      "padding": null,
      "right": null,
      "top": null,
      "visibility": null,
      "width": null
     }
    },
    "68b08e46b6b94cb7907dd3259deeead1": {
     "model_module": "@jupyter-widgets/base",
     "model_name": "LayoutModel",
     "state": {
      "_model_module": "@jupyter-widgets/base",
      "_model_module_version": "1.2.0",
      "_model_name": "LayoutModel",
      "_view_count": null,
      "_view_module": "@jupyter-widgets/base",
      "_view_module_version": "1.2.0",
      "_view_name": "LayoutView",
      "align_content": null,
      "align_items": null,
      "align_self": null,
      "border": null,
      "bottom": null,
      "display": null,
      "flex": null,
      "flex_flow": null,
      "grid_area": null,
      "grid_auto_columns": null,
      "grid_auto_flow": null,
      "grid_auto_rows": null,
      "grid_column": null,
      "grid_gap": null,
      "grid_row": null,
      "grid_template_areas": null,
      "grid_template_columns": null,
      "grid_template_rows": null,
      "height": null,
      "justify_content": null,
      "justify_items": null,
      "left": null,
      "margin": null,
      "max_height": null,
      "max_width": null,
      "min_height": null,
      "min_width": null,
      "object_fit": null,
      "object_position": null,
      "order": null,
      "overflow": null,
      "overflow_x": null,
      "overflow_y": null,
      "padding": null,
      "right": null,
      "top": null,
      "visibility": null,
      "width": null
     }
    },
    "6f4ece440f634846a98fd6aa65585679": {
     "model_module": "@jupyter-widgets/controls",
     "model_name": "DescriptionStyleModel",
     "state": {
      "_model_module": "@jupyter-widgets/controls",
      "_model_module_version": "1.5.0",
      "_model_name": "DescriptionStyleModel",
      "_view_count": null,
      "_view_module": "@jupyter-widgets/base",
      "_view_module_version": "1.2.0",
      "_view_name": "StyleView",
      "description_width": ""
     }
    },
    "7371a2da83c047fc921425b910048107": {
     "model_module": "@jupyter-widgets/base",
     "model_name": "LayoutModel",
     "state": {
      "_model_module": "@jupyter-widgets/base",
      "_model_module_version": "1.2.0",
      "_model_name": "LayoutModel",
      "_view_count": null,
      "_view_module": "@jupyter-widgets/base",
      "_view_module_version": "1.2.0",
      "_view_name": "LayoutView",
      "align_content": null,
      "align_items": null,
      "align_self": null,
      "border": null,
      "bottom": null,
      "display": null,
      "flex": null,
      "flex_flow": null,
      "grid_area": null,
      "grid_auto_columns": null,
      "grid_auto_flow": null,
      "grid_auto_rows": null,
      "grid_column": null,
      "grid_gap": null,
      "grid_row": null,
      "grid_template_areas": null,
      "grid_template_columns": null,
      "grid_template_rows": null,
      "height": null,
      "justify_content": null,
      "justify_items": null,
      "left": null,
      "margin": null,
      "max_height": null,
      "max_width": null,
      "min_height": null,
      "min_width": null,
      "object_fit": null,
      "object_position": null,
      "order": null,
      "overflow": null,
      "overflow_x": null,
      "overflow_y": null,
      "padding": null,
      "right": null,
      "top": null,
      "visibility": null,
      "width": null
     }
    },
    "74fdbb0ef57a46e4b589a46c18ec042d": {
     "model_module": "@jupyter-widgets/controls",
     "model_name": "ProgressStyleModel",
     "state": {
      "_model_module": "@jupyter-widgets/controls",
      "_model_module_version": "1.5.0",
      "_model_name": "ProgressStyleModel",
      "_view_count": null,
      "_view_module": "@jupyter-widgets/base",
      "_view_module_version": "1.2.0",
      "_view_name": "StyleView",
      "bar_color": null,
      "description_width": "initial"
     }
    },
    "781442d17ed048b8a8b1602673ba0a48": {
     "model_module": "@jupyter-widgets/controls",
     "model_name": "HTMLModel",
     "state": {
      "_dom_classes": [],
      "_model_module": "@jupyter-widgets/controls",
      "_model_module_version": "1.5.0",
      "_model_name": "HTMLModel",
      "_view_count": null,
      "_view_module": "@jupyter-widgets/controls",
      "_view_module_version": "1.5.0",
      "_view_name": "HTMLView",
      "description": "",
      "description_tooltip": null,
      "layout": "IPY_MODEL_e8bea655634949328e13aa6e52f87e34",
      "placeholder": "​",
      "style": "IPY_MODEL_b20574a0dd89443d997334e4d5cec717",
      "value": " 1294272/1294272 [03:30&lt;00:00, 6138.32rows/s]"
     }
    },
    "7877600264494ffe910f2edf1f20e8e4": {
     "model_module": "@jupyter-widgets/controls",
     "model_name": "ProgressStyleModel",
     "state": {
      "_model_module": "@jupyter-widgets/controls",
      "_model_module_version": "1.5.0",
      "_model_name": "ProgressStyleModel",
      "_view_count": null,
      "_view_module": "@jupyter-widgets/base",
      "_view_module_version": "1.2.0",
      "_view_name": "StyleView",
      "bar_color": null,
      "description_width": "initial"
     }
    },
    "7dc3eef3c43b468093264474aec72870": {
     "model_module": "@jupyter-widgets/base",
     "model_name": "LayoutModel",
     "state": {
      "_model_module": "@jupyter-widgets/base",
      "_model_module_version": "1.2.0",
      "_model_name": "LayoutModel",
      "_view_count": null,
      "_view_module": "@jupyter-widgets/base",
      "_view_module_version": "1.2.0",
      "_view_name": "LayoutView",
      "align_content": null,
      "align_items": null,
      "align_self": null,
      "border": null,
      "bottom": null,
      "display": null,
      "flex": null,
      "flex_flow": null,
      "grid_area": null,
      "grid_auto_columns": null,
      "grid_auto_flow": null,
      "grid_auto_rows": null,
      "grid_column": null,
      "grid_gap": null,
      "grid_row": null,
      "grid_template_areas": null,
      "grid_template_columns": null,
      "grid_template_rows": null,
      "height": null,
      "justify_content": null,
      "justify_items": null,
      "left": null,
      "margin": null,
      "max_height": null,
      "max_width": null,
      "min_height": null,
      "min_width": null,
      "object_fit": null,
      "object_position": null,
      "order": null,
      "overflow": null,
      "overflow_x": null,
      "overflow_y": null,
      "padding": null,
      "right": null,
      "top": null,
      "visibility": null,
      "width": null
     }
    },
    "81a515c98c30497f81232d44e94cb123": {
     "model_module": "@jupyter-widgets/base",
     "model_name": "LayoutModel",
     "state": {
      "_model_module": "@jupyter-widgets/base",
      "_model_module_version": "1.2.0",
      "_model_name": "LayoutModel",
      "_view_count": null,
      "_view_module": "@jupyter-widgets/base",
      "_view_module_version": "1.2.0",
      "_view_name": "LayoutView",
      "align_content": null,
      "align_items": null,
      "align_self": null,
      "border": null,
      "bottom": null,
      "display": null,
      "flex": null,
      "flex_flow": null,
      "grid_area": null,
      "grid_auto_columns": null,
      "grid_auto_flow": null,
      "grid_auto_rows": null,
      "grid_column": null,
      "grid_gap": null,
      "grid_row": null,
      "grid_template_areas": null,
      "grid_template_columns": null,
      "grid_template_rows": null,
      "height": null,
      "justify_content": null,
      "justify_items": null,
      "left": null,
      "margin": null,
      "max_height": null,
      "max_width": null,
      "min_height": null,
      "min_width": null,
      "object_fit": null,
      "object_position": null,
      "order": null,
      "overflow": null,
      "overflow_x": null,
      "overflow_y": null,
      "padding": null,
      "right": null,
      "top": null,
      "visibility": null,
      "width": null
     }
    },
    "81d505ad30d34683b646252cc1e830cb": {
     "model_module": "@jupyter-widgets/controls",
     "model_name": "HTMLModel",
     "state": {
      "_dom_classes": [],
      "_model_module": "@jupyter-widgets/controls",
      "_model_module_version": "1.5.0",
      "_model_name": "HTMLModel",
      "_view_count": null,
      "_view_module": "@jupyter-widgets/controls",
      "_view_module_version": "1.5.0",
      "_view_name": "HTMLView",
      "description": "",
      "description_tooltip": null,
      "layout": "IPY_MODEL_c41cf7975b7740ecba4acda661d32434",
      "placeholder": "​",
      "style": "IPY_MODEL_6f4ece440f634846a98fd6aa65585679",
      "value": " 5340377/5340377 [03:45&lt;00:00, 23656.96rows/s]"
     }
    },
    "8c277c0d926c4c2ebb53cdf71e2df986": {
     "model_module": "@jupyter-widgets/controls",
     "model_name": "FloatProgressModel",
     "state": {
      "_dom_classes": [],
      "_model_module": "@jupyter-widgets/controls",
      "_model_module_version": "1.5.0",
      "_model_name": "FloatProgressModel",
      "_view_count": null,
      "_view_module": "@jupyter-widgets/controls",
      "_view_module_version": "1.5.0",
      "_view_name": "ProgressView",
      "bar_style": "success",
      "description": "100%",
      "description_tooltip": null,
      "layout": "IPY_MODEL_08df8883af494b70b718a7ce5b4f9386",
      "max": 1049559,
      "min": 0,
      "orientation": "horizontal",
      "style": "IPY_MODEL_74fdbb0ef57a46e4b589a46c18ec042d",
      "value": 1049559
     }
    },
    "9e709767b51a4e5ebfbaa5d747c4ad4f": {
     "model_module": "@jupyter-widgets/controls",
     "model_name": "ProgressStyleModel",
     "state": {
      "_model_module": "@jupyter-widgets/controls",
      "_model_module_version": "1.5.0",
      "_model_name": "ProgressStyleModel",
      "_view_count": null,
      "_view_module": "@jupyter-widgets/base",
      "_view_module_version": "1.2.0",
      "_view_name": "StyleView",
      "bar_color": null,
      "description_width": "initial"
     }
    },
    "b1b6224e2bc2416bb344798c1add2537": {
     "model_module": "@jupyter-widgets/controls",
     "model_name": "FloatProgressModel",
     "state": {
      "_dom_classes": [],
      "_model_module": "@jupyter-widgets/controls",
      "_model_module_version": "1.5.0",
      "_model_name": "FloatProgressModel",
      "_view_count": null,
      "_view_module": "@jupyter-widgets/controls",
      "_view_module_version": "1.5.0",
      "_view_name": "ProgressView",
      "bar_style": "success",
      "description": "Downloading: 100%",
      "description_tooltip": null,
      "layout": "IPY_MODEL_81a515c98c30497f81232d44e94cb123",
      "max": 5340377,
      "min": 0,
      "orientation": "horizontal",
      "style": "IPY_MODEL_c16536e2ef3e440da7f1fd3d6af0944b",
      "value": 5340377
     }
    },
    "b20574a0dd89443d997334e4d5cec717": {
     "model_module": "@jupyter-widgets/controls",
     "model_name": "DescriptionStyleModel",
     "state": {
      "_model_module": "@jupyter-widgets/controls",
      "_model_module_version": "1.5.0",
      "_model_name": "DescriptionStyleModel",
      "_view_count": null,
      "_view_module": "@jupyter-widgets/base",
      "_view_module_version": "1.2.0",
      "_view_name": "StyleView",
      "description_width": ""
     }
    },
    "c16536e2ef3e440da7f1fd3d6af0944b": {
     "model_module": "@jupyter-widgets/controls",
     "model_name": "ProgressStyleModel",
     "state": {
      "_model_module": "@jupyter-widgets/controls",
      "_model_module_version": "1.5.0",
      "_model_name": "ProgressStyleModel",
      "_view_count": null,
      "_view_module": "@jupyter-widgets/base",
      "_view_module_version": "1.2.0",
      "_view_name": "StyleView",
      "bar_color": null,
      "description_width": "initial"
     }
    },
    "c41cf7975b7740ecba4acda661d32434": {
     "model_module": "@jupyter-widgets/base",
     "model_name": "LayoutModel",
     "state": {
      "_model_module": "@jupyter-widgets/base",
      "_model_module_version": "1.2.0",
      "_model_name": "LayoutModel",
      "_view_count": null,
      "_view_module": "@jupyter-widgets/base",
      "_view_module_version": "1.2.0",
      "_view_name": "LayoutView",
      "align_content": null,
      "align_items": null,
      "align_self": null,
      "border": null,
      "bottom": null,
      "display": null,
      "flex": null,
      "flex_flow": null,
      "grid_area": null,
      "grid_auto_columns": null,
      "grid_auto_flow": null,
      "grid_auto_rows": null,
      "grid_column": null,
      "grid_gap": null,
      "grid_row": null,
      "grid_template_areas": null,
      "grid_template_columns": null,
      "grid_template_rows": null,
      "height": null,
      "justify_content": null,
      "justify_items": null,
      "left": null,
      "margin": null,
      "max_height": null,
      "max_width": null,
      "min_height": null,
      "min_width": null,
      "object_fit": null,
      "object_position": null,
      "order": null,
      "overflow": null,
      "overflow_x": null,
      "overflow_y": null,
      "padding": null,
      "right": null,
      "top": null,
      "visibility": null,
      "width": null
     }
    },
    "c835dd42207646a1a06a02725c3732c6": {
     "model_module": "@jupyter-widgets/base",
     "model_name": "LayoutModel",
     "state": {
      "_model_module": "@jupyter-widgets/base",
      "_model_module_version": "1.2.0",
      "_model_name": "LayoutModel",
      "_view_count": null,
      "_view_module": "@jupyter-widgets/base",
      "_view_module_version": "1.2.0",
      "_view_name": "LayoutView",
      "align_content": null,
      "align_items": null,
      "align_self": null,
      "border": null,
      "bottom": null,
      "display": null,
      "flex": null,
      "flex_flow": null,
      "grid_area": null,
      "grid_auto_columns": null,
      "grid_auto_flow": null,
      "grid_auto_rows": null,
      "grid_column": null,
      "grid_gap": null,
      "grid_row": null,
      "grid_template_areas": null,
      "grid_template_columns": null,
      "grid_template_rows": null,
      "height": null,
      "justify_content": null,
      "justify_items": null,
      "left": null,
      "margin": null,
      "max_height": null,
      "max_width": null,
      "min_height": null,
      "min_width": null,
      "object_fit": null,
      "object_position": null,
      "order": null,
      "overflow": null,
      "overflow_x": null,
      "overflow_y": null,
      "padding": null,
      "right": null,
      "top": null,
      "visibility": null,
      "width": null
     }
    },
    "c9e63655621b4e12ad8bcac2712ca812": {
     "model_module": "@jupyter-widgets/base",
     "model_name": "LayoutModel",
     "state": {
      "_model_module": "@jupyter-widgets/base",
      "_model_module_version": "1.2.0",
      "_model_name": "LayoutModel",
      "_view_count": null,
      "_view_module": "@jupyter-widgets/base",
      "_view_module_version": "1.2.0",
      "_view_name": "LayoutView",
      "align_content": null,
      "align_items": null,
      "align_self": null,
      "border": null,
      "bottom": null,
      "display": null,
      "flex": null,
      "flex_flow": null,
      "grid_area": null,
      "grid_auto_columns": null,
      "grid_auto_flow": null,
      "grid_auto_rows": null,
      "grid_column": null,
      "grid_gap": null,
      "grid_row": null,
      "grid_template_areas": null,
      "grid_template_columns": null,
      "grid_template_rows": null,
      "height": null,
      "justify_content": null,
      "justify_items": null,
      "left": null,
      "margin": null,
      "max_height": null,
      "max_width": null,
      "min_height": null,
      "min_width": null,
      "object_fit": null,
      "object_position": null,
      "order": null,
      "overflow": null,
      "overflow_x": null,
      "overflow_y": null,
      "padding": null,
      "right": null,
      "top": null,
      "visibility": null,
      "width": null
     }
    },
    "d5a3b39de6d3404d910394ddf6439548": {
     "model_module": "@jupyter-widgets/base",
     "model_name": "LayoutModel",
     "state": {
      "_model_module": "@jupyter-widgets/base",
      "_model_module_version": "1.2.0",
      "_model_name": "LayoutModel",
      "_view_count": null,
      "_view_module": "@jupyter-widgets/base",
      "_view_module_version": "1.2.0",
      "_view_name": "LayoutView",
      "align_content": null,
      "align_items": null,
      "align_self": null,
      "border": null,
      "bottom": null,
      "display": null,
      "flex": null,
      "flex_flow": null,
      "grid_area": null,
      "grid_auto_columns": null,
      "grid_auto_flow": null,
      "grid_auto_rows": null,
      "grid_column": null,
      "grid_gap": null,
      "grid_row": null,
      "grid_template_areas": null,
      "grid_template_columns": null,
      "grid_template_rows": null,
      "height": null,
      "justify_content": null,
      "justify_items": null,
      "left": null,
      "margin": null,
      "max_height": null,
      "max_width": null,
      "min_height": null,
      "min_width": null,
      "object_fit": null,
      "object_position": null,
      "order": null,
      "overflow": null,
      "overflow_x": null,
      "overflow_y": null,
      "padding": null,
      "right": null,
      "top": null,
      "visibility": null,
      "width": null
     }
    },
    "d5e4c6e070c0413491222f9edf1bba2c": {
     "model_module": "@jupyter-widgets/base",
     "model_name": "LayoutModel",
     "state": {
      "_model_module": "@jupyter-widgets/base",
      "_model_module_version": "1.2.0",
      "_model_name": "LayoutModel",
      "_view_count": null,
      "_view_module": "@jupyter-widgets/base",
      "_view_module_version": "1.2.0",
      "_view_name": "LayoutView",
      "align_content": null,
      "align_items": null,
      "align_self": null,
      "border": null,
      "bottom": null,
      "display": null,
      "flex": null,
      "flex_flow": null,
      "grid_area": null,
      "grid_auto_columns": null,
      "grid_auto_flow": null,
      "grid_auto_rows": null,
      "grid_column": null,
      "grid_gap": null,
      "grid_row": null,
      "grid_template_areas": null,
      "grid_template_columns": null,
      "grid_template_rows": null,
      "height": null,
      "justify_content": null,
      "justify_items": null,
      "left": null,
      "margin": null,
      "max_height": null,
      "max_width": null,
      "min_height": null,
      "min_width": null,
      "object_fit": null,
      "object_position": null,
      "order": null,
      "overflow": null,
      "overflow_x": null,
      "overflow_y": null,
      "padding": null,
      "right": null,
      "top": null,
      "visibility": null,
      "width": null
     }
    },
    "da20e26860b04d3f9b7aec2866f1a43c": {
     "model_module": "@jupyter-widgets/controls",
     "model_name": "HBoxModel",
     "state": {
      "_dom_classes": [],
      "_model_module": "@jupyter-widgets/controls",
      "_model_module_version": "1.5.0",
      "_model_name": "HBoxModel",
      "_view_count": null,
      "_view_module": "@jupyter-widgets/controls",
      "_view_module_version": "1.5.0",
      "_view_name": "HBoxView",
      "box_style": "",
      "children": [
       "IPY_MODEL_1068312cf5104622af904af5507ffdfb",
       "IPY_MODEL_014d6e6088084f31ac20b506f8e9d0a6"
      ],
      "layout": "IPY_MODEL_7dc3eef3c43b468093264474aec72870"
     }
    },
    "e8bea655634949328e13aa6e52f87e34": {
     "model_module": "@jupyter-widgets/base",
     "model_name": "LayoutModel",
     "state": {
      "_model_module": "@jupyter-widgets/base",
      "_model_module_version": "1.2.0",
      "_model_name": "LayoutModel",
      "_view_count": null,
      "_view_module": "@jupyter-widgets/base",
      "_view_module_version": "1.2.0",
      "_view_name": "LayoutView",
      "align_content": null,
      "align_items": null,
      "align_self": null,
      "border": null,
      "bottom": null,
      "display": null,
      "flex": null,
      "flex_flow": null,
      "grid_area": null,
      "grid_auto_columns": null,
      "grid_auto_flow": null,
      "grid_auto_rows": null,
      "grid_column": null,
      "grid_gap": null,
      "grid_row": null,
      "grid_template_areas": null,
      "grid_template_columns": null,
      "grid_template_rows": null,
      "height": null,
      "justify_content": null,
      "justify_items": null,
      "left": null,
      "margin": null,
      "max_height": null,
      "max_width": null,
      "min_height": null,
      "min_width": null,
      "object_fit": null,
      "object_position": null,
      "order": null,
      "overflow": null,
      "overflow_x": null,
      "overflow_y": null,
      "padding": null,
      "right": null,
      "top": null,
      "visibility": null,
      "width": null
     }
    },
    "e96d00e7c2c44755866ebbbf77b5af42": {
     "model_module": "@jupyter-widgets/controls",
     "model_name": "HTMLModel",
     "state": {
      "_dom_classes": [],
      "_model_module": "@jupyter-widgets/controls",
      "_model_module_version": "1.5.0",
      "_model_name": "HTMLModel",
      "_view_count": null,
      "_view_module": "@jupyter-widgets/controls",
      "_view_module_version": "1.5.0",
      "_view_name": "HTMLView",
      "description": "",
      "description_tooltip": null,
      "layout": "IPY_MODEL_d5a3b39de6d3404d910394ddf6439548",
      "placeholder": "​",
      "style": "IPY_MODEL_4ad22a4a79e74753b9fedac8e2b469ea",
      "value": " 6478025/6478025 [01:54&lt;00:00, 56744.46it/s]"
     }
    },
    "f25723a2fc8f4192b8b3adde2cd0d70f": {
     "model_module": "@jupyter-widgets/controls",
     "model_name": "FloatProgressModel",
     "state": {
      "_dom_classes": [],
      "_model_module": "@jupyter-widgets/controls",
      "_model_module_version": "1.5.0",
      "_model_name": "FloatProgressModel",
      "_view_count": null,
      "_view_module": "@jupyter-widgets/controls",
      "_view_module_version": "1.5.0",
      "_view_name": "ProgressView",
      "bar_style": "success",
      "description": "100%",
      "description_tooltip": null,
      "layout": "IPY_MODEL_c9e63655621b4e12ad8bcac2712ca812",
      "max": 6478025,
      "min": 0,
      "orientation": "horizontal",
      "style": "IPY_MODEL_9e709767b51a4e5ebfbaa5d747c4ad4f",
      "value": 6478025
     }
    }
   }
  }
 },
 "nbformat": 4,
 "nbformat_minor": 4
}
