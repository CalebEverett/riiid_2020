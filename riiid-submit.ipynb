{
 "cells": [
  {
   "cell_type": "markdown",
   "metadata": {
    "id": "4-tJ-BbGCl2d",
    "papermill": {
     "duration": 0.027845,
     "end_time": "2020-12-12T03:56:03.492341",
     "exception": false,
     "start_time": "2020-12-12T03:56:03.464496",
     "status": "completed"
    },
    "tags": []
   },
   "source": [
    "## Source Kernel\n",
    "This kernel generates and submits predictions using the model and features developed in the kernel titled [RIIID: BigQuery-XGBoost End-to-End](https://www.kaggle.com/calebeverett/riiid-bigquery-xgboost-end-to-end)."
   ]
  },
  {
   "cell_type": "code",
   "execution_count": null,
   "metadata": {
    "execution": {
     "iopub.execute_input": "2020-12-12T03:56:03.551499Z",
     "iopub.status.busy": "2020-12-12T03:56:03.550640Z",
     "iopub.status.idle": "2020-12-12T03:56:05.457367Z",
     "shell.execute_reply": "2020-12-12T03:56:05.457907Z"
    },
    "id": "CCwbgJ_qCl2d",
    "papermill": {
     "duration": 1.939279,
     "end_time": "2020-12-12T03:56:05.458089",
     "exception": false,
     "start_time": "2020-12-12T03:56:03.518810",
     "status": "completed"
    },
    "tags": []
   },
   "outputs": [],
   "source": [
    "import gc\n",
    "import json\n",
    "import time\n",
    "\n",
    "import numpy as np\n",
    "import pandas as pd\n",
    "from pathlib import Path\n",
    "from pprint import pprint\n",
    "import sqlite3\n",
    "from sklearn.metrics import roc_auc_score\n",
    "from tqdm.notebook import trange, tqdm\n",
    "import xgboost as xgb\n",
    "\n",
    "import riiideducation"
   ]
  },
  {
   "cell_type": "code",
   "execution_count": null,
   "metadata": {
    "execution": {
     "iopub.execute_input": "2020-12-12T03:56:05.518069Z",
     "iopub.status.busy": "2020-12-12T03:56:05.517429Z",
     "iopub.status.idle": "2020-12-12T03:56:05.520130Z",
     "shell.execute_reply": "2020-12-12T03:56:05.520580Z"
    },
    "id": "RFMLUwOrCl2e",
    "papermill": {
     "duration": 0.034873,
     "end_time": "2020-12-12T03:56:05.520775",
     "exception": false,
     "start_time": "2020-12-12T03:56:05.485902",
     "status": "completed"
    },
    "tags": []
   },
   "outputs": [],
   "source": [
    "PATH = Path('../input/riiid-submission-private')"
   ]
  },
  {
   "cell_type": "code",
   "execution_count": null,
   "metadata": {
    "_kg_hide-input": true,
    "_kg_hide-output": true,
    "execution": {
     "iopub.execute_input": "2020-12-12T03:56:05.592174Z",
     "iopub.status.busy": "2020-12-12T03:56:05.583508Z",
     "iopub.status.idle": "2020-12-12T03:56:05.594457Z",
     "shell.execute_reply": "2020-12-12T03:56:05.594945Z"
    },
    "papermill": {
     "duration": 0.047244,
     "end_time": "2020-12-12T03:56:05.595105",
     "exception": false,
     "start_time": "2020-12-12T03:56:05.547861",
     "status": "completed"
    },
    "tags": []
   },
   "outputs": [],
   "source": [
    "class PredictEnv:\n",
    "    def __init__(self, folds_path, folds):\n",
    "        self.conn = sqlite3.connect(':memory:')\n",
    "        self.c = self.conn.cursor()\n",
    "        self.setup_folds(folds_path, folds)\n",
    "\n",
    "    def setup_folds(self, folds_path, folds):        \n",
    "        self.c.executescript(f\"\"\"\n",
    "            ATTACH DATABASE \"{folds_path}\" AS folds_db;\n",
    "\n",
    "            DROP TABLE IF EXISTS b_records;\n",
    "\n",
    "            CREATE TABLE b_records AS\n",
    "            SELECT row_id, timestamp, user_id, content_id, content_type_id, task_container_id, prior_question_elapsed_time,\n",
    "                prior_question_had_explanation, answered_correctly, user_answer\n",
    "            FROM folds_db.train\n",
    "            WHERE fold in ({(', ').join(list(map(str,folds)))})\n",
    "            ORDER BY user_id, task_container_id, row_id;\n",
    "\n",
    "            CREATE INDEX user_id_task_container_id_index ON b_records (user_id, task_container_id);\n",
    "\n",
    "            DROP TABLE IF EXISTS b_users;\n",
    "\n",
    "            CREATE TABLE b_users AS\n",
    "            SELECT user_id, MIN(task_container_id) - 1 task_container_id_next, MAX(task_container_id) task_container_id_max\n",
    "            FROM b_records\n",
    "            GROUP BY user_id\n",
    "                ORDER BY user_id, task_container_id_next;\n",
    "\n",
    "            CREATE UNIQUE INDEX user_id_index ON b_users (user_id);\n",
    "\n",
    "            ALTER TABLE b_users\n",
    "                ADD COLUMN group_num INTEGER;\n",
    "\n",
    "        \"\"\").fetchone()\n",
    "\n",
    "        self.group_num = 0\n",
    "        self.records_remaining = self.c.execute('SELECT COUNT(*) FROM b_records').fetchone()[0]\n",
    "        self.df_users = pd.read_sql('SELECT * FROM b_users', self.conn)\n",
    "\n",
    "\n",
    "    def iter_test(self):\n",
    "        next_correct = '[]'\n",
    "        next_responses = '[]'\n",
    "\n",
    "        while self.records_remaining:\n",
    "            self.c.execute(f\"\"\"\n",
    "                INSERT INTO b_users (user_id)\n",
    "                SELECT user_id\n",
    "                FROM b_users\n",
    "                WHERE task_container_id_next <= task_container_id_max\n",
    "                LIMIT 1 + ABS(RANDOM() % 40) + ABS(RANDOM() % 1000) * (ABS(RANDOM() % 100) < 5)\n",
    "                ON CONFLICT (user_id) DO UPDATE SET\n",
    "                    task_container_id_next = task_container_id_next + 1,\n",
    "                    group_num = {self.group_num};\n",
    "            \"\"\").fetchone()\n",
    "            \n",
    "            self.conn.commit()\n",
    "\n",
    "            df_b = pd.read_sql(f\"\"\"\n",
    "                SELECT r.*\n",
    "                FROM b_records r\n",
    "                JOIN b_users u\n",
    "                ON group_num = {self.group_num}\n",
    "                    AND r.user_id = u.user_id\n",
    "                    AND r.task_container_id = u.task_container_id_next\n",
    "            \"\"\", self.conn)\n",
    "\n",
    "            if len(df_b):\n",
    "                df_b['group_num'] = self.group_num\n",
    "                df_b['prior_group_answers_correct'] = None\n",
    "                df_b.at[0, 'prior_group_answers_correct'] = next_correct\n",
    "\n",
    "                df_b['prior_group_responses'] = None\n",
    "                df_b.at[0, 'prior_group_responses'] = next_responses\n",
    "\n",
    "                next_correct = f'[{(\", \").join(df_b.answered_correctly.astype(str))}]'\n",
    "                next_responses = f'[{(\", \").join(df_b.user_answer.astype(str))}]'\n",
    "                del df_b['answered_correctly']\n",
    "                del df_b['user_answer']\n",
    "\n",
    "                df_b = df_b.set_index('group_num')\n",
    "\n",
    "                df_p = df_b[['row_id']].copy()\n",
    "                df_p['answered_correctly'] = 0.5\n",
    "                \n",
    "                self.records_remaining -= len(df_b)\n",
    "\n",
    "                yield df_b, df_p\n",
    "            \n",
    "            self.group_num += 1\n",
    "\n",
    "    def predict(self, df_pred):\n",
    "        if (df_pred.answered_correctly == -1).any():\n",
    "            raise\n",
    "        else:\n",
    "            df_pred.reset_index().to_sql('predictions', self.conn, if_exists='append', index=False)\n",
    "\n",
    "    def get_predictions(self):\n",
    "        df_preds = pd.read_sql(\"\"\"\n",
    "            SELECT p.row_id, b.answered_correctly y_true, p.answered_correctly y_pred\n",
    "            FROM predictions p\n",
    "            JOIN b_records b\n",
    "            ON p.row_id = b.row_id\n",
    "        \"\"\", self.conn)\n",
    "\n",
    "        self.score = roc_auc_score(df_preds.y_true, df_preds.y_pred)\n",
    "\n",
    "        print(f'ROC AUC Score: {self.score:0.4f}')\n",
    "\n",
    "        return df_preds"
   ]
  },
  {
   "cell_type": "code",
   "execution_count": null,
   "metadata": {
    "execution": {
     "iopub.execute_input": "2020-12-12T03:56:05.654556Z",
     "iopub.status.busy": "2020-12-12T03:56:05.653887Z",
     "iopub.status.idle": "2020-12-12T03:56:05.658637Z",
     "shell.execute_reply": "2020-12-12T03:56:05.659142Z"
    },
    "id": "fc_2at1dCl2e",
    "papermill": {
     "duration": 0.035853,
     "end_time": "2020-12-12T03:56:05.659282",
     "exception": false,
     "start_time": "2020-12-12T03:56:05.623429",
     "status": "completed"
    },
    "tags": []
   },
   "outputs": [],
   "source": [
    "mock = False\n",
    "\n",
    "if mock:\n",
    "    FOLDS = Path('../input/riiid-folds/riiid.db')\n",
    "    env = PredictEnv(FOLDS, [0])\n",
    "    iter_test = env.iter_test()\n",
    "\n",
    "else:\n",
    "    env = riiideducation.make_env()\n",
    "    iter_test = env.iter_test()"
   ]
  },
  {
   "cell_type": "markdown",
   "metadata": {
    "id": "n4YMPK86Cl2e",
    "papermill": {
     "duration": 0.026941,
     "end_time": "2020-12-12T03:56:05.714047",
     "exception": false,
     "start_time": "2020-12-12T03:56:05.687106",
     "status": "completed"
    },
    "tags": []
   },
   "source": [
    "## Load Models"
   ]
  },
  {
   "cell_type": "code",
   "execution_count": null,
   "metadata": {
    "execution": {
     "iopub.execute_input": "2020-12-12T03:56:05.771425Z",
     "iopub.status.busy": "2020-12-12T03:56:05.770816Z",
     "iopub.status.idle": "2020-12-12T03:56:06.094705Z",
     "shell.execute_reply": "2020-12-12T03:56:06.095203Z"
    },
    "papermill": {
     "duration": 0.354135,
     "end_time": "2020-12-12T03:56:06.095382",
     "exception": false,
     "start_time": "2020-12-12T03:56:05.741247",
     "status": "completed"
    },
    "tags": []
   },
   "outputs": [],
   "source": [
    "with open(PATH/'models.json') as mj:\n",
    "    models = json.load(mj)\n",
    "\n",
    "pprint(models)\n",
    " \n",
    "for m in models:\n",
    "    models[m]['model'] = xgb.Booster(model_file=PATH/f'{m}.xgb')"
   ]
  },
  {
   "cell_type": "markdown",
   "metadata": {
    "id": "KeJ0WPZJCl2e",
    "papermill": {
     "duration": 0.027918,
     "end_time": "2020-12-12T03:56:06.152125",
     "exception": false,
     "start_time": "2020-12-12T03:56:06.124207",
     "status": "completed"
    },
    "tags": []
   },
   "source": [
    "## Load State"
   ]
  },
  {
   "cell_type": "code",
   "execution_count": null,
   "metadata": {
    "execution": {
     "iopub.execute_input": "2020-12-12T03:56:06.212786Z",
     "iopub.status.busy": "2020-12-12T03:56:06.211798Z",
     "iopub.status.idle": "2020-12-12T03:56:06.237977Z",
     "shell.execute_reply": "2020-12-12T03:56:06.237464Z"
    },
    "id": "kNaGu23yCl2e",
    "papermill": {
     "duration": 0.057258,
     "end_time": "2020-12-12T03:56:06.238098",
     "exception": false,
     "start_time": "2020-12-12T03:56:06.180840",
     "status": "completed"
    },
    "tags": []
   },
   "outputs": [],
   "source": [
    "batch_cols_prior = [\n",
    "    'user_id',\n",
    "    'content_id',\n",
    "    'content_type_id',\n",
    "    'timestamp'\n",
    "]\n",
    "\n",
    "batch_cols = [\n",
    "    'user_id',\n",
    "    'content_id',\n",
    "    'row_id',\n",
    "    'timestamp',\n",
    "    'prior_question_had_explanation',\n",
    "    'prior_question_elapsed_time'\n",
    "]\n",
    "\n",
    "with open(PATH/'columns.json') as cj:\n",
    "    test_cols = json.load(cj)\n",
    "    \n",
    "with open(PATH/'dtypes.json') as dj:\n",
    "    dtypes = json.load(dj)\n",
    "\n",
    "\n",
    "print('Test Columns:\\n')\n",
    "_ = list(map(print, test_cols))\n",
    "\n",
    "dtypes_test = {k: v for k,v in dtypes.items() if k in test_cols}\n",
    "dtypes_test = {**dtypes_test, **{'user_id': 'int32', 'content_id': 'int16'}}"
   ]
  },
  {
   "cell_type": "markdown",
   "metadata": {
    "id": "9tfCIw8KCl2e",
    "papermill": {
     "duration": 0.028069,
     "end_time": "2020-12-12T03:56:06.294848",
     "exception": false,
     "start_time": "2020-12-12T03:56:06.266779",
     "status": "completed"
    },
    "tags": []
   },
   "source": [
    "### Load Users-Content"
   ]
  },
  {
   "cell_type": "code",
   "execution_count": null,
   "metadata": {
    "execution": {
     "iopub.execute_input": "2020-12-12T03:56:06.356018Z",
     "iopub.status.busy": "2020-12-12T03:56:06.355355Z",
     "iopub.status.idle": "2020-12-12T03:56:23.834409Z",
     "shell.execute_reply": "2020-12-12T03:56:23.834938Z"
    },
    "id": "OeEL6NmLCl2e",
    "papermill": {
     "duration": 17.512101,
     "end_time": "2020-12-12T03:56:23.835083",
     "exception": false,
     "start_time": "2020-12-12T03:56:06.322982",
     "status": "completed"
    },
    "tags": []
   },
   "outputs": [],
   "source": [
    "df_users_content = pd.read_pickle(PATH/'df_users_content.pkl')\n",
    "df_users_content.head()"
   ]
  },
  {
   "cell_type": "markdown",
   "metadata": {
    "papermill": {
     "duration": 0.028827,
     "end_time": "2020-12-12T03:56:23.893018",
     "exception": false,
     "start_time": "2020-12-12T03:56:23.864191",
     "status": "completed"
    },
    "tags": []
   },
   "source": [
    "### Load Users-Part"
   ]
  },
  {
   "cell_type": "code",
   "execution_count": null,
   "metadata": {
    "execution": {
     "iopub.execute_input": "2020-12-12T03:56:23.956842Z",
     "iopub.status.busy": "2020-12-12T03:56:23.956190Z",
     "iopub.status.idle": "2020-12-12T03:56:24.190018Z",
     "shell.execute_reply": "2020-12-12T03:56:24.188431Z"
    },
    "papermill": {
     "duration": 0.268087,
     "end_time": "2020-12-12T03:56:24.190189",
     "exception": false,
     "start_time": "2020-12-12T03:56:23.922102",
     "status": "completed"
    },
    "tags": []
   },
   "outputs": [],
   "source": [
    "df_users_part = pd.read_pickle(PATH/'df_users_part.pkl')\n",
    "df_users_part.head()"
   ]
  },
  {
   "cell_type": "markdown",
   "metadata": {
    "id": "9tfCIw8KCl2e",
    "papermill": {
     "duration": 0.028935,
     "end_time": "2020-12-12T03:56:24.249813",
     "exception": false,
     "start_time": "2020-12-12T03:56:24.220878",
     "status": "completed"
    },
    "tags": []
   },
   "source": [
    "### Load Users-Tag"
   ]
  },
  {
   "cell_type": "code",
   "execution_count": null,
   "metadata": {
    "execution": {
     "iopub.execute_input": "2020-12-12T03:56:24.313565Z",
     "iopub.status.busy": "2020-12-12T03:56:24.312989Z",
     "iopub.status.idle": "2020-12-12T03:56:34.516300Z",
     "shell.execute_reply": "2020-12-12T03:56:34.515771Z"
    },
    "id": "OeEL6NmLCl2e",
    "papermill": {
     "duration": 10.236673,
     "end_time": "2020-12-12T03:56:34.516410",
     "exception": false,
     "start_time": "2020-12-12T03:56:24.279737",
     "status": "completed"
    },
    "tags": []
   },
   "outputs": [],
   "source": [
    "df_users_tag = pd.read_pickle(PATH/'df_users_tag.pkl')\n",
    "df_users_tag.head()"
   ]
  },
  {
   "cell_type": "markdown",
   "metadata": {
    "id": "EaOI9tAaCl2e",
    "papermill": {
     "duration": 0.029352,
     "end_time": "2020-12-12T03:56:34.575777",
     "exception": false,
     "start_time": "2020-12-12T03:56:34.546425",
     "status": "completed"
    },
    "tags": []
   },
   "source": [
    "### Load Users"
   ]
  },
  {
   "cell_type": "code",
   "execution_count": null,
   "metadata": {
    "execution": {
     "iopub.execute_input": "2020-12-12T03:56:34.639871Z",
     "iopub.status.busy": "2020-12-12T03:56:34.639235Z",
     "iopub.status.idle": "2020-12-12T03:56:34.752581Z",
     "shell.execute_reply": "2020-12-12T03:56:34.752123Z"
    },
    "id": "gs_btRR4Cl2e",
    "papermill": {
     "duration": 0.147339,
     "end_time": "2020-12-12T03:56:34.752721",
     "exception": false,
     "start_time": "2020-12-12T03:56:34.605382",
     "status": "completed"
    },
    "tags": []
   },
   "outputs": [],
   "source": [
    "df_users = pd.read_pickle(PATH/'df_users.pkl')\n",
    "df_users.head()"
   ]
  },
  {
   "cell_type": "markdown",
   "metadata": {
    "id": "7ZlQVkfBCl2e",
    "papermill": {
     "duration": 0.030518,
     "end_time": "2020-12-12T03:56:34.813674",
     "exception": false,
     "start_time": "2020-12-12T03:56:34.783156",
     "status": "completed"
    },
    "tags": []
   },
   "source": [
    "### Load Questions\n",
    "Question related features joined with batches received from competition api prior to making predictions."
   ]
  },
  {
   "cell_type": "code",
   "execution_count": null,
   "metadata": {
    "execution": {
     "iopub.execute_input": "2020-12-12T03:56:34.880985Z",
     "iopub.status.busy": "2020-12-12T03:56:34.880167Z",
     "iopub.status.idle": "2020-12-12T03:56:34.909178Z",
     "shell.execute_reply": "2020-12-12T03:56:34.909790Z"
    },
    "id": "PJ044-xTCl2e",
    "papermill": {
     "duration": 0.064145,
     "end_time": "2020-12-12T03:56:34.909931",
     "exception": false,
     "start_time": "2020-12-12T03:56:34.845786",
     "status": "completed"
    },
    "tags": []
   },
   "outputs": [],
   "source": [
    "df_questions = pd.read_pickle(PATH/'df_questions.pkl')\n",
    "df_questions.head()"
   ]
  },
  {
   "cell_type": "code",
   "execution_count": null,
   "metadata": {
    "execution": {
     "iopub.execute_input": "2020-12-12T03:56:34.983057Z",
     "iopub.status.busy": "2020-12-12T03:56:34.982396Z",
     "iopub.status.idle": "2020-12-12T03:56:34.991151Z",
     "shell.execute_reply": "2020-12-12T03:56:34.990585Z"
    },
    "papermill": {
     "duration": 0.050346,
     "end_time": "2020-12-12T03:56:34.991259",
     "exception": false,
     "start_time": "2020-12-12T03:56:34.940913",
     "status": "completed"
    },
    "tags": []
   },
   "outputs": [],
   "source": [
    "q_part_map = df_questions[['question_id', 'part']].set_index('question_id').part.sort_index().to_dict()"
   ]
  },
  {
   "cell_type": "code",
   "execution_count": null,
   "metadata": {
    "execution": {
     "iopub.execute_input": "2020-12-12T03:56:35.094866Z",
     "iopub.status.busy": "2020-12-12T03:56:35.067882Z",
     "iopub.status.idle": "2020-12-12T03:56:35.165819Z",
     "shell.execute_reply": "2020-12-12T03:56:35.165214Z"
    },
    "papermill": {
     "duration": 0.143028,
     "end_time": "2020-12-12T03:56:35.165948",
     "exception": false,
     "start_time": "2020-12-12T03:56:35.022920",
     "status": "completed"
    },
    "tags": []
   },
   "outputs": [],
   "source": [
    "q_tags_array_map = df_questions[['question_id', 'tags_array']].set_index('question_id').tags_array.map(eval).to_dict()"
   ]
  },
  {
   "cell_type": "code",
   "execution_count": null,
   "metadata": {
    "execution": {
     "iopub.execute_input": "2020-12-12T03:56:35.234365Z",
     "iopub.status.busy": "2020-12-12T03:56:35.233744Z",
     "iopub.status.idle": "2020-12-12T03:56:35.237207Z",
     "shell.execute_reply": "2020-12-12T03:56:35.236713Z"
    },
    "papermill": {
     "duration": 0.040426,
     "end_time": "2020-12-12T03:56:35.237327",
     "exception": false,
     "start_time": "2020-12-12T03:56:35.196901",
     "status": "completed"
    },
    "tags": []
   },
   "outputs": [],
   "source": [
    "def get_qt_tuples(r):\n",
    "    return [(r.question_id, t) for t in q_tags_array_map[r.question_id]]"
   ]
  },
  {
   "cell_type": "code",
   "execution_count": null,
   "metadata": {
    "execution": {
     "iopub.execute_input": "2020-12-12T03:56:35.304630Z",
     "iopub.status.busy": "2020-12-12T03:56:35.304031Z",
     "iopub.status.idle": "2020-12-12T03:56:36.784035Z",
     "shell.execute_reply": "2020-12-12T03:56:36.784567Z"
    },
    "papermill": {
     "duration": 1.516294,
     "end_time": "2020-12-12T03:56:36.784739",
     "exception": false,
     "start_time": "2020-12-12T03:56:35.268445",
     "status": "completed"
    },
    "tags": []
   },
   "outputs": [],
   "source": [
    "df_qt = pd.DataFrame(sum(list(df_questions.apply(get_qt_tuples, axis=1)), []), columns=['question_id', 'tag'])"
   ]
  },
  {
   "cell_type": "markdown",
   "metadata": {
    "papermill": {
     "duration": 0.030474,
     "end_time": "2020-12-12T03:56:36.847577",
     "exception": false,
     "start_time": "2020-12-12T03:56:36.817103",
     "status": "completed"
    },
    "tags": []
   },
   "source": [
    "### Load Lectures"
   ]
  },
  {
   "cell_type": "code",
   "execution_count": null,
   "metadata": {
    "execution": {
     "iopub.execute_input": "2020-12-12T03:56:36.912870Z",
     "iopub.status.busy": "2020-12-12T03:56:36.912168Z",
     "iopub.status.idle": "2020-12-12T03:56:36.929200Z",
     "shell.execute_reply": "2020-12-12T03:56:36.928476Z"
    },
    "papermill": {
     "duration": 0.050946,
     "end_time": "2020-12-12T03:56:36.929315",
     "exception": false,
     "start_time": "2020-12-12T03:56:36.878369",
     "status": "completed"
    },
    "tags": []
   },
   "outputs": [],
   "source": [
    "df_lectures = pd.read_pickle(PATH/'df_lectures.pkl')\n",
    "df_lectures.head()"
   ]
  },
  {
   "cell_type": "code",
   "execution_count": null,
   "metadata": {
    "execution": {
     "iopub.execute_input": "2020-12-12T03:56:37.005338Z",
     "iopub.status.busy": "2020-12-12T03:56:37.004534Z",
     "iopub.status.idle": "2020-12-12T03:56:37.007428Z",
     "shell.execute_reply": "2020-12-12T03:56:37.006960Z"
    },
    "papermill": {
     "duration": 0.04611,
     "end_time": "2020-12-12T03:56:37.007543",
     "exception": false,
     "start_time": "2020-12-12T03:56:36.961433",
     "status": "completed"
    },
    "tags": []
   },
   "outputs": [],
   "source": [
    "l_tags_array_map = df_lectures[['lecture_id', 'tags_array']].set_index('lecture_id').tags_array.map(eval).map(lambda x: x[0]).to_dict()"
   ]
  },
  {
   "cell_type": "code",
   "execution_count": null,
   "metadata": {
    "execution": {
     "iopub.execute_input": "2020-12-12T03:56:37.081232Z",
     "iopub.status.busy": "2020-12-12T03:56:37.080478Z",
     "iopub.status.idle": "2020-12-12T03:56:37.083871Z",
     "shell.execute_reply": "2020-12-12T03:56:37.083344Z"
    },
    "papermill": {
     "duration": 0.043838,
     "end_time": "2020-12-12T03:56:37.083993",
     "exception": false,
     "start_time": "2020-12-12T03:56:37.040155",
     "status": "completed"
    },
    "tags": []
   },
   "outputs": [],
   "source": [
    "l_part_map = df_lectures[['lecture_id', 'part']].set_index('lecture_id').part.sort_index().to_dict()"
   ]
  },
  {
   "cell_type": "markdown",
   "metadata": {
    "papermill": {
     "duration": 0.031143,
     "end_time": "2020-12-12T03:56:37.146981",
     "exception": false,
     "start_time": "2020-12-12T03:56:37.115838",
     "status": "completed"
    },
    "tags": []
   },
   "source": [
    "### Load Weights"
   ]
  },
  {
   "cell_type": "code",
   "execution_count": null,
   "metadata": {
    "execution": {
     "iopub.execute_input": "2020-12-12T03:56:37.219682Z",
     "iopub.status.busy": "2020-12-12T03:56:37.218994Z",
     "iopub.status.idle": "2020-12-12T03:56:40.118764Z",
     "shell.execute_reply": "2020-12-12T03:56:40.118183Z"
    },
    "papermill": {
     "duration": 2.94047,
     "end_time": "2020-12-12T03:56:40.118890",
     "exception": false,
     "start_time": "2020-12-12T03:56:37.178420",
     "status": "completed"
    },
    "tags": []
   },
   "outputs": [],
   "source": [
    "cat_cols = ['user_id', 'content_id']\n",
    "\n",
    "weights = np.load(PATH/'weights_all.npy', allow_pickle=True).item()\n",
    "\n",
    "for c in cat_cols:\n",
    "    embed_key = f'{c}_embedding'\n",
    "    weights[embed_key] = np.reshape(weights[embed_key], (len(weights[c]) + 1, -1))\n",
    "\n",
    "weights.keys()"
   ]
  },
  {
   "cell_type": "code",
   "execution_count": null,
   "metadata": {
    "execution": {
     "iopub.execute_input": "2020-12-12T03:56:40.188242Z",
     "iopub.status.busy": "2020-12-12T03:56:40.187291Z",
     "iopub.status.idle": "2020-12-12T03:56:40.194535Z",
     "shell.execute_reply": "2020-12-12T03:56:40.195094Z"
    },
    "papermill": {
     "duration": 0.043078,
     "end_time": "2020-12-12T03:56:40.195235",
     "exception": false,
     "start_time": "2020-12-12T03:56:40.152157",
     "status": "completed"
    },
    "tags": []
   },
   "outputs": [],
   "source": [
    "def get_preds(df, weights, logits=True):\n",
    "    user_codes, content_codes = [pd.Categorical(df[c], categories=weights[c]).codes  for c in cat_cols]\n",
    "    user_col, content_col = cat_cols\n",
    "    logit = np.sum(weights[f'{user_col}_embedding'][user_codes] * weights[f'{content_col}_embedding'][content_codes], axis=1)\n",
    "    logit += weights[f'{user_col}_bias'][user_codes] + weights[f'{content_col}_bias'][content_codes]\n",
    "    \n",
    "    if logits:\n",
    "        return logit\n",
    "    else:\n",
    "        return 1 / (1 + np.exp(-logit))"
   ]
  },
  {
   "cell_type": "markdown",
   "metadata": {
    "papermill": {
     "duration": 0.031937,
     "end_time": "2020-12-12T03:56:40.259723",
     "exception": false,
     "start_time": "2020-12-12T03:56:40.227786",
     "status": "completed"
    },
    "tags": []
   },
   "source": [
    "## Create Database"
   ]
  },
  {
   "cell_type": "code",
   "execution_count": null,
   "metadata": {
    "execution": {
     "iopub.execute_input": "2020-12-12T03:56:40.327983Z",
     "iopub.status.busy": "2020-12-12T03:56:40.327012Z",
     "iopub.status.idle": "2020-12-12T03:56:40.332087Z",
     "shell.execute_reply": "2020-12-12T03:56:40.332579Z"
    },
    "papermill": {
     "duration": 0.040887,
     "end_time": "2020-12-12T03:56:40.332740",
     "exception": false,
     "start_time": "2020-12-12T03:56:40.291853",
     "status": "completed"
    },
    "tags": []
   },
   "outputs": [],
   "source": [
    "conn = sqlite3.connect(':memory:')\n",
    "c = conn.cursor()"
   ]
  },
  {
   "cell_type": "markdown",
   "metadata": {
    "papermill": {
     "duration": 0.031829,
     "end_time": "2020-12-12T03:56:40.396590",
     "exception": false,
     "start_time": "2020-12-12T03:56:40.364761",
     "status": "completed"
    },
    "tags": []
   },
   "source": [
    "### Create Users-Content Table"
   ]
  },
  {
   "cell_type": "code",
   "execution_count": null,
   "metadata": {
    "execution": {
     "iopub.execute_input": "2020-12-12T03:56:40.466504Z",
     "iopub.status.busy": "2020-12-12T03:56:40.465817Z",
     "iopub.status.idle": "2020-12-12T03:56:40.468689Z",
     "shell.execute_reply": "2020-12-12T03:56:40.469127Z"
    },
    "papermill": {
     "duration": 0.040362,
     "end_time": "2020-12-12T03:56:40.469269",
     "exception": false,
     "start_time": "2020-12-12T03:56:40.428907",
     "status": "completed"
    },
    "tags": []
   },
   "outputs": [],
   "source": [
    "c.execute(\"\"\"\n",
    "    CREATE TABLE users_content (\n",
    "        user_id INTEGER,\n",
    "        content_id INTEGER,\n",
    "        ac_cumsum_content_id INTEGER,\n",
    "        r_cumcnt_content_id INTEGER,\n",
    "        aic_cumsum_content_id INTEGER,\n",
    "        ac_cumsum_pct_content_id INTEGER GENERATED ALWAYS AS (IFNULL(ROUND(ac_cumsum_content_id * 100 / r_cumcnt_content_id), -1)) STORED\n",
    "    )\n",
    "\"\"\").fetchone()"
   ]
  },
  {
   "cell_type": "code",
   "execution_count": null,
   "metadata": {
    "execution": {
     "iopub.execute_input": "2020-12-12T03:56:40.558102Z",
     "iopub.status.busy": "2020-12-12T03:56:40.557033Z",
     "iopub.status.idle": "2020-12-12T03:59:32.133205Z",
     "shell.execute_reply": "2020-12-12T03:59:32.131669Z"
    },
    "id": "63yBucLFCl2e",
    "papermill": {
     "duration": 171.631747,
     "end_time": "2020-12-12T03:59:32.133326",
     "exception": false,
     "start_time": "2020-12-12T03:56:40.501579",
     "status": "completed"
    },
    "tags": []
   },
   "outputs": [],
   "source": [
    "%%time\n",
    "\n",
    "chunk_size = 20000\n",
    "total = len(df_users_content)\n",
    "n_chunks = (total // chunk_size + 1)\n",
    "\n",
    "for i in trange(n_chunks):\n",
    "    df_users_content.iloc[i * chunk_size:(i + 1) * chunk_size].to_sql('users_content', conn, method='multi', if_exists='append', index=False)\n",
    "\n",
    "c.execute('CREATE UNIQUE INDEX users_content_index ON users_content (user_id, content_id)')\n",
    "del df_users_content\n",
    "gc.collect()"
   ]
  },
  {
   "cell_type": "code",
   "execution_count": null,
   "metadata": {
    "execution": {
     "iopub.execute_input": "2020-12-12T03:59:32.212567Z",
     "iopub.status.busy": "2020-12-12T03:59:32.205388Z",
     "iopub.status.idle": "2020-12-12T03:59:32.218295Z",
     "shell.execute_reply": "2020-12-12T03:59:32.218841Z"
    },
    "id": "ilSQqd8iCl2e",
    "papermill": {
     "duration": 0.052206,
     "end_time": "2020-12-12T03:59:32.219027",
     "exception": false,
     "start_time": "2020-12-12T03:59:32.166821",
     "status": "completed"
    },
    "tags": []
   },
   "outputs": [],
   "source": [
    "%%time\n",
    "pd.read_sql('SELECT * from users_content LIMIT 5', conn)"
   ]
  },
  {
   "cell_type": "markdown",
   "metadata": {
    "id": "t9Fk3e2ECl2e",
    "papermill": {
     "duration": 0.034109,
     "end_time": "2020-12-12T03:59:32.288769",
     "exception": false,
     "start_time": "2020-12-12T03:59:32.254660",
     "status": "completed"
    },
    "tags": []
   },
   "source": [
    "### Create Users-Part Table"
   ]
  },
  {
   "cell_type": "code",
   "execution_count": null,
   "metadata": {
    "execution": {
     "iopub.execute_input": "2020-12-12T03:59:32.362482Z",
     "iopub.status.busy": "2020-12-12T03:59:32.361892Z",
     "iopub.status.idle": "2020-12-12T03:59:32.364127Z",
     "shell.execute_reply": "2020-12-12T03:59:32.364707Z"
    },
    "papermill": {
     "duration": 0.041506,
     "end_time": "2020-12-12T03:59:32.364847",
     "exception": false,
     "start_time": "2020-12-12T03:59:32.323341",
     "status": "completed"
    },
    "tags": []
   },
   "outputs": [],
   "source": [
    "c.execute(\"\"\"\n",
    "    CREATE TABLE users_part (\n",
    "        user_id INTEGER,\n",
    "        part INTEGER,\n",
    "        ac_cumsum_part INTEGER,\n",
    "        r_cumcnt_part INTEGER,\n",
    "        aic_cumsum_part INTEGER,\n",
    "        lectures_cumcnt_part INTEGER,\n",
    "        ac_cumsum_pct_part INTEGER GENERATED ALWAYS AS (IFNULL(ROUND(ac_cumsum_part * 100 / r_cumcnt_part), -1)) STORED\n",
    "    )\n",
    "\"\"\").fetchone()"
   ]
  },
  {
   "cell_type": "code",
   "execution_count": null,
   "metadata": {
    "execution": {
     "iopub.execute_input": "2020-12-12T03:59:32.437399Z",
     "iopub.status.busy": "2020-12-12T03:59:32.436806Z",
     "iopub.status.idle": "2020-12-12T03:59:36.170495Z",
     "shell.execute_reply": "2020-12-12T03:59:36.170972Z"
    },
    "id": "63yBucLFCl2e",
    "papermill": {
     "duration": 3.771461,
     "end_time": "2020-12-12T03:59:36.171110",
     "exception": false,
     "start_time": "2020-12-12T03:59:32.399649",
     "status": "completed"
    },
    "tags": []
   },
   "outputs": [],
   "source": [
    "%%time\n",
    "\n",
    "chunk_size = 20000\n",
    "total = len(df_users_part)\n",
    "n_chunks = (total // chunk_size + 1)\n",
    "\n",
    "for i in trange(n_chunks):\n",
    "    df_users_part.iloc[i * chunk_size:(i + 1) * chunk_size].to_sql('users_part', conn, method='multi', if_exists='append', index=False)\n",
    "\n",
    "c.execute('CREATE UNIQUE INDEX users_part_index ON users_part (user_id, part)')\n",
    "del df_users_part\n",
    "gc.collect()"
   ]
  },
  {
   "cell_type": "code",
   "execution_count": null,
   "metadata": {
    "execution": {
     "iopub.execute_input": "2020-12-12T03:59:36.255669Z",
     "iopub.status.busy": "2020-12-12T03:59:36.255062Z",
     "iopub.status.idle": "2020-12-12T03:59:36.262513Z",
     "shell.execute_reply": "2020-12-12T03:59:36.262010Z"
    },
    "id": "ilSQqd8iCl2e",
    "papermill": {
     "duration": 0.055408,
     "end_time": "2020-12-12T03:59:36.262650",
     "exception": false,
     "start_time": "2020-12-12T03:59:36.207242",
     "status": "completed"
    },
    "tags": []
   },
   "outputs": [],
   "source": [
    "%%time\n",
    "pd.read_sql('SELECT * from users_part LIMIT 5', conn)"
   ]
  },
  {
   "cell_type": "markdown",
   "metadata": {
    "id": "t9Fk3e2ECl2e",
    "papermill": {
     "duration": 0.036486,
     "end_time": "2020-12-12T03:59:36.336208",
     "exception": false,
     "start_time": "2020-12-12T03:59:36.299722",
     "status": "completed"
    },
    "tags": []
   },
   "source": [
    "### Create Users-Tag Table"
   ]
  },
  {
   "cell_type": "code",
   "execution_count": null,
   "metadata": {
    "execution": {
     "iopub.execute_input": "2020-12-12T03:59:36.415175Z",
     "iopub.status.busy": "2020-12-12T03:59:36.414498Z",
     "iopub.status.idle": "2020-12-12T03:59:36.417592Z",
     "shell.execute_reply": "2020-12-12T03:59:36.417125Z"
    },
    "papermill": {
     "duration": 0.044556,
     "end_time": "2020-12-12T03:59:36.417751",
     "exception": false,
     "start_time": "2020-12-12T03:59:36.373195",
     "status": "completed"
    },
    "tags": []
   },
   "outputs": [],
   "source": [
    "c.executescript(\"\"\"\n",
    "    CREATE TABLE users_tag (\n",
    "        user_id INTEGER,\n",
    "        tag INTEGER,\n",
    "        ac_cumsum_tag INTEGER,\n",
    "        r_cumcnt_tag INTEGER,\n",
    "        aic_cumsum_tag INTEGER,\n",
    "        lectures_cumcnt_tag INTEGER,\n",
    "        ac_cumsum_pct_tag INTEGER GENERATED ALWAYS AS (IFNULL(ROUND(ac_cumsum_tag * 100 / r_cumcnt_tag), -1)) STORED\n",
    "    )\n",
    "\"\"\").fetchone()"
   ]
  },
  {
   "cell_type": "code",
   "execution_count": null,
   "metadata": {
    "execution": {
     "iopub.execute_input": "2020-12-12T03:59:36.513571Z",
     "iopub.status.busy": "2020-12-12T03:59:36.512833Z",
     "iopub.status.idle": "2020-12-12T04:00:27.043327Z",
     "shell.execute_reply": "2020-12-12T04:00:27.042757Z"
    },
    "id": "63yBucLFCl2e",
    "papermill": {
     "duration": 50.588286,
     "end_time": "2020-12-12T04:00:27.043437",
     "exception": false,
     "start_time": "2020-12-12T03:59:36.455151",
     "status": "completed"
    },
    "tags": []
   },
   "outputs": [],
   "source": [
    "%%time\n",
    "\n",
    "chunk_size = 20000\n",
    "total = len(df_users_tag)\n",
    "n_chunks = (total // chunk_size + 1)\n",
    "\n",
    "for i in trange(n_chunks):\n",
    "    df_users_tag.iloc[i * chunk_size:(i + 1) * chunk_size].to_sql('users_tag', conn, method='multi', if_exists='append', index=False)\n",
    "\n",
    "c.execute('CREATE UNIQUE INDEX users_tag_index ON users_tag (user_id, tag)')\n",
    "del df_users_tag\n",
    "gc.collect()"
   ]
  },
  {
   "cell_type": "code",
   "execution_count": null,
   "metadata": {
    "execution": {
     "iopub.execute_input": "2020-12-12T04:00:27.125988Z",
     "iopub.status.busy": "2020-12-12T04:00:27.125334Z",
     "iopub.status.idle": "2020-12-12T04:00:27.138799Z",
     "shell.execute_reply": "2020-12-12T04:00:27.138155Z"
    },
    "id": "ilSQqd8iCl2e",
    "papermill": {
     "duration": 0.057468,
     "end_time": "2020-12-12T04:00:27.138929",
     "exception": false,
     "start_time": "2020-12-12T04:00:27.081461",
     "status": "completed"
    },
    "tags": []
   },
   "outputs": [],
   "source": [
    "%%time\n",
    "pd.read_sql('SELECT * from users_tag LIMIT 5', conn)"
   ]
  },
  {
   "cell_type": "markdown",
   "metadata": {
    "id": "CppxSP5ACl2e",
    "papermill": {
     "duration": 0.038633,
     "end_time": "2020-12-12T04:00:27.216461",
     "exception": false,
     "start_time": "2020-12-12T04:00:27.177828",
     "status": "completed"
    },
    "tags": []
   },
   "source": [
    "### Create Users Table"
   ]
  },
  {
   "cell_type": "code",
   "execution_count": null,
   "metadata": {
    "_kg_hide-input": false,
    "execution": {
     "iopub.execute_input": "2020-12-12T04:00:27.301561Z",
     "iopub.status.busy": "2020-12-12T04:00:27.300983Z",
     "iopub.status.idle": "2020-12-12T04:00:27.304562Z",
     "shell.execute_reply": "2020-12-12T04:00:27.304079Z"
    },
    "papermill": {
     "duration": 0.046757,
     "end_time": "2020-12-12T04:00:27.304708",
     "exception": false,
     "start_time": "2020-12-12T04:00:27.257951",
     "status": "completed"
    },
    "tags": []
   },
   "outputs": [],
   "source": [
    "c.executescript(\"\"\"\n",
    "    DROP TABLE IF EXISTS users;\n",
    "\n",
    "    CREATE TABLE users (\n",
    "        user_id INTEGER,\n",
    "        ac_cumsum INTEGER,\n",
    "        aic_cumsum INTEGER,\n",
    "        r_cumcnt INTEGER,\n",
    "        lectures_cumcnt INTEGER,\n",
    "        ac_cumsum_upto INTEGER,\n",
    "        aic_cumsum_upto INTEGER,\n",
    "        r_cumcnt_upto INTEGER,\n",
    "        ac_cumsum_session INTEGER,\n",
    "        aic_cumsum_session INTEGER,\n",
    "        r_cumcnt_session INTEGER,\n",
    "        lectures_cumcnt_session INTEGER,\n",
    "        session INTEGER,\n",
    "        timestamp INTEGER,\n",
    "        ac_cumsum_pct INTEGER GENERATED ALWAYS AS (IFNULL(ROUND(ac_cumsum * 100 / r_cumcnt), -1)) STORED,\n",
    "        ac_cumsum_pct_upto INTEGER GENERATED ALWAYS AS (IFNULL(ROUND(ac_cumsum_upto * 100 / r_cumcnt_upto), -1)) STORED,\n",
    "        ac_cumsum_pct_session INTEGER GENERATED ALWAYS AS (IFNULL(ROUND(ac_cumsum_session * 100 / r_cumcnt_session), -1)) STORED\n",
    "    )\n",
    "\"\"\").fetchone()"
   ]
  },
  {
   "cell_type": "code",
   "execution_count": null,
   "metadata": {
    "execution": {
     "iopub.execute_input": "2020-12-12T04:00:27.392280Z",
     "iopub.status.busy": "2020-12-12T04:00:27.391213Z",
     "iopub.status.idle": "2020-12-12T04:00:28.874167Z",
     "shell.execute_reply": "2020-12-12T04:00:28.873562Z"
    },
    "id": "FGOXf5U_Cl2e",
    "papermill": {
     "duration": 1.530809,
     "end_time": "2020-12-12T04:00:28.874288",
     "exception": false,
     "start_time": "2020-12-12T04:00:27.343479",
     "status": "completed"
    },
    "tags": []
   },
   "outputs": [],
   "source": [
    "%%time\n",
    "\n",
    "chunk_size = 10000\n",
    "total = len(df_users)\n",
    "n_chunks = (total // chunk_size + 1)\n",
    "\n",
    "i = 0\n",
    "while i < n_chunks:\n",
    "    df_users.iloc[i * chunk_size:(i + 1) * chunk_size].to_sql('users', conn, method='multi', if_exists='append', index=False)\n",
    "    i += 1\n",
    "\n",
    "c.execute('CREATE UNIQUE INDEX users_index ON users (user_id)').fetchone()\n",
    "del df_users\n",
    "gc.collect()"
   ]
  },
  {
   "cell_type": "code",
   "execution_count": null,
   "metadata": {
    "execution": {
     "iopub.execute_input": "2020-12-12T04:00:28.958165Z",
     "iopub.status.busy": "2020-12-12T04:00:28.957534Z",
     "iopub.status.idle": "2020-12-12T04:00:28.974968Z",
     "shell.execute_reply": "2020-12-12T04:00:28.974390Z"
    },
    "id": "ImyV-iYeCl2e",
    "papermill": {
     "duration": 0.061264,
     "end_time": "2020-12-12T04:00:28.975079",
     "exception": false,
     "start_time": "2020-12-12T04:00:28.913815",
     "status": "completed"
    },
    "tags": []
   },
   "outputs": [],
   "source": [
    "%%time\n",
    "pd.read_sql('SELECT * from users LIMIT 5', conn)"
   ]
  },
  {
   "cell_type": "markdown",
   "metadata": {
    "id": "_EGiGtOaCl2f",
    "papermill": {
     "duration": 0.040339,
     "end_time": "2020-12-12T04:00:29.105814",
     "exception": false,
     "start_time": "2020-12-12T04:00:29.065475",
     "status": "completed"
    },
    "tags": []
   },
   "source": [
    "### Create Questions Table"
   ]
  },
  {
   "cell_type": "code",
   "execution_count": null,
   "metadata": {
    "execution": {
     "iopub.execute_input": "2020-12-12T04:00:29.194936Z",
     "iopub.status.busy": "2020-12-12T04:00:29.192901Z",
     "iopub.status.idle": "2020-12-12T04:00:29.448477Z",
     "shell.execute_reply": "2020-12-12T04:00:29.448963Z"
    },
    "id": "av6ofrhwCl2f",
    "papermill": {
     "duration": 0.302999,
     "end_time": "2020-12-12T04:00:29.449099",
     "exception": false,
     "start_time": "2020-12-12T04:00:29.146100",
     "status": "completed"
    },
    "tags": []
   },
   "outputs": [],
   "source": [
    "%%time\n",
    "\n",
    "q_cols = [\n",
    "    'question_id',\n",
    "    'part',\n",
    "    'tag_0',\n",
    "    'part_correct_pct',\n",
    "    'tag_0_correct_pct',\n",
    "    'question_id_correct_pct',\n",
    "    'tags_correct_pct',\n",
    "    'tags_code',\n",
    "    'tag_0_part_correct_pct',\n",
    "    'question_id_pqet_avg',\n",
    "    'tags_pqet_avg',\n",
    "    'tag_0_pqet_avg',\n",
    "    'part_pqet_avg'\n",
    "]\n",
    "\n",
    "df_questions[q_cols].to_sql('questions', conn, method='multi', index=False)\n",
    "c.execute('CREATE UNIQUE INDEX question_id_index ON questions (question_id)').fetchone()\n",
    "del df_questions\n",
    "gc.collect()"
   ]
  },
  {
   "cell_type": "code",
   "execution_count": null,
   "metadata": {
    "execution": {
     "iopub.execute_input": "2020-12-12T04:00:29.536290Z",
     "iopub.status.busy": "2020-12-12T04:00:29.535668Z",
     "iopub.status.idle": "2020-12-12T04:00:29.551335Z",
     "shell.execute_reply": "2020-12-12T04:00:29.552125Z"
    },
    "id": "6jVDeyYKCl2f",
    "papermill": {
     "duration": 0.06204,
     "end_time": "2020-12-12T04:00:29.552303",
     "exception": false,
     "start_time": "2020-12-12T04:00:29.490263",
     "status": "completed"
    },
    "tags": []
   },
   "outputs": [],
   "source": [
    "%%time\n",
    "pd.read_sql('SELECT * from questions LIMIT 5', conn)"
   ]
  },
  {
   "cell_type": "markdown",
   "metadata": {
    "papermill": {
     "duration": 0.04184,
     "end_time": "2020-12-12T04:00:29.636988",
     "exception": false,
     "start_time": "2020-12-12T04:00:29.595148",
     "status": "completed"
    },
    "tags": []
   },
   "source": [
    "### Create Questions-Tags Table"
   ]
  },
  {
   "cell_type": "code",
   "execution_count": null,
   "metadata": {
    "execution": {
     "iopub.execute_input": "2020-12-12T04:00:29.746176Z",
     "iopub.status.busy": "2020-12-12T04:00:29.737538Z",
     "iopub.status.idle": "2020-12-12T04:00:29.927792Z",
     "shell.execute_reply": "2020-12-12T04:00:29.927276Z"
    },
    "papermill": {
     "duration": 0.248109,
     "end_time": "2020-12-12T04:00:29.927921",
     "exception": false,
     "start_time": "2020-12-12T04:00:29.679812",
     "status": "completed"
    },
    "tags": []
   },
   "outputs": [],
   "source": [
    "df_qt.to_sql('questions_tags', conn, method='multi', index=False)\n",
    "c.execute('CREATE UNIQUE INDEX question_id_tag_index ON questions_tags (question_id, tag)').fetchone()\n",
    "del df_qt\n",
    "gc.collect()"
   ]
  },
  {
   "cell_type": "code",
   "execution_count": null,
   "metadata": {
    "execution": {
     "iopub.execute_input": "2020-12-12T04:00:30.018711Z",
     "iopub.status.busy": "2020-12-12T04:00:30.018007Z",
     "iopub.status.idle": "2020-12-12T04:00:30.025329Z",
     "shell.execute_reply": "2020-12-12T04:00:30.024584Z"
    },
    "id": "lTevUAfLCl2f",
    "papermill": {
     "duration": 0.053886,
     "end_time": "2020-12-12T04:00:30.025481",
     "exception": false,
     "start_time": "2020-12-12T04:00:29.971595",
     "status": "completed"
    },
    "tags": []
   },
   "outputs": [],
   "source": [
    "db_size = pd.read_sql('SELECT page_count * page_size as size FROM pragma_page_count(), pragma_page_size()', conn)['size'][0]\n",
    "print(f'Total size of database is: {db_size/1e9:0.3f} GB')"
   ]
  },
  {
   "cell_type": "markdown",
   "metadata": {
    "id": "i2P09--RCl2f",
    "papermill": {
     "duration": 0.043044,
     "end_time": "2020-12-12T04:00:30.112294",
     "exception": false,
     "start_time": "2020-12-12T04:00:30.069250",
     "status": "completed"
    },
    "tags": []
   },
   "source": [
    "## Predict"
   ]
  },
  {
   "cell_type": "markdown",
   "metadata": {
    "id": "aiWVigTdCl2f",
    "papermill": {
     "duration": 0.042916,
     "end_time": "2020-12-12T04:00:30.198261",
     "exception": false,
     "start_time": "2020-12-12T04:00:30.155345",
     "status": "completed"
    },
    "tags": []
   },
   "source": [
    "### Get State"
   ]
  },
  {
   "cell_type": "code",
   "execution_count": null,
   "metadata": {
    "execution": {
     "iopub.execute_input": "2020-12-12T04:00:30.293262Z",
     "iopub.status.busy": "2020-12-12T04:00:30.292568Z",
     "iopub.status.idle": "2020-12-12T04:00:30.295513Z",
     "shell.execute_reply": "2020-12-12T04:00:30.295041Z"
    },
    "id": "PtvB3N9LCl2f",
    "papermill": {
     "duration": 0.053313,
     "end_time": "2020-12-12T04:00:30.295640",
     "exception": false,
     "start_time": "2020-12-12T04:00:30.242327",
     "status": "completed"
    },
    "tags": []
   },
   "outputs": [],
   "source": [
    "# with tags_cumsum\n",
    "def select_state(batch_cols, records, session_hours=72):\n",
    "    cols_string = (', ').join(batch_cols)\n",
    "    values_string = (', ').join(list(map(str, records)))\n",
    "        \n",
    "    return f\"\"\"\n",
    "        \n",
    "        WITH b ({cols_string}) AS (\n",
    "            VALUES {values_string}\n",
    "        )\n",
    "        SELECT\n",
    "            {(', ').join([f'b.{col}' for col in batch_cols])},\n",
    "            CAST(b.timestamp / 60000 AS INTEGER) ts_minute,\n",
    "            CAST(b.prior_question_elapsed_time / 1000 AS INTEGER) pqet_sec,\n",
    "            IFNULL(IIF(u.r_cumcnt > 300, 300, u.r_cumcnt), 0) r_cumcnt_clip,\n",
    "            IFNULL(IIF(b.timestamp - u.timestamp > (1000 * 60 * 60 * {session_hours}), u.session + 1, u.session), 0) session,\n",
    "            IFNULL(IIF(b.timestamp - u.timestamp > (1000 * 60 * 60 * {session_hours}), 0, u.ac_cumsum_session), 0) ac_cumsum_session,\n",
    "            IFNULL(IIF(b.timestamp - u.timestamp > (1000 * 60 * 60 * {session_hours}), 0, u.aic_cumsum_session), 0) aic_cumsum_session,\n",
    "            IFNULL(IIF(b.timestamp - u.timestamp > (1000 * 60 * 60 * {session_hours}), 0, u.r_cumcnt_session), 0) r_cumcnt_session,\n",
    "            IFNULL(IIF(b.timestamp - u.timestamp > (1000 * 60 * 60 * {session_hours}), 0, u.lectures_cumcnt_session), 0) lectures_cumcnt_session,\n",
    "            IFNULL(IIF(b.timestamp - u.timestamp > (1000 * 60 * 60 * {session_hours}), -1, u.ac_cumsum_pct_session), -1) ac_cumsum_pct_session,\n",
    "            IFNULL(u.ac_cumsum, 0) ac_cumsum, \n",
    "            IFNULL(u.aic_cumsum, 0) aic_cumsum,\n",
    "            IFNULL(u.ac_cumsum_pct, -1) ac_cumsum_pct,\n",
    "            IFNULL(u.r_cumcnt, 0) r_cumcnt,\n",
    "            IFNULL(u.lectures_cumcnt, 0) lectures_cumcnt,\n",
    "            IFNULL(u.ac_cumsum_upto, 0) ac_cumsum_upto, \n",
    "            IFNULL(u.aic_cumsum_upto, 0) aic_cumsum_upto,\n",
    "            IFNULL(u.ac_cumsum_pct_upto, -1) ac_cumsum_pct_upto,\n",
    "            IFNULL(u.r_cumcnt_upto, 0) r_cumcnt_upto,\n",
    "            IFNULL(uc.ac_cumsum_content_id, 0) ac_cumsum_content_id, \n",
    "            IFNULL(uc.aic_cumsum_content_id, 0) aic_cumsum_content_id,\n",
    "            IFNULL(uc.ac_cumsum_pct_content_id, -1) ac_cumsum_pct_content_id,\n",
    "            IFNULL(uc.r_cumcnt_content_id, 0) r_cumcnt_content_id,\n",
    "            IFNULL(ut.ac_cumsum_tag, 0) ac_cumsum_tag_0, \n",
    "            IFNULL(ut.aic_cumsum_tag, 0) aic_cumsum_tag_0,\n",
    "            IFNULL(ut.ac_cumsum_pct_tag, -1) ac_cumsum_pct_tag_0,\n",
    "            IFNULL(ut.r_cumcnt_tag, 0) r_cumcnt_tag_0,\n",
    "            IFNULL(ut.lectures_cumcnt_tag, 0) lectures_cumcnt_tag_0,\n",
    "            IFNULL(ut3.ac_cumsum_tags, 0) ac_cumsum_tags, \n",
    "            IFNULL(ut3.aic_cumsum_tags, 0) aic_cumsum_tags,\n",
    "            IFNULL(ut3.r_cumcnt_tags, 0) r_cumcnt_tags,\n",
    "            IFNULL(ut3.lectures_cumcnt_tags, 0) lectures_cumcnt_tags,\n",
    "            IFNULL(CAST(ut3.ac_cumsum_tags * 100 / ut3.r_cumcnt_tags AS INTEGER), -1) ac_cumsum_pct_tags,\n",
    "            IFNULL(up.ac_cumsum_part, 0) ac_cumsum_part, \n",
    "            IFNULL(up.aic_cumsum_part, 0) aic_cumsum_part,\n",
    "            IFNULL(up.ac_cumsum_pct_part, -1) ac_cumsum_pct_part,\n",
    "            IFNULL(up.r_cumcnt_part, 0) r_cumcnt_part,\n",
    "            IFNULL(up.lectures_cumcnt_part, 0) lectures_cumcnt_part,\n",
    "            {(', ').join([f'q.{c}' for c in q_cols])}\n",
    "        FROM b\n",
    "        LEFT JOIN (\n",
    "            WITH bt ({cols_string}) AS (\n",
    "            VALUES {values_string}\n",
    "            )\n",
    "            SELECT\n",
    "                bt.user_id, bt.content_id,\n",
    "                    SUM(ut.ac_cumsum_tag) ac_cumsum_tags,\n",
    "                    SUM(ut.aic_cumsum_tag) aic_cumsum_tags,\n",
    "                    SUM(ut.r_cumcnt_tag) r_cumcnt_tags,\n",
    "                    SUM(ut.lectures_cumcnt_tag) lectures_cumcnt_tags\n",
    "            FROM bt\n",
    "            LEFT JOIN questions_tags qt\n",
    "                ON qt.question_id = bt.content_id\n",
    "            LEFT JOIN users_tag ut\n",
    "                ON ut.tag = qt.tag AND ut.user_id = bt.user_id\n",
    "            GROUP BY\n",
    "                bt.user_id, bt.content_id\n",
    "        ) ut3\n",
    "            ON ut3.user_id = b.user_id AND ut3.content_id = b.content_id\n",
    "        LEFT JOIN users u\n",
    "            ON u.user_id = b.user_id\n",
    "        LEFT JOIN users_content uc\n",
    "            ON uc.user_id = b.user_id AND uc.content_id = b.content_id\n",
    "        LEFT JOIN questions q\n",
    "            ON q.question_id = b.content_id\n",
    "        LEFT JOIN users_tag ut\n",
    "            ON ut.user_id = b.user_id AND ut.tag = q.tag_0\n",
    "        LEFT JOIN users_part up\n",
    "            ON up.user_id = b.user_id AND up.part = q.part\n",
    "    \"\"\""
   ]
  },
  {
   "cell_type": "markdown",
   "metadata": {
    "id": "3FQw4MXkCl2f",
    "papermill": {
     "duration": 0.042203,
     "end_time": "2020-12-12T04:00:30.380509",
     "exception": false,
     "start_time": "2020-12-12T04:00:30.338306",
     "status": "completed"
    },
    "tags": []
   },
   "source": [
    "### Update State"
   ]
  },
  {
   "cell_type": "code",
   "execution_count": null,
   "metadata": {
    "execution": {
     "iopub.execute_input": "2020-12-12T04:00:30.475572Z",
     "iopub.status.busy": "2020-12-12T04:00:30.474971Z",
     "iopub.status.idle": "2020-12-12T04:00:30.477873Z",
     "shell.execute_reply": "2020-12-12T04:00:30.477391Z"
    },
    "id": "SJ9FdNHoCl2f",
    "papermill": {
     "duration": 0.055109,
     "end_time": "2020-12-12T04:00:30.477980",
     "exception": false,
     "start_time": "2020-12-12T04:00:30.422871",
     "status": "completed"
    },
    "tags": []
   },
   "outputs": [],
   "source": [
    "def update_state(df, session_hours=72):\n",
    "    \n",
    "    def get_update_values(r):\n",
    "        values_u = f\"\"\"({r.user_id}, {r.answered_correctly}, {r.answered_correctly}, {1-r.answered_correctly}, {1-r.answered_correctly}, 1, 1, 0,\n",
    "                    {r.answered_correctly}, {1-r.answered_correctly}, 1, 0, {r.timestamp}, 0)\"\"\"\n",
    "        values_uc = f'({r.user_id}, {r.content_id}, {r.answered_correctly}, {1-r.answered_correctly}, 1)'\n",
    "        values_ut = [f'({r.user_id}, {t}, {r.answered_correctly}, {1-r.answered_correctly}, 1, 0)' for t in q_tags_array_map[r.content_id]]\n",
    "        values_up = f'({r.user_id}, {q_part_map[r.content_id]}, {r.answered_correctly}, {1-r.answered_correctly}, 1, 0)'\n",
    "        return values_u, values_uc, values_ut, values_up\n",
    "    \n",
    "    values = df.apply(get_update_values, axis=1, result_type='expand')\n",
    "    \n",
    "    return f\"\"\"\n",
    "        INSERT INTO users (user_id, ac_cumsum, ac_cumsum_upto, aic_cumsum, aic_cumsum_upto, r_cumcnt, r_cumcnt_upto, lectures_cumcnt,\n",
    "            ac_cumsum_session, aic_cumsum_session, r_cumcnt_session, lectures_cumcnt_session, timestamp, session)\n",
    "        VALUES {(',').join(values[0])}\n",
    "        ON CONFLICT (user_id) DO UPDATE SET\n",
    "            ac_cumsum = ac_cumsum + excluded.ac_cumsum,\n",
    "            aic_cumsum = aic_cumsum + excluded.aic_cumsum,\n",
    "            r_cumcnt = r_cumcnt + excluded.r_cumcnt,\n",
    "            ac_cumsum_upto = IIF(r_cumcnt_upto < 10, ac_cumsum_upto + excluded.ac_cumsum, ac_cumsum_upto),\n",
    "            aic_cumsum_upto = IIF(r_cumcnt_upto < 10, aic_cumsum_upto + excluded.aic_cumsum, aic_cumsum_upto),\n",
    "            r_cumcnt_upto = IIF(r_cumcnt_upto < 10, r_cumcnt_upto + 1, r_cumcnt_upto),\n",
    "            session = IIF(excluded.timestamp - timestamp > (1000 * 60 * 60 * {session_hours}), session + 1, session),\n",
    "            ac_cumsum_session = IIF(excluded.timestamp - timestamp > (1000 * 60 * 60 * {session_hours}), excluded.ac_cumsum_session, ac_cumsum_session + excluded.ac_cumsum_session),\n",
    "            aic_cumsum_session = IIF(excluded.timestamp - timestamp > (1000 * 60 * 60 * {session_hours}), excluded.aic_cumsum_session, aic_cumsum_session + excluded.aic_cumsum_session),\n",
    "            r_cumcnt_session = IIF(excluded.timestamp - timestamp > (1000 * 60 * 60 * {session_hours}), excluded.r_cumcnt_session, r_cumcnt_session + excluded.r_cumcnt_session),\n",
    "            timestamp = excluded.timestamp;\n",
    "        \n",
    "        INSERT INTO users_content (user_id, content_id, ac_cumsum_content_id, aic_cumsum_content_id, r_cumcnt_content_id)\n",
    "        VALUES {(',').join(values[1])}\n",
    "        ON CONFLICT (user_id, content_id) DO UPDATE SET\n",
    "            ac_cumsum_content_id = ac_cumsum_content_id + excluded.ac_cumsum_content_id,\n",
    "            aic_cumsum_content_id = aic_cumsum_content_id + excluded.aic_cumsum_content_id,\n",
    "            r_cumcnt_content_id = r_cumcnt_content_id + 1;\n",
    "        \n",
    "        INSERT INTO users_tag (user_id, tag, ac_cumsum_tag, aic_cumsum_tag, r_cumcnt_tag, lectures_cumcnt_tag)\n",
    "        VALUES {(',').join(sum(values[2], []))}\n",
    "        ON CONFLICT (user_id, tag) DO UPDATE SET\n",
    "            ac_cumsum_tag = ac_cumsum_tag + excluded.ac_cumsum_tag,\n",
    "            aic_cumsum_tag = aic_cumsum_tag + excluded.aic_cumsum_tag,\n",
    "            r_cumcnt_tag = r_cumcnt_tag + 1;\n",
    "        \n",
    "        INSERT INTO users_part (user_id, part, ac_cumsum_part, aic_cumsum_part, r_cumcnt_part, lectures_cumcnt_part)\n",
    "        VALUES {(',').join(values[3])}\n",
    "        ON CONFLICT (user_id, part) DO UPDATE SET\n",
    "            ac_cumsum_part = ac_cumsum_part + excluded.ac_cumsum_part,\n",
    "            aic_cumsum_part = aic_cumsum_part + excluded.aic_cumsum_part,\n",
    "            r_cumcnt_part = r_cumcnt_part + 1; \n",
    "    \"\"\""
   ]
  },
  {
   "cell_type": "code",
   "execution_count": null,
   "metadata": {
    "execution": {
     "iopub.execute_input": "2020-12-12T04:00:30.570699Z",
     "iopub.status.busy": "2020-12-12T04:00:30.569963Z",
     "iopub.status.idle": "2020-12-12T04:00:30.572592Z",
     "shell.execute_reply": "2020-12-12T04:00:30.572131Z"
    },
    "id": "SJ9FdNHoCl2f",
    "papermill": {
     "duration": 0.052209,
     "end_time": "2020-12-12T04:00:30.572725",
     "exception": false,
     "start_time": "2020-12-12T04:00:30.520516",
     "status": "completed"
    },
    "tags": []
   },
   "outputs": [],
   "source": [
    "def update_state_l(df, session_hours=72):\n",
    "    \n",
    "    def get_update_values(r):\n",
    "        values_u = f'({r.user_id}, 1, 0, 0, 0, 0, 0, 0, 0, 0, 0, 1, {r.timestamp})'\n",
    "        values_ut = f'({r.user_id}, {l_tags_array_map[r.content_id]}, 1, 0, 0, 0)'\n",
    "        values_up = f'({r.user_id}, {l_part_map[r.content_id]}, 1, 0, 0, 0)'\n",
    "        return values_u, values_ut, values_up\n",
    "    \n",
    "    values = df.apply(get_update_values, axis=1, result_type='expand')\n",
    "    \n",
    "    return f\"\"\"\n",
    "        INSERT INTO users (user_id, lectures_cumcnt, ac_cumsum, aic_cumsum,\n",
    "            ac_cumsum_upto, aic_cumsum_upto, r_cumcnt, r_cumcnt_upto,\n",
    "            ac_cumsum_session, aic_cumsum_session, r_cumcnt_session, lectures_cumcnt_session, timestamp)\n",
    "        VALUES {(',').join(values[0])}\n",
    "        ON CONFLICT (user_id) DO UPDATE SET\n",
    "            lectures_cumcnt = lectures_cumcnt + excluded.lectures_cumcnt,\n",
    "            lectures_cumcnt_session = IIF(excluded.timestamp - timestamp > (1000 * 60 * 60 * {session_hours}),\n",
    "                                            excluded.lectures_cumcnt_session,\n",
    "                                            lectures_cumcnt_session + excluded.lectures_cumcnt_session);\n",
    "                        \n",
    "        INSERT INTO users_tag (user_id, tag, lectures_cumcnt_tag, ac_cumsum_tag,\n",
    "            aic_cumsum_tag, r_cumcnt_tag)\n",
    "        VALUES {(',').join(values[1])}\n",
    "        ON CONFLICT (user_id, tag) DO UPDATE SET\n",
    "            lectures_cumcnt_tag = lectures_cumcnt_tag + 1;\n",
    "            \n",
    "        INSERT INTO users_part (user_id, part, lectures_cumcnt_part, ac_cumsum_part,\n",
    "            aic_cumsum_part, r_cumcnt_part)\n",
    "        VALUES {(',').join(values[2])}\n",
    "        ON CONFLICT (user_id, part) DO UPDATE SET\n",
    "            lectures_cumcnt_part = lectures_cumcnt_part + excluded.lectures_cumcnt_part;\n",
    "\n",
    "    \"\"\""
   ]
  },
  {
   "cell_type": "code",
   "execution_count": null,
   "metadata": {
    "execution": {
     "iopub.execute_input": "2020-12-12T04:00:30.676834Z",
     "iopub.status.busy": "2020-12-12T04:00:30.676187Z",
     "iopub.status.idle": "2020-12-12T04:00:30.965042Z",
     "shell.execute_reply": "2020-12-12T04:00:30.965719Z"
    },
    "id": "JIqfF9jMCl2f",
    "papermill": {
     "duration": 0.349936,
     "end_time": "2020-12-12T04:00:30.965901",
     "exception": false,
     "start_time": "2020-12-12T04:00:30.615965",
     "status": "completed"
    },
    "tags": []
   },
   "outputs": [],
   "source": [
    "if mock:\n",
    "    pbar = tqdm(total=env.records_remaining)\n",
    "\n",
    "df_batch_prior = None\n",
    "counter = 0\n",
    "\n",
    "for test_batch in iter_test:\n",
    "    counter += 1\n",
    "\n",
    "    # update state\n",
    "    if df_batch_prior is not None:\n",
    "        answers = eval(test_batch[0]['prior_group_answers_correct'].iloc[0])\n",
    "        df_batch_prior['answered_correctly'] = answers\n",
    "        df_batch_prior_q = df_batch_prior[df_batch_prior.content_type_id == 0]\n",
    "        if len(df_batch_prior_q):\n",
    "            sql = update_state(df_batch_prior_q)\n",
    "            c.executescript(sql)\n",
    "\n",
    "        df_batch_prior_l = df_batch_prior[df_batch_prior.content_type_id == 1]\n",
    "        if len(df_batch_prior_l):\n",
    "            sql = update_state_l(df_batch_prior_l)\n",
    "            c.executescript(sql)\n",
    "\n",
    "        if not counter % 100:\n",
    "            conn.commit()\n",
    "\n",
    "    # save prior batch for state update\n",
    "    df_batch_prior = test_batch[0][batch_cols_prior].astype({k: dtypes[k] for k in batch_cols_prior})\n",
    "\n",
    "    # get state\n",
    "    df_batch = test_batch[0][test_batch[0].content_type_id == 0]\n",
    "    if len(df_batch):\n",
    "        records = df_batch[batch_cols].fillna(0).to_records(index=False)\n",
    "        df_batch = pd.read_sql(select_state(batch_cols, records), conn)\n",
    "        df_batch['pred_collab_logit'] = get_preds(df_batch, weights)\n",
    "\n",
    "        # predict\n",
    "        preds_list = []\n",
    "        for m in models:\n",
    "            preds_list.append(models[m]['model'].predict(xgb.DMatrix(df_batch[test_cols])))\n",
    "\n",
    "        df_batch['answered_correctly'] = np.average(np.stack(preds_list), axis=0)\n",
    "\n",
    "        #submit\n",
    "        env.predict(df_batch[['row_id', 'answered_correctly']])\n",
    "        \n",
    "    if mock:\n",
    "        pbar.update(len(test_batch[0]))"
   ]
  },
  {
   "cell_type": "code",
   "execution_count": null,
   "metadata": {
    "execution": {
     "iopub.execute_input": "2020-12-12T04:00:31.102172Z",
     "iopub.status.busy": "2020-12-12T04:00:31.101352Z",
     "iopub.status.idle": "2020-12-12T04:00:31.103293Z",
     "shell.execute_reply": "2020-12-12T04:00:31.104021Z"
    },
    "papermill": {
     "duration": 0.07318,
     "end_time": "2020-12-12T04:00:31.104190",
     "exception": false,
     "start_time": "2020-12-12T04:00:31.031010",
     "status": "completed"
    },
    "tags": []
   },
   "outputs": [],
   "source": [
    "if mock:\n",
    "    df_pred = env.get_predictions()"
   ]
  },
  {
   "cell_type": "markdown",
   "metadata": {
    "papermill": {
     "duration": 0.042872,
     "end_time": "2020-12-12T04:00:31.206883",
     "exception": false,
     "start_time": "2020-12-12T04:00:31.164011",
     "status": "completed"
    },
    "tags": []
   },
   "source": [
    "## Tests"
   ]
  },
  {
   "cell_type": "code",
   "execution_count": null,
   "metadata": {
    "execution": {
     "iopub.execute_input": "2020-12-12T04:00:31.309495Z",
     "iopub.status.busy": "2020-12-12T04:00:31.304254Z",
     "iopub.status.idle": "2020-12-12T04:00:31.333686Z",
     "shell.execute_reply": "2020-12-12T04:00:31.333131Z"
    },
    "papermill": {
     "duration": 0.083409,
     "end_time": "2020-12-12T04:00:31.333823",
     "exception": false,
     "start_time": "2020-12-12T04:00:31.250414",
     "status": "completed"
    },
    "tags": []
   },
   "outputs": [],
   "source": [
    "if False:\n",
    "\n",
    "    def get_test_batches():\n",
    "        return next(iter_test)[0], next(iter_test)[0]\n",
    "\n",
    "    df_batch_prior_test, df_batch_test = get_test_batches()\n",
    "\n",
    "    for _ in trange(100):\n",
    "        # iterate through test batches until on one that has lectures, is less than 20 records and has at least one user with multiple questions\n",
    "        while df_batch_prior_test.content_type_id.sum() == 0 or len(df_batch_prior_test) > 20 or df_batch_prior_test.user_id.value_counts().max() == 1:\n",
    "            df_batch_prior_test, df_batch_test = get_test_batches()\n",
    "\n",
    "        # get state before updating\n",
    "        records_test = df_batch_prior_test[df_batch_prior_test.content_type_id == 0][batch_cols].fillna(0).to_records(index=False)\n",
    "        df_batch_prior_test_state = pd.read_sql(select_state(batch_cols, records_test), conn)\n",
    "\n",
    "        # update state from questions\n",
    "        answers_test = eval(df_batch_test['prior_group_answers_correct'].iloc[0])\n",
    "        df_batch_prior_test['answered_correctly'] = answers_test\n",
    "        df_batch_prior_q_test = df_batch_prior_test[df_batch_prior_test.content_type_id == 0]\n",
    "        sql = update_state(df_batch_prior_q_test)\n",
    "        c.executescript(sql).fetchone()\n",
    "\n",
    "        # update state from lectures\n",
    "        df_batch_prior_l_test = df_batch_prior_test[df_batch_prior_test.content_type_id == 1]\n",
    "        sql = update_state_l(df_batch_prior_l_test)\n",
    "        c.executescript(sql).fetchone()\n",
    "\n",
    "        # get state after update\n",
    "        df_batch_prior_test_state_updated = pd.read_sql(select_state(batch_cols, records_test), conn)\n",
    "\n",
    "        # tests, yo!\n",
    "        assert len(answers_test) == len(df_batch_prior_test), \\\n",
    "                'len of answers from current not equal to len of prior'\n",
    "\n",
    "        assert (df_batch_prior_test_state.timestamp.values\n",
    "                == df_batch_prior_test[df_batch_prior_test.content_type_id == 0].timestamp.values).all(), \\\n",
    "                'timestamps returned from get_state should should be from batch'\n",
    "\n",
    "        assert (df_batch_prior_test_state_updated.timestamp == df_batch_prior_test_state.timestamp).all(), \\\n",
    "                'timestamps should all be the same after update'\n",
    "\n",
    "                # this will be greater when comparing users from consecutive batches, but comparing update of\n",
    "                # same batch here. it is the same because the database got update with the value from the \n",
    "                # current batch\n",
    "\n",
    "        assert (df_batch_prior_test_state.pqet_sec\n",
    "                == (df_batch_prior_test_state.prior_question_elapsed_time / 1000).astype(int)).all(), \\\n",
    "                'pqet_sec = prior_question_elapsed_time / 1000'\n",
    "\n",
    "        assert (df_batch_prior_test_state.ts_minute\n",
    "                == (df_batch_prior_test_state.timestamp / (1000 * 60)).astype(int)).all(), \\\n",
    "                'ts_minute = timestamp / (1000 * 60)'\n",
    "\n",
    "        r_cnt = df_batch_prior_test_state[['user_id', 'content_id']].groupby('user_id').count()\n",
    "        assert ((df_batch_prior_test_state['r_cumcnt'].add(df_batch_prior_test_state.user_id.map(r_cnt.content_id), axis='rows')\n",
    "                 == df_batch_prior_test_state_updated['r_cumcnt']).all()), \\\n",
    "                'r_cumcnt for each user should increment by number of questions in batch for each user'\n",
    "\n",
    "        l_cnt = df_batch_prior_test[['user_id', 'content_type_id']].groupby('user_id').sum()\n",
    "        assert ((df_batch_prior_test_state['lectures_cumcnt'].add(df_batch_prior_test_state.user_id.map(l_cnt.content_type_id), axis='rows')\n",
    "                 == df_batch_prior_test_state_updated['lectures_cumcnt']).all()), \\\n",
    "                'lectures_cumcnt for each user should increment by number of lectures in batch for each user'\n",
    "\n",
    "        assert ((df_batch_prior_test_state['r_cumcnt_clip']\n",
    "                 .add(df_batch_prior_test_state.user_id.map(r_cnt.content_id), axis='rows')\n",
    "                 .apply(lambda x: min(x, 300))\n",
    "                 == df_batch_prior_test_state_updated['r_cumcnt_clip']).all()), \\\n",
    "                'r_cumcnt_clip should increment by number of questions in batch for each user with max of 300'\n",
    "\n",
    "        ac_sum = df_batch_prior_test[['user_id', 'answered_correctly']].groupby('user_id').sum()\n",
    "        assert ((df_batch_prior_test_state['ac_cumsum'].add(df_batch_prior_test_state.user_id.map(ac_sum.answered_correctly), axis='rows')\n",
    "                 == df_batch_prior_test_state_updated['ac_cumsum']).all()), \\\n",
    "                'ac_cumsum for each user should increment by number of questions answered_correctly in batch for each user'\n",
    "\n",
    "        aic_sum = df_batch_prior_test[['user_id', 'answered_correctly']].copy()\n",
    "        aic_sum['answered_incorrectly'] = (aic_sum.answered_correctly == 0).astype(int)\n",
    "        aic_sum = aic_sum.groupby('user_id').sum()\n",
    "        assert ((df_batch_prior_test_state['aic_cumsum'].add(df_batch_prior_test_state.user_id.map(aic_sum.answered_incorrectly), axis='rows')\n",
    "                 == df_batch_prior_test_state_updated['aic_cumsum']).all()), \\\n",
    "                'aic_cumsum for each user should increment by number of questions answered_incorrectly in batch for each user'\n",
    "\n",
    "        assert (df_batch_prior_test_state_updated.session == df_batch_prior_test_state.session).all(), \\\n",
    "                'session should be the same if the change in timestamp is less than session_hours'\n",
    "\n",
    "        assert (df_batch_prior_test_state_updated.ac_cumsum_session\n",
    "                == df_batch_prior_test_state.ac_cumsum_session\n",
    "                    .add(df_batch_prior_test_state.user_id.map(ac_sum.answered_correctly), axis='rows')).all(), \\\n",
    "                'ac_cumsum_session should increment if timestamp is less than session_hours'\n",
    "\n",
    "        records_test_add_time = [r.copy() for r in records_test]\n",
    "        for r in records_test_add_time:\n",
    "            r.timestamp += (1000 * 60 * 60 * 73)\n",
    "        assert (pd.read_sql(select_state(batch_cols, records_test_add_time), conn).session\n",
    "                == df_batch_prior_test_state.session + 1).all(), \\\n",
    "                'session increments if change in timestamp delta is greater than session_hours'\n",
    "\n",
    "        assert ~pd.read_sql(select_state(batch_cols, records_test_add_time), conn).ac_cumsum_session.sum(), \\\n",
    "                'ac_cumsum_session should be zero if timestamp delta is greater than session_hours'\n",
    "\n",
    "        assert ~pd.read_sql(select_state(batch_cols, records_test_add_time), conn).aic_cumsum_session.sum(), \\\n",
    "                'aic_cumsum_session should be zero if timestamp delta is greater than session_hours'\n",
    "\n",
    "        assert ~pd.read_sql(select_state(batch_cols, records_test_add_time), conn).r_cumcnt_session.sum(), \\\n",
    "                'r_cumcnt_session should be zero if timestamp delta is greater than session_hours'\n",
    "\n",
    "        assert ~pd.read_sql(select_state(batch_cols, records_test_add_time), conn).lectures_cumcnt_session.sum(), \\\n",
    "                'lectures_cumcnt_session should be zero if timestamp delta is greater than session_hours'\n",
    "\n",
    "        ac_sum_part = df_batch_prior_test[['user_id', 'content_id', 'answered_correctly']][df_batch_prior_test.content_type_id == 0]\n",
    "        ac_sum_part['part'] = ac_sum_part.content_id.map(q_part_map)\n",
    "        ac_sum_part = ac_sum_part.groupby(['user_id', 'part'])['answered_correctly'].sum()\n",
    "        assert (df_batch_prior_test_state.set_index(['user_id', 'part']).ac_cumsum_part.add(ac_sum_part).reset_index()[0]\n",
    "                == df_batch_prior_test_state_updated['ac_cumsum_part']).all(), \\\n",
    "                'ac_cumsum_part for each user should increment by number of questions answered_correctly in batch for each user for each part'\n",
    "\n",
    "        aic_sum_part = df_batch_prior_test[['user_id', 'content_id', 'answered_correctly']][df_batch_prior_test.content_type_id == 0].copy()\n",
    "        aic_sum_part['answered_incorrectly'] = (aic_sum_part.answered_correctly == 0).astype(int)\n",
    "        aic_sum_part['part'] = aic_sum_part.content_id.map(q_part_map)\n",
    "        aic_sum_part = aic_sum_part.groupby(['user_id', 'part'])['answered_incorrectly'].sum()\n",
    "        assert (df_batch_prior_test_state.set_index(['user_id', 'part']).aic_cumsum_part.add(aic_sum_part).reset_index()[0]\n",
    "                == df_batch_prior_test_state_updated['aic_cumsum_part']).all(), \\\n",
    "                'aic_cumsum_part for each user should increment by number of questions answered incorrectly in batch for each user for each part'\n",
    "\n",
    "        user_tag_tuples = sum(df_batch_prior_test[df_batch_prior_test.content_type_id == 0]\n",
    "                          .apply(lambda r: [(r.user_id, t, r.answered_correctly) for\n",
    "                          t in q_tags_array_map[r.content_id]], axis=1), [])\n",
    "        r_cnt_tag = pd.DataFrame(user_tag_tuples, columns=['user_id', 'tag_0', 'answered_correctly'])\n",
    "        r_cnt_tag = r_cnt_tag.groupby(['user_id', 'tag_0']).count()\n",
    "        assert ((df_batch_prior_test_state.set_index(['user_id', 'tag_0'])\n",
    "                 .join(r_cnt_tag)['answered_correctly'].sort_index()\n",
    "                 + df_batch_prior_test_state.set_index(['user_id', 'tag_0']).r_cumcnt_tag_0.sort_index())\n",
    "                == df_batch_prior_test_state_updated.set_index(['user_id', 'tag_0']).r_cumcnt_tag_0.sort_index()).all(), \\\n",
    "                'r_cumcnt_tag_0 is incremented for each user for each tag in the batch'\n",
    "        \n",
    "        ac_sum_tag = pd.DataFrame(user_tag_tuples, columns=['user_id', 'tag_0', 'answered_correctly'])\n",
    "        ac_sum_tag = ac_sum_tag.groupby(['user_id', 'tag_0']).sum()\n",
    "        assert ((df_batch_prior_test_state.set_index(['user_id', 'tag_0'])\n",
    "                 .join(ac_sum_tag)['answered_correctly'].sort_index()\n",
    "                 + df_batch_prior_test_state.set_index(['user_id', 'tag_0']).ac_cumsum_tag_0.sort_index())\n",
    "                == df_batch_prior_test_state_updated.set_index(['user_id', 'tag_0']).ac_cumsum_tag_0.sort_index()).all(), \\\n",
    "                'ac_cumsum_tag_0 is incremented for each user for each tagged question answered_correctly in the batch'"
   ]
  }
 ],
 "metadata": {
  "environment": {
   "name": "tf2-2-3-gpu.2-3.m59",
   "type": "gcloud",
   "uri": "gcr.io/deeplearning-platform-release/tf2-2-3-gpu.2-3:m59"
  },
  "kernelspec": {
   "display_name": "Python 3",
   "language": "python",
   "name": "python3"
  },
  "language_info": {
   "codemirror_mode": {
    "name": "ipython",
    "version": 3
   },
   "file_extension": ".py",
   "mimetype": "text/x-python",
   "name": "python",
   "nbconvert_exporter": "python",
   "pygments_lexer": "ipython3",
   "version": "3.7.8"
  },
  "papermill": {
   "duration": 272.734691,
   "end_time": "2020-12-12T04:00:31.788327",
   "environment_variables": {},
   "exception": null,
   "input_path": "__notebook__.ipynb",
   "output_path": "__notebook__.ipynb",
   "parameters": {},
   "start_time": "2020-12-12T03:55:59.053636",
   "version": "2.1.0"
  },
  "toc": {
   "base_numbering": 1,
   "nav_menu": {},
   "number_sections": true,
   "sideBar": true,
   "skip_h1_title": false,
   "title_cell": "Table of Contents",
   "title_sidebar": "Contents",
   "toc_cell": false,
   "toc_position": {},
   "toc_section_display": true,
   "toc_window_display": false
  },
  "widgets": {
   "application/vnd.jupyter.widget-state+json": {
    "state": {
     "068a322421f949b490897caa3c9d00ed": {
      "model_module": "@jupyter-widgets/controls",
      "model_module_version": "1.5.0",
      "model_name": "ProgressStyleModel",
      "state": {
       "_model_module": "@jupyter-widgets/controls",
       "_model_module_version": "1.5.0",
       "_model_name": "ProgressStyleModel",
       "_view_count": null,
       "_view_module": "@jupyter-widgets/base",
       "_view_module_version": "1.2.0",
       "_view_name": "StyleView",
       "bar_color": null,
       "description_width": "initial"
      }
     },
     "1a9f541669104b89ae5b7ab4457387be": {
      "model_module": "@jupyter-widgets/controls",
      "model_module_version": "1.5.0",
      "model_name": "HBoxModel",
      "state": {
       "_dom_classes": [],
       "_model_module": "@jupyter-widgets/controls",
       "_model_module_version": "1.5.0",
       "_model_name": "HBoxModel",
       "_view_count": null,
       "_view_module": "@jupyter-widgets/controls",
       "_view_module_version": "1.5.0",
       "_view_name": "HBoxView",
       "box_style": "",
       "children": [
        "IPY_MODEL_48739ca417954896a4d033c2d215d703",
        "IPY_MODEL_433d2055633c458cb2d4afc38ce58b5b"
       ],
       "layout": "IPY_MODEL_e66c66ea900a4f2d9889ac7a05675c43"
      }
     },
     "253902ad531c4e0b8d1a16d8c5b2c658": {
      "model_module": "@jupyter-widgets/base",
      "model_module_version": "1.2.0",
      "model_name": "LayoutModel",
      "state": {
       "_model_module": "@jupyter-widgets/base",
       "_model_module_version": "1.2.0",
       "_model_name": "LayoutModel",
       "_view_count": null,
       "_view_module": "@jupyter-widgets/base",
       "_view_module_version": "1.2.0",
       "_view_name": "LayoutView",
       "align_content": null,
       "align_items": null,
       "align_self": null,
       "border": null,
       "bottom": null,
       "display": null,
       "flex": null,
       "flex_flow": null,
       "grid_area": null,
       "grid_auto_columns": null,
       "grid_auto_flow": null,
       "grid_auto_rows": null,
       "grid_column": null,
       "grid_gap": null,
       "grid_row": null,
       "grid_template_areas": null,
       "grid_template_columns": null,
       "grid_template_rows": null,
       "height": null,
       "justify_content": null,
       "justify_items": null,
       "left": null,
       "margin": null,
       "max_height": null,
       "max_width": null,
       "min_height": null,
       "min_width": null,
       "object_fit": null,
       "object_position": null,
       "order": null,
       "overflow": null,
       "overflow_x": null,
       "overflow_y": null,
       "padding": null,
       "right": null,
       "top": null,
       "visibility": null,
       "width": null
      }
     },
     "2b5b5d10d53844d0ae01360ffa49a416": {
      "model_module": "@jupyter-widgets/base",
      "model_module_version": "1.2.0",
      "model_name": "LayoutModel",
      "state": {
       "_model_module": "@jupyter-widgets/base",
       "_model_module_version": "1.2.0",
       "_model_name": "LayoutModel",
       "_view_count": null,
       "_view_module": "@jupyter-widgets/base",
       "_view_module_version": "1.2.0",
       "_view_name": "LayoutView",
       "align_content": null,
       "align_items": null,
       "align_self": null,
       "border": null,
       "bottom": null,
       "display": null,
       "flex": null,
       "flex_flow": null,
       "grid_area": null,
       "grid_auto_columns": null,
       "grid_auto_flow": null,
       "grid_auto_rows": null,
       "grid_column": null,
       "grid_gap": null,
       "grid_row": null,
       "grid_template_areas": null,
       "grid_template_columns": null,
       "grid_template_rows": null,
       "height": null,
       "justify_content": null,
       "justify_items": null,
       "left": null,
       "margin": null,
       "max_height": null,
       "max_width": null,
       "min_height": null,
       "min_width": null,
       "object_fit": null,
       "object_position": null,
       "order": null,
       "overflow": null,
       "overflow_x": null,
       "overflow_y": null,
       "padding": null,
       "right": null,
       "top": null,
       "visibility": null,
       "width": null
      }
     },
     "2c786524104945d2a59b1f187114888d": {
      "model_module": "@jupyter-widgets/base",
      "model_module_version": "1.2.0",
      "model_name": "LayoutModel",
      "state": {
       "_model_module": "@jupyter-widgets/base",
       "_model_module_version": "1.2.0",
       "_model_name": "LayoutModel",
       "_view_count": null,
       "_view_module": "@jupyter-widgets/base",
       "_view_module_version": "1.2.0",
       "_view_name": "LayoutView",
       "align_content": null,
       "align_items": null,
       "align_self": null,
       "border": null,
       "bottom": null,
       "display": null,
       "flex": null,
       "flex_flow": null,
       "grid_area": null,
       "grid_auto_columns": null,
       "grid_auto_flow": null,
       "grid_auto_rows": null,
       "grid_column": null,
       "grid_gap": null,
       "grid_row": null,
       "grid_template_areas": null,
       "grid_template_columns": null,
       "grid_template_rows": null,
       "height": null,
       "justify_content": null,
       "justify_items": null,
       "left": null,
       "margin": null,
       "max_height": null,
       "max_width": null,
       "min_height": null,
       "min_width": null,
       "object_fit": null,
       "object_position": null,
       "order": null,
       "overflow": null,
       "overflow_x": null,
       "overflow_y": null,
       "padding": null,
       "right": null,
       "top": null,
       "visibility": null,
       "width": null
      }
     },
     "433d2055633c458cb2d4afc38ce58b5b": {
      "model_module": "@jupyter-widgets/controls",
      "model_module_version": "1.5.0",
      "model_name": "HTMLModel",
      "state": {
       "_dom_classes": [],
       "_model_module": "@jupyter-widgets/controls",
       "_model_module_version": "1.5.0",
       "_model_name": "HTMLModel",
       "_view_count": null,
       "_view_module": "@jupyter-widgets/controls",
       "_view_module_version": "1.5.0",
       "_view_name": "HTMLView",
       "description": "",
       "description_tooltip": null,
       "layout": "IPY_MODEL_e2eed71596014673a7abedbf25e9c500",
       "placeholder": "​",
       "style": "IPY_MODEL_89c65b4227434e16b6450db43dded844",
       "value": " 1217/1217 [00:50&lt;00:00, 24.08it/s]"
      }
     },
     "48739ca417954896a4d033c2d215d703": {
      "model_module": "@jupyter-widgets/controls",
      "model_module_version": "1.5.0",
      "model_name": "FloatProgressModel",
      "state": {
       "_dom_classes": [],
       "_model_module": "@jupyter-widgets/controls",
       "_model_module_version": "1.5.0",
       "_model_name": "FloatProgressModel",
       "_view_count": null,
       "_view_module": "@jupyter-widgets/controls",
       "_view_module_version": "1.5.0",
       "_view_name": "ProgressView",
       "bar_style": "success",
       "description": "100%",
       "description_tooltip": null,
       "layout": "IPY_MODEL_2c786524104945d2a59b1f187114888d",
       "max": 1217,
       "min": 0,
       "orientation": "horizontal",
       "style": "IPY_MODEL_068a322421f949b490897caa3c9d00ed",
       "value": 1217
      }
     },
     "5ae3b3a71a2042088729da0ffb5e1dbc": {
      "model_module": "@jupyter-widgets/base",
      "model_module_version": "1.2.0",
      "model_name": "LayoutModel",
      "state": {
       "_model_module": "@jupyter-widgets/base",
       "_model_module_version": "1.2.0",
       "_model_name": "LayoutModel",
       "_view_count": null,
       "_view_module": "@jupyter-widgets/base",
       "_view_module_version": "1.2.0",
       "_view_name": "LayoutView",
       "align_content": null,
       "align_items": null,
       "align_self": null,
       "border": null,
       "bottom": null,
       "display": null,
       "flex": null,
       "flex_flow": null,
       "grid_area": null,
       "grid_auto_columns": null,
       "grid_auto_flow": null,
       "grid_auto_rows": null,
       "grid_column": null,
       "grid_gap": null,
       "grid_row": null,
       "grid_template_areas": null,
       "grid_template_columns": null,
       "grid_template_rows": null,
       "height": null,
       "justify_content": null,
       "justify_items": null,
       "left": null,
       "margin": null,
       "max_height": null,
       "max_width": null,
       "min_height": null,
       "min_width": null,
       "object_fit": null,
       "object_position": null,
       "order": null,
       "overflow": null,
       "overflow_x": null,
       "overflow_y": null,
       "padding": null,
       "right": null,
       "top": null,
       "visibility": null,
       "width": null
      }
     },
     "5c466073077f4e238b0114f8498b8647": {
      "model_module": "@jupyter-widgets/base",
      "model_module_version": "1.2.0",
      "model_name": "LayoutModel",
      "state": {
       "_model_module": "@jupyter-widgets/base",
       "_model_module_version": "1.2.0",
       "_model_name": "LayoutModel",
       "_view_count": null,
       "_view_module": "@jupyter-widgets/base",
       "_view_module_version": "1.2.0",
       "_view_name": "LayoutView",
       "align_content": null,
       "align_items": null,
       "align_self": null,
       "border": null,
       "bottom": null,
       "display": null,
       "flex": null,
       "flex_flow": null,
       "grid_area": null,
       "grid_auto_columns": null,
       "grid_auto_flow": null,
       "grid_auto_rows": null,
       "grid_column": null,
       "grid_gap": null,
       "grid_row": null,
       "grid_template_areas": null,
       "grid_template_columns": null,
       "grid_template_rows": null,
       "height": null,
       "justify_content": null,
       "justify_items": null,
       "left": null,
       "margin": null,
       "max_height": null,
       "max_width": null,
       "min_height": null,
       "min_width": null,
       "object_fit": null,
       "object_position": null,
       "order": null,
       "overflow": null,
       "overflow_x": null,
       "overflow_y": null,
       "padding": null,
       "right": null,
       "top": null,
       "visibility": null,
       "width": null
      }
     },
     "5e2a06d0418e47baac37e884caeae06d": {
      "model_module": "@jupyter-widgets/controls",
      "model_module_version": "1.5.0",
      "model_name": "ProgressStyleModel",
      "state": {
       "_model_module": "@jupyter-widgets/controls",
       "_model_module_version": "1.5.0",
       "_model_name": "ProgressStyleModel",
       "_view_count": null,
       "_view_module": "@jupyter-widgets/base",
       "_view_module_version": "1.2.0",
       "_view_name": "StyleView",
       "bar_color": null,
       "description_width": "initial"
      }
     },
     "60130f6c8647481bbde42eae92bad6c8": {
      "model_module": "@jupyter-widgets/base",
      "model_module_version": "1.2.0",
      "model_name": "LayoutModel",
      "state": {
       "_model_module": "@jupyter-widgets/base",
       "_model_module_version": "1.2.0",
       "_model_name": "LayoutModel",
       "_view_count": null,
       "_view_module": "@jupyter-widgets/base",
       "_view_module_version": "1.2.0",
       "_view_name": "LayoutView",
       "align_content": null,
       "align_items": null,
       "align_self": null,
       "border": null,
       "bottom": null,
       "display": null,
       "flex": null,
       "flex_flow": null,
       "grid_area": null,
       "grid_auto_columns": null,
       "grid_auto_flow": null,
       "grid_auto_rows": null,
       "grid_column": null,
       "grid_gap": null,
       "grid_row": null,
       "grid_template_areas": null,
       "grid_template_columns": null,
       "grid_template_rows": null,
       "height": null,
       "justify_content": null,
       "justify_items": null,
       "left": null,
       "margin": null,
       "max_height": null,
       "max_width": null,
       "min_height": null,
       "min_width": null,
       "object_fit": null,
       "object_position": null,
       "order": null,
       "overflow": null,
       "overflow_x": null,
       "overflow_y": null,
       "padding": null,
       "right": null,
       "top": null,
       "visibility": null,
       "width": null
      }
     },
     "695fec69aea8469da2675d6c6db5207f": {
      "model_module": "@jupyter-widgets/controls",
      "model_module_version": "1.5.0",
      "model_name": "DescriptionStyleModel",
      "state": {
       "_model_module": "@jupyter-widgets/controls",
       "_model_module_version": "1.5.0",
       "_model_name": "DescriptionStyleModel",
       "_view_count": null,
       "_view_module": "@jupyter-widgets/base",
       "_view_module_version": "1.2.0",
       "_view_name": "StyleView",
       "description_width": ""
      }
     },
     "89c65b4227434e16b6450db43dded844": {
      "model_module": "@jupyter-widgets/controls",
      "model_module_version": "1.5.0",
      "model_name": "DescriptionStyleModel",
      "state": {
       "_model_module": "@jupyter-widgets/controls",
       "_model_module_version": "1.5.0",
       "_model_name": "DescriptionStyleModel",
       "_view_count": null,
       "_view_module": "@jupyter-widgets/base",
       "_view_module_version": "1.2.0",
       "_view_name": "StyleView",
       "description_width": ""
      }
     },
     "8f6fd6593eea4351bd6bfbbf9d93f17c": {
      "model_module": "@jupyter-widgets/controls",
      "model_module_version": "1.5.0",
      "model_name": "FloatProgressModel",
      "state": {
       "_dom_classes": [],
       "_model_module": "@jupyter-widgets/controls",
       "_model_module_version": "1.5.0",
       "_model_name": "FloatProgressModel",
       "_view_count": null,
       "_view_module": "@jupyter-widgets/controls",
       "_view_module_version": "1.5.0",
       "_view_name": "ProgressView",
       "bar_style": "success",
       "description": "100%",
       "description_tooltip": null,
       "layout": "IPY_MODEL_5c466073077f4e238b0114f8498b8647",
       "max": 4436,
       "min": 0,
       "orientation": "horizontal",
       "style": "IPY_MODEL_5e2a06d0418e47baac37e884caeae06d",
       "value": 4436
      }
     },
     "95ca87cd6a974798af21c2720c2db913": {
      "model_module": "@jupyter-widgets/controls",
      "model_module_version": "1.5.0",
      "model_name": "DescriptionStyleModel",
      "state": {
       "_model_module": "@jupyter-widgets/controls",
       "_model_module_version": "1.5.0",
       "_model_name": "DescriptionStyleModel",
       "_view_count": null,
       "_view_module": "@jupyter-widgets/base",
       "_view_module_version": "1.2.0",
       "_view_name": "StyleView",
       "description_width": ""
      }
     },
     "96728bcb6b674ec0a5eaa39179f5fba3": {
      "model_module": "@jupyter-widgets/controls",
      "model_module_version": "1.5.0",
      "model_name": "ProgressStyleModel",
      "state": {
       "_model_module": "@jupyter-widgets/controls",
       "_model_module_version": "1.5.0",
       "_model_name": "ProgressStyleModel",
       "_view_count": null,
       "_view_module": "@jupyter-widgets/base",
       "_view_module_version": "1.2.0",
       "_view_name": "StyleView",
       "bar_color": null,
       "description_width": "initial"
      }
     },
     "96e804a49fc94b54b7392fd0d6817d06": {
      "model_module": "@jupyter-widgets/controls",
      "model_module_version": "1.5.0",
      "model_name": "HTMLModel",
      "state": {
       "_dom_classes": [],
       "_model_module": "@jupyter-widgets/controls",
       "_model_module_version": "1.5.0",
       "_model_name": "HTMLModel",
       "_view_count": null,
       "_view_module": "@jupyter-widgets/controls",
       "_view_module_version": "1.5.0",
       "_view_name": "HTMLView",
       "description": "",
       "description_tooltip": null,
       "layout": "IPY_MODEL_2b5b5d10d53844d0ae01360ffa49a416",
       "placeholder": "​",
       "style": "IPY_MODEL_695fec69aea8469da2675d6c6db5207f",
       "value": " 4436/4436 [02:51&lt;00:00, 25.86it/s]"
      }
     },
     "b7229e8fdc3a4ae5832a1717504da5ea": {
      "model_module": "@jupyter-widgets/controls",
      "model_module_version": "1.5.0",
      "model_name": "HBoxModel",
      "state": {
       "_dom_classes": [],
       "_model_module": "@jupyter-widgets/controls",
       "_model_module_version": "1.5.0",
       "_model_name": "HBoxModel",
       "_view_count": null,
       "_view_module": "@jupyter-widgets/controls",
       "_view_module_version": "1.5.0",
       "_view_name": "HBoxView",
       "box_style": "",
       "children": [
        "IPY_MODEL_b9e637ea411a4845b5ee0f41ea6e8e86",
        "IPY_MODEL_ef3796e257a143968fda7c607cebf5d7"
       ],
       "layout": "IPY_MODEL_c39b84d5b79046069cebc251d84de13d"
      }
     },
     "b9e637ea411a4845b5ee0f41ea6e8e86": {
      "model_module": "@jupyter-widgets/controls",
      "model_module_version": "1.5.0",
      "model_name": "FloatProgressModel",
      "state": {
       "_dom_classes": [],
       "_model_module": "@jupyter-widgets/controls",
       "_model_module_version": "1.5.0",
       "_model_name": "FloatProgressModel",
       "_view_count": null,
       "_view_module": "@jupyter-widgets/controls",
       "_view_module_version": "1.5.0",
       "_view_name": "ProgressView",
       "bar_style": "success",
       "description": "100%",
       "description_tooltip": null,
       "layout": "IPY_MODEL_60130f6c8647481bbde42eae92bad6c8",
       "max": 92,
       "min": 0,
       "orientation": "horizontal",
       "style": "IPY_MODEL_96728bcb6b674ec0a5eaa39179f5fba3",
       "value": 92
      }
     },
     "c39b84d5b79046069cebc251d84de13d": {
      "model_module": "@jupyter-widgets/base",
      "model_module_version": "1.2.0",
      "model_name": "LayoutModel",
      "state": {
       "_model_module": "@jupyter-widgets/base",
       "_model_module_version": "1.2.0",
       "_model_name": "LayoutModel",
       "_view_count": null,
       "_view_module": "@jupyter-widgets/base",
       "_view_module_version": "1.2.0",
       "_view_name": "LayoutView",
       "align_content": null,
       "align_items": null,
       "align_self": null,
       "border": null,
       "bottom": null,
       "display": null,
       "flex": null,
       "flex_flow": null,
       "grid_area": null,
       "grid_auto_columns": null,
       "grid_auto_flow": null,
       "grid_auto_rows": null,
       "grid_column": null,
       "grid_gap": null,
       "grid_row": null,
       "grid_template_areas": null,
       "grid_template_columns": null,
       "grid_template_rows": null,
       "height": null,
       "justify_content": null,
       "justify_items": null,
       "left": null,
       "margin": null,
       "max_height": null,
       "max_width": null,
       "min_height": null,
       "min_width": null,
       "object_fit": null,
       "object_position": null,
       "order": null,
       "overflow": null,
       "overflow_x": null,
       "overflow_y": null,
       "padding": null,
       "right": null,
       "top": null,
       "visibility": null,
       "width": null
      }
     },
     "e2eed71596014673a7abedbf25e9c500": {
      "model_module": "@jupyter-widgets/base",
      "model_module_version": "1.2.0",
      "model_name": "LayoutModel",
      "state": {
       "_model_module": "@jupyter-widgets/base",
       "_model_module_version": "1.2.0",
       "_model_name": "LayoutModel",
       "_view_count": null,
       "_view_module": "@jupyter-widgets/base",
       "_view_module_version": "1.2.0",
       "_view_name": "LayoutView",
       "align_content": null,
       "align_items": null,
       "align_self": null,
       "border": null,
       "bottom": null,
       "display": null,
       "flex": null,
       "flex_flow": null,
       "grid_area": null,
       "grid_auto_columns": null,
       "grid_auto_flow": null,
       "grid_auto_rows": null,
       "grid_column": null,
       "grid_gap": null,
       "grid_row": null,
       "grid_template_areas": null,
       "grid_template_columns": null,
       "grid_template_rows": null,
       "height": null,
       "justify_content": null,
       "justify_items": null,
       "left": null,
       "margin": null,
       "max_height": null,
       "max_width": null,
       "min_height": null,
       "min_width": null,
       "object_fit": null,
       "object_position": null,
       "order": null,
       "overflow": null,
       "overflow_x": null,
       "overflow_y": null,
       "padding": null,
       "right": null,
       "top": null,
       "visibility": null,
       "width": null
      }
     },
     "e66c66ea900a4f2d9889ac7a05675c43": {
      "model_module": "@jupyter-widgets/base",
      "model_module_version": "1.2.0",
      "model_name": "LayoutModel",
      "state": {
       "_model_module": "@jupyter-widgets/base",
       "_model_module_version": "1.2.0",
       "_model_name": "LayoutModel",
       "_view_count": null,
       "_view_module": "@jupyter-widgets/base",
       "_view_module_version": "1.2.0",
       "_view_name": "LayoutView",
       "align_content": null,
       "align_items": null,
       "align_self": null,
       "border": null,
       "bottom": null,
       "display": null,
       "flex": null,
       "flex_flow": null,
       "grid_area": null,
       "grid_auto_columns": null,
       "grid_auto_flow": null,
       "grid_auto_rows": null,
       "grid_column": null,
       "grid_gap": null,
       "grid_row": null,
       "grid_template_areas": null,
       "grid_template_columns": null,
       "grid_template_rows": null,
       "height": null,
       "justify_content": null,
       "justify_items": null,
       "left": null,
       "margin": null,
       "max_height": null,
       "max_width": null,
       "min_height": null,
       "min_width": null,
       "object_fit": null,
       "object_position": null,
       "order": null,
       "overflow": null,
       "overflow_x": null,
       "overflow_y": null,
       "padding": null,
       "right": null,
       "top": null,
       "visibility": null,
       "width": null
      }
     },
     "ef3796e257a143968fda7c607cebf5d7": {
      "model_module": "@jupyter-widgets/controls",
      "model_module_version": "1.5.0",
      "model_name": "HTMLModel",
      "state": {
       "_dom_classes": [],
       "_model_module": "@jupyter-widgets/controls",
       "_model_module_version": "1.5.0",
       "_model_name": "HTMLModel",
       "_view_count": null,
       "_view_module": "@jupyter-widgets/controls",
       "_view_module_version": "1.5.0",
       "_view_name": "HTMLView",
       "description": "",
       "description_tooltip": null,
       "layout": "IPY_MODEL_5ae3b3a71a2042088729da0ffb5e1dbc",
       "placeholder": "​",
       "style": "IPY_MODEL_95ca87cd6a974798af21c2720c2db913",
       "value": " 92/92 [00:03&lt;00:00, 24.71it/s]"
      }
     },
     "f1891465e24e4cc3b9ebe7b4e1d971da": {
      "model_module": "@jupyter-widgets/controls",
      "model_module_version": "1.5.0",
      "model_name": "HBoxModel",
      "state": {
       "_dom_classes": [],
       "_model_module": "@jupyter-widgets/controls",
       "_model_module_version": "1.5.0",
       "_model_name": "HBoxModel",
       "_view_count": null,
       "_view_module": "@jupyter-widgets/controls",
       "_view_module_version": "1.5.0",
       "_view_name": "HBoxView",
       "box_style": "",
       "children": [
        "IPY_MODEL_8f6fd6593eea4351bd6bfbbf9d93f17c",
        "IPY_MODEL_96e804a49fc94b54b7392fd0d6817d06"
       ],
       "layout": "IPY_MODEL_253902ad531c4e0b8d1a16d8c5b2c658"
      }
     }
    },
    "version_major": 2,
    "version_minor": 0
   }
  }
 },
 "nbformat": 4,
 "nbformat_minor": 4
}
